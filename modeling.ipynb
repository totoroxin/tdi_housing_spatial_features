{
 "cells": [
  {
   "cell_type": "markdown",
   "metadata": {},
   "source": [
    "# Analyses on social-spatial data and gross rent"
   ]
  },
  {
   "cell_type": "code",
   "execution_count": 2,
   "metadata": {},
   "outputs": [],
   "source": [
    "import numpy as np\n",
    "import collections\n",
    "import pandas as pd\n",
    "import pickle\n",
    "import json\n",
    "\n",
    "import seaborn as sns\n",
    "import matplotlib.pyplot as plt\n",
    "%matplotlib inline\n",
    "\n",
    "import geopandas as gpd\n",
    "from IPython.display import GeoJSON"
   ]
  },
  {
   "cell_type": "markdown",
   "metadata": {},
   "source": [
    "- a dataframe with spatial factors and gross rent but without geoinfo"
   ]
  },
  {
   "cell_type": "code",
   "execution_count": 3,
   "metadata": {},
   "outputs": [],
   "source": [
    "all_df = pd.read_parquet('data_aarp_census/nj_ny_merged_with_census.parquet')"
   ]
  },
  {
   "cell_type": "code",
   "execution_count": 4,
   "metadata": {},
   "outputs": [],
   "source": [
    "df = all_df[(all_df['B25058_001E'] > 0) & (all_df['total_score'] > 0)]\n",
    "df = df.rename(columns={'B25058_001E': 'med_rent'})\n",
    "df = df.drop(['up_mobile', 'engage_vol'], axis=1)"
   ]
  },
  {
   "cell_type": "code",
   "execution_count": 5,
   "metadata": {},
   "outputs": [],
   "source": [
    "county_nj_ny = pd.read_csv('data_aarp_census/census/county_index.txt', delimiter= '\\t', index_col=False, header=None, names=['state', 'county', 'county_name'], dtype=str)"
   ]
  },
  {
   "cell_type": "code",
   "execution_count": 6,
   "metadata": {},
   "outputs": [],
   "source": [
    "df = df.merge(county_nj_ny, how='left', on=['state', 'county'])"
   ]
  },
  {
   "cell_type": "raw",
   "metadata": {},
   "source": [
    "df.info()"
   ]
  },
  {
   "cell_type": "raw",
   "metadata": {},
   "source": [
    "df[['tract', 'engage_social','engage_civic', 'engage_culture', 'engage_vote', 'engage_broad']].groupby('tract').mean()"
   ]
  },
  {
   "cell_type": "markdown",
   "metadata": {},
   "source": [
    "- Subsets of integrated data for modeling"
   ]
  },
  {
   "cell_type": "code",
   "execution_count": 63,
   "metadata": {},
   "outputs": [],
   "source": [
    "loc_rent = ['GEOID', 'state', 'county', 'tract', 'block group', 'county_name', 'med_rent']\n",
    "tot_lst = ['total_score', 'engagement', 'environment', 'health', 'housing', 'opportunity', 'neighborhood', 'transportation']\n",
    "demog = ['median_inc', 'life_ex', 'pct_50plus', 'pct_65plus', 'pct_africa', 'pct_asian', 'pct_disabi', 'pct_hispan', 'pct_novehi', 'pct_povert']\n",
    "hs = ['house_access', 'house_burden', 'house_cost', 'house_multifam', 'house_subsidy']\n",
    "eng = ['engage_broad', 'engage_civic', 'engage_culture', 'engage_social', 'engage_vote']\n",
    "env = ['env_air_qual', 'env_pollute', 'env_road', 'env_water']\n",
    "hlth = ['health_exercise', 'health_hospital', 'health_obese', 'health_sate', 'health_short', 'health_smoke']\n",
    "ngb = ['prox_activity', 'prox_auto', 'prox_land_use', 'prox_lib', 'prox_markets', 'prox_parks', 'prox_sec', 'prox_trans', 'prox_vacant']\n",
    "trns = ['trans_access', 'trans_cost', 'trans_delay', 'trans_fatal', 'trans_freq', 'trans_speed_lim', 'trans_walk_trip']\n",
    "opp = ['opp_age', 'opp_grad', 'opp_income', 'opp_jobs']"
   ]
  },
  {
   "cell_type": "code",
   "execution_count": 64,
   "metadata": {},
   "outputs": [],
   "source": [
    "tot_df = df[loc_rent + tot_lst]\n",
    "sub_df = df[loc_rent + demog + eng + env + hlth + ngb + trns + opp]"
   ]
  },
  {
   "cell_type": "code",
   "execution_count": 45,
   "metadata": {},
   "outputs": [
    {
     "data": {
      "text/plain": [
       "(16364, 42)"
      ]
     },
     "execution_count": 45,
     "metadata": {},
     "output_type": "execute_result"
    }
   ],
   "source": [
    "sub_df.shape"
   ]
  },
  {
   "cell_type": "markdown",
   "metadata": {},
   "source": [
    "- a datafram with geo info"
   ]
  },
  {
   "cell_type": "code",
   "execution_count": 7,
   "metadata": {},
   "outputs": [],
   "source": [
    "# geodf = pd.read_file('data_aarp_census/nj_ny_geoid.geojson')"
   ]
  },
  {
   "cell_type": "raw",
   "metadata": {},
   "source": [
    "GeoJSON(json.loads(geodf.to_json()))"
   ]
  },
  {
   "cell_type": "code",
   "execution_count": null,
   "metadata": {},
   "outputs": [],
   "source": []
  },
  {
   "cell_type": "code",
   "execution_count": 33,
   "metadata": {},
   "outputs": [
    {
     "data": {
      "text/plain": [
       "array([[<matplotlib.axes._subplots.AxesSubplot object at 0x00000280800FDEB0>]],\n",
       "      dtype=object)"
      ]
     },
     "execution_count": 33,
     "metadata": {},
     "output_type": "execute_result"
    },
    {
     "data": {
      "image/png": "[encoded data removed]",
      "text/plain": [
       "<Figure size 432x288 with 1 Axes>"
      ]
     },
     "metadata": {
      "needs_background": "light"
     },
     "output_type": "display_data"
    }
   ],
   "source": [
    "df.hist('med_rent')"
   ]
  },
  {
   "cell_type": "code",
   "execution_count": 22,
   "metadata": {},
   "outputs": [
    {
     "data": {
      "text/plain": [
       "80.0    4573\n",
       "78.0    3695\n",
       "82.0    2887\n",
       "79.0    2737\n",
       "81.0    2085\n",
       "77.0     346\n",
       "76.0      41\n",
       "Name: life_ex, dtype: int64"
      ]
     },
     "execution_count": 22,
     "metadata": {},
     "output_type": "execute_result"
    }
   ],
   "source": [
    "df['life_ex'].value_counts()"
   ]
  },
  {
   "cell_type": "code",
   "execution_count": 23,
   "metadata": {},
   "outputs": [
    {
     "data": {
      "text/plain": [
       "42.0    3136\n",
       "47.0    2754\n",
       "39.0    2398\n",
       "43.0    1873\n",
       "44.0    1415\n",
       "45.0    1340\n",
       "41.0    1095\n",
       "50.0     629\n",
       "40.0     560\n",
       "52.0     552\n",
       "46.0     464\n",
       "48.0     100\n",
       "51.0      48\n",
       "Name: up_mobile, dtype: int64"
      ]
     },
     "execution_count": 23,
     "metadata": {},
     "output_type": "execute_result"
    }
   ],
   "source": [
    "df['up_mobile'].value_counts()"
   ]
  },
  {
   "cell_type": "code",
   "execution_count": 47,
   "metadata": {},
   "outputs": [],
   "source": [
    "sns.set_palette(\"GnBu_d\")\n",
    "sns.set_style('whitegrid')"
   ]
  },
  {
   "cell_type": "raw",
   "metadata": {},
   "source": [
    "sns.pairplot(tot_df.drop('state', axis=1))"
   ]
  },
  {
   "cell_type": "code",
   "execution_count": 66,
   "metadata": {},
   "outputs": [
    {
     "data": {
      "text/plain": [
       "state             0\n",
       "med_rent          0\n",
       "total_score       0\n",
       "engagement        0\n",
       "environment       0\n",
       "health            0\n",
       "housing           0\n",
       "neighborhood      0\n",
       "opportunity       0\n",
       "transportation    0\n",
       "dtype: int64"
      ]
     },
     "execution_count": 66,
     "metadata": {},
     "output_type": "execute_result"
    }
   ],
   "source": [
    "tot_df.isnull().sum()"
   ]
  },
  {
   "cell_type": "code",
   "execution_count": 68,
   "metadata": {},
   "outputs": [
    {
     "data": {
      "text/plain": [
       "(16364, 10)"
      ]
     },
     "execution_count": 68,
     "metadata": {},
     "output_type": "execute_result"
    }
   ],
   "source": [
    "tot_df.shape"
   ]
  },
  {
   "cell_type": "code",
   "execution_count": null,
   "metadata": {},
   "outputs": [],
   "source": []
  },
  {
   "cell_type": "code",
   "execution_count": null,
   "metadata": {},
   "outputs": [],
   "source": []
  },
  {
   "cell_type": "markdown",
   "metadata": {},
   "source": [
    "## Prediction Models"
   ]
  },
  {
   "cell_type": "code",
   "execution_count": 9,
   "metadata": {},
   "outputs": [],
   "source": [
    "from sklearn import metrics\n",
    "from sklearn.model_selection import train_test_split\n",
    "\n",
    "from sklearn.preprocessing import StandardScaler"
   ]
  },
  {
   "cell_type": "markdown",
   "metadata": {},
   "source": [
    "### 1. Linear regression for predictior group 1: overall livability ratings\n",
    "\n",
    "I observed some plausible linear trends from above pairplots. Therefore the first testing model could be a linear regression when using overall livability socres containing six aspects to predict rental prices."
   ]
  },
  {
   "cell_type": "code",
   "execution_count": 10,
   "metadata": {},
   "outputs": [],
   "source": [
    "from sklearn.linear_model import LinearRegression"
   ]
  },
  {
   "cell_type": "code",
   "execution_count": 11,
   "metadata": {},
   "outputs": [
    {
     "data": {
      "text/plain": [
       "['GEOID',\n",
       " 'state',\n",
       " 'county',\n",
       " 'tract',\n",
       " 'block group',\n",
       " 'county_name',\n",
       " 'med_rent',\n",
       " 'total_score']"
      ]
     },
     "execution_count": 11,
     "metadata": {},
     "output_type": "execute_result"
    }
   ],
   "source": [
    "loc_rent + ['total_score']"
   ]
  },
  {
   "cell_type": "code",
   "execution_count": 55,
   "metadata": {},
   "outputs": [],
   "source": [
    "# create subset: overall livability\n",
    "y = tot_df['med_rent']\n",
    "X = tot_df.drop(loc_rent + ['total_score'], axis=1)"
   ]
  },
  {
   "cell_type": "code",
   "execution_count": null,
   "metadata": {},
   "outputs": [],
   "source": [
    "scaler = StandardScaler()\n",
    "scaler.fit(X)         \n",
    "X_trans = scaler.transform(X)  "
   ]
  },
  {
   "cell_type": "code",
   "execution_count": 52,
   "metadata": {},
   "outputs": [],
   "source": [
    "X_train, X_test, y_train, y_test = train_test_split(X_trans, y, test_size=0.3, random_state=101)"
   ]
  },
  {
   "cell_type": "code",
   "execution_count": 54,
   "metadata": {},
   "outputs": [],
   "source": [
    "lm = LinearRegression()"
   ]
  },
  {
   "cell_type": "code",
   "execution_count": 55,
   "metadata": {},
   "outputs": [
    {
     "name": "stdout",
     "output_type": "stream",
     "text": [
      "Coefficient:\n",
      "[ -0.80042269  -1.78082446  -1.28724158  10.68944532 -18.03894556\n",
      "   7.5845363   -4.32643942   1.55651059]\n"
     ]
    }
   ],
   "source": [
    "lm.fit(X_train, y_train)\n",
    "print(f'Coefficient:\\n{lm.coef_}')"
   ]
  },
  {
   "cell_type": "markdown",
   "metadata": {},
   "source": [
    "- Evaluate the model"
   ]
  },
  {
   "cell_type": "code",
   "execution_count": 74,
   "metadata": {},
   "outputs": [
    {
     "data": {
      "text/plain": [
       "0.5860175894461843"
      ]
     },
     "execution_count": 74,
     "metadata": {},
     "output_type": "execute_result"
    }
   ],
   "source": [
    "predictions_trn = lm.predict(X_train)\n",
    "r2_score(y_train, predictions_trn, multioutput='variance_weighted')"
   ]
  },
  {
   "cell_type": "code",
   "execution_count": 16,
   "metadata": {},
   "outputs": [],
   "source": [
    "# from sklearn import metrics\n",
    "\n",
    "# print('MAE:', metrics.mean_absolute_error(y_test, predictions))\n",
    "# print('MSE:', metrics.mean_squared_error(y_test, predictions))\n",
    "# print('RMSE:', np.sqrt(metrics.mean_squared_error(y_test, predictions)))"
   ]
  },
  {
   "cell_type": "raw",
   "metadata": {},
   "source": [
    "plt.rcParams['figure.figsize'] = [6, 6]\n",
    "# Residuals\n",
    "sns.distplot((y_test-predictions),bins=50);"
   ]
  },
  {
   "cell_type": "code",
   "execution_count": 76,
   "metadata": {},
   "outputs": [
    {
     "data": {
      "text/plain": [
       "0.5833009995270523"
      ]
     },
     "execution_count": 76,
     "metadata": {},
     "output_type": "execute_result"
    }
   ],
   "source": [
    "predictions_tst = lm.predict(X_test)\n",
    "r2_score(y_test, predictions_tst, multioutput='variance_weighted')"
   ]
  },
  {
   "cell_type": "code",
   "execution_count": 77,
   "metadata": {},
   "outputs": [
    {
     "data": {
      "text/plain": [
       "[Text(0, 0.5, 'Predicted rents'), Text(0.5, 0, 'True rents')]"
      ]
     },
     "execution_count": 77,
     "metadata": {},
     "output_type": "execute_result"
    },
    {
     "data": {
      "image/png": "[encoded data removed]",
      "text/plain": [
       "<Figure size 432x432 with 1 Axes>"
      ]
     },
     "metadata": {},
     "output_type": "display_data"
    }
   ],
   "source": [
    "fig = sns.regplot(x=y_test, y = predictions_tst)\n",
    "fig.set(xlabel = 'True rents', ylabel= 'Predicted rents')"
   ]
  },
  {
   "cell_type": "markdown",
   "metadata": {},
   "source": [
    "The results from linear regression had a high bias with a low R-square."
   ]
  },
  {
   "cell_type": "markdown",
   "metadata": {},
   "source": [
    "- Correlations between overall livability scores and average rents"
   ]
  },
  {
   "cell_type": "code",
   "execution_count": 78,
   "metadata": {},
   "outputs": [],
   "source": [
    "import statsmodels.api as sm\n",
    "from scipy import stats"
   ]
  },
  {
   "cell_type": "code",
   "execution_count": 79,
   "metadata": {},
   "outputs": [
    {
     "name": "stdout",
     "output_type": "stream",
     "text": [
      "                            OLS Regression Results                            \n",
      "==============================================================================\n",
      "Dep. Variable:               med_rent   R-squared:                       0.585\n",
      "Model:                            OLS   Adj. R-squared:                  0.585\n",
      "Method:                 Least Squares   F-statistic:                     3299.\n",
      "Date:                Mon, 12 Oct 2020   Prob (F-statistic):               0.00\n",
      "Time:                        17:10:40   Log-Likelihood:            -1.1883e+05\n",
      "No. Observations:               16364   AIC:                         2.377e+05\n",
      "Df Residuals:                   16356   BIC:                         2.377e+05\n",
      "Df Model:                           7                                         \n",
      "Covariance Type:            nonrobust                                         \n",
      "==================================================================================\n",
      "                     coef    std err          t      P>|t|      [0.025      0.975]\n",
      "----------------------------------------------------------------------------------\n",
      "const           1324.5448     32.082     41.286      0.000    1261.660    1387.430\n",
      "total_score       -0.8703      0.076    -11.467      0.000      -1.019      -0.722\n",
      "engagement        -1.9521      0.247     -7.911      0.000      -2.436      -1.468\n",
      "environment       -1.0493      0.202     -5.194      0.000      -1.445      -0.653\n",
      "health            10.5757      0.260     40.675      0.000      10.066      11.085\n",
      "housing          -18.2700      0.192    -95.377      0.000     -18.646     -17.895\n",
      "neighborhood       7.5858      0.276     27.465      0.000       7.044       8.127\n",
      "opportunity       -4.4137      0.214    -20.659      0.000      -4.832      -3.995\n",
      "transportation     1.4315      0.247      5.789      0.000       0.947       1.916\n",
      "==============================================================================\n",
      "Omnibus:                     3110.479   Durbin-Watson:                   1.382\n",
      "Prob(Omnibus):                  0.000   Jarque-Bera (JB):             8990.038\n",
      "Skew:                           1.002   Prob(JB):                         0.00\n",
      "Kurtosis:                       6.028   Cond. No.                     3.50e+16\n",
      "==============================================================================\n",
      "\n",
      "Warnings:\n",
      "[1] Standard Errors assume that the covariance matrix of the errors is correctly specified.\n",
      "[2] The smallest eigenvalue is 3.34e-25. This might indicate that there are\n",
      "strong multicollinearity problems or that the design matrix is singular.\n"
     ]
    }
   ],
   "source": [
    "X2 = sm.add_constant(X)\n",
    "est = sm.OLS(y, X2)\n",
    "est2 = est.fit()\n",
    "print(est2.summary())"
   ]
  },
  {
   "cell_type": "code",
   "execution_count": null,
   "metadata": {},
   "outputs": [],
   "source": []
  },
  {
   "cell_type": "code",
   "execution_count": null,
   "metadata": {},
   "outputs": [],
   "source": []
  },
  {
   "cell_type": "code",
   "execution_count": null,
   "metadata": {},
   "outputs": [],
   "source": []
  },
  {
   "cell_type": "markdown",
   "metadata": {},
   "source": [
    "### 2. Random Forest"
   ]
  },
  {
   "cell_type": "code",
   "execution_count": 15,
   "metadata": {},
   "outputs": [],
   "source": [
    "from sklearn.ensemble import RandomForestRegressor"
   ]
  },
  {
   "cell_type": "markdown",
   "metadata": {},
   "source": [
    "#### Model 1: Random Forest with total scores"
   ]
  },
  {
   "cell_type": "code",
   "execution_count": null,
   "metadata": {},
   "outputs": [],
   "source": [
    "# Model-1: using livability overall scores for prediction\n",
    "y = tot_df['med_rent']\n",
    "X = tot_df.drop(loc_rent + ['total_score'], axis=1)"
   ]
  },
  {
   "cell_type": "code",
   "execution_count": 13,
   "metadata": {},
   "outputs": [],
   "source": [
    "scaler = StandardScaler()\n",
    "scaler.fit(X)         \n",
    "X_trans = scaler.transform(X)  "
   ]
  },
  {
   "cell_type": "code",
   "execution_count": 14,
   "metadata": {},
   "outputs": [],
   "source": [
    "X_train, X_test, y_train, y_test = train_test_split(X_trans, y, test_size=0.30, random_state=42)"
   ]
  },
  {
   "cell_type": "code",
   "execution_count": 17,
   "metadata": {},
   "outputs": [
    {
     "data": {
      "text/plain": [
       "RandomForestRegressor(max_depth=10, n_estimators=500)"
      ]
     },
     "execution_count": 17,
     "metadata": {},
     "output_type": "execute_result"
    }
   ],
   "source": [
    "rfr = RandomForestRegressor(n_estimators=500, max_depth=10)\n",
    "rfr.fit(X_train,y_train)"
   ]
  },
  {
   "cell_type": "markdown",
   "metadata": {},
   "source": [
    "- Hyperparameter selections"
   ]
  },
  {
   "cell_type": "raw",
   "metadata": {},
   "source": [
    "from sklearn.model_selection import GridSearchCV\n",
    "\n",
    "est = RandomForestRegressor()\n",
    "gs = GridSearchCV(\n",
    "    est,\n",
    "    {'n_estimators': [100,200,500],\n",
    "    'max_depth': range(1,11),\n",
    "    'min_samples_split': [2,5,10]},  # range of hyperparameters to test\n",
    "    cv=10,  # 10-fold cross validation\n",
    "    n_jobs=2,  # run each hyperparameter in one of two parallel jobs\n",
    ")\n",
    "gs.fit(X_train, y_train)"
   ]
  },
  {
   "cell_type": "code",
   "execution_count": 16,
   "metadata": {},
   "outputs": [
    {
     "name": "stdout",
     "output_type": "stream",
     "text": [
      "The best hyperparameter value is:  {'max_depth': 10, 'min_samples_split': 2, 'n_estimators': 500}\n"
     ]
    }
   ],
   "source": [
    "print(\"The best hyperparameter value is: \", gs.best_params_)"
   ]
  },
  {
   "cell_type": "markdown",
   "metadata": {},
   "source": [
    "- Establish a baseline"
   ]
  },
  {
   "cell_type": "code",
   "execution_count": 18,
   "metadata": {},
   "outputs": [],
   "source": [
    "baseline_preds = y_train.mean()"
   ]
  },
  {
   "cell_type": "code",
   "execution_count": 19,
   "metadata": {},
   "outputs": [
    {
     "name": "stdout",
     "output_type": "stream",
     "text": [
      "Average baseline mean absolute error:  404.33\n"
     ]
    }
   ],
   "source": [
    "baseline_errors = abs(baseline_preds - y_test)\n",
    "print('Average baseline mean absolute error: ', round(np.mean(baseline_errors), 2))"
   ]
  },
  {
   "cell_type": "markdown",
   "metadata": {},
   "source": [
    "- Model evaluation with full features"
   ]
  },
  {
   "cell_type": "code",
   "execution_count": 20,
   "metadata": {},
   "outputs": [],
   "source": [
    "predictions = rfr.predict(X_test)"
   ]
  },
  {
   "cell_type": "code",
   "execution_count": 22,
   "metadata": {},
   "outputs": [
    {
     "name": "stdout",
     "output_type": "stream",
     "text": [
      "R^2 Training Score: 0.78 \n",
      "R^2 Validation Score: 0.64\n"
     ]
    }
   ],
   "source": [
    "print('R^2 Training Score: {:.2f} \\nR^2 Validation Score: {:.2f}'.format(rfr.score(X_train, y_train), \n",
    "                                                                                             rfr.score(X_test, y_test)))"
   ]
  },
  {
   "cell_type": "markdown",
   "metadata": {},
   "source": [
    "- Using the baseline error (404.33) to evaluate the erros from predictions"
   ]
  },
  {
   "cell_type": "code",
   "execution_count": 23,
   "metadata": {},
   "outputs": [
    {
     "name": "stdout",
     "output_type": "stream",
     "text": [
      "Random Forest (full) - Mean Absolute Error: 222.66\n",
      "Mean squared error: 101748.01061644804\n",
      "R^2: 0.6448602023164473\n"
     ]
    }
   ],
   "source": [
    "errors = abs(predictions - y_test)\n",
    "print('Random Forest (full) - Mean Absolute Error:', round(np.mean(errors), 2))\n",
    "\n",
    "# print(\"Mean absolute error:\", metrics.mean_absolute_error(y_test, predictions))\n",
    "print(\"Mean squared error:\", metrics.mean_squared_error(y_test, predictions))\n",
    "print(\"R^2:\", metrics.r2_score(y_test, predictions))"
   ]
  },
  {
   "cell_type": "markdown",
   "metadata": {},
   "source": [
    "- Determine Performance Metrics\n",
    "To put our predictions in perspective, we can calculate an accuracy using the mean average percentage error subtracted from 100 %."
   ]
  },
  {
   "cell_type": "code",
   "execution_count": 24,
   "metadata": {},
   "outputs": [
    {
     "name": "stdout",
     "output_type": "stream",
     "text": [
      "Random Forest (full) - Accuracy: 79.12 %.\n"
     ]
    }
   ],
   "source": [
    "# Calculate mean absolute percentage error (MAPE)\n",
    "mape = 100 * (errors / y_test)\n",
    "# Calculate and display accuracy\n",
    "accuracy = 100 - np.mean(mape)\n",
    "print('Random Forest (full) - Accuracy:', round(accuracy, 2), '%.')"
   ]
  },
  {
   "cell_type": "markdown",
   "metadata": {},
   "source": [
    "- Identify important features"
   ]
  },
  {
   "cell_type": "code",
   "execution_count": 25,
   "metadata": {},
   "outputs": [],
   "source": [
    "# print out the importance of each category\n",
    "importances = rfr.feature_importances_\n",
    "# print([rfr.feature_importances_] + [X.columns])"
   ]
  },
  {
   "cell_type": "code",
   "execution_count": 26,
   "metadata": {},
   "outputs": [
    {
     "data": {
      "text/html": [
       "<div>\n",
       "<style scoped>\n",
       "    .dataframe tbody tr th:only-of-type {\n",
       "        vertical-align: middle;\n",
       "    }\n",
       "\n",
       "    .dataframe tbody tr th {\n",
       "        vertical-align: top;\n",
       "    }\n",
       "\n",
       "    .dataframe thead th {\n",
       "        text-align: right;\n",
       "    }\n",
       "</style>\n",
       "<table border=\"1\" class=\"dataframe\">\n",
       "  <thead>\n",
       "    <tr style=\"text-align: right;\">\n",
       "      <th></th>\n",
       "      <th>Variable</th>\n",
       "      <th>Importance</th>\n",
       "    </tr>\n",
       "  </thead>\n",
       "  <tbody>\n",
       "    <tr>\n",
       "      <th>4</th>\n",
       "      <td>housing</td>\n",
       "      <td>0.524976</td>\n",
       "    </tr>\n",
       "    <tr>\n",
       "      <th>3</th>\n",
       "      <td>health</td>\n",
       "      <td>0.181990</td>\n",
       "    </tr>\n",
       "    <tr>\n",
       "      <th>5</th>\n",
       "      <td>neighborhood</td>\n",
       "      <td>0.129258</td>\n",
       "    </tr>\n",
       "    <tr>\n",
       "      <th>6</th>\n",
       "      <td>opportunity</td>\n",
       "      <td>0.048069</td>\n",
       "    </tr>\n",
       "    <tr>\n",
       "      <th>7</th>\n",
       "      <td>transportation</td>\n",
       "      <td>0.037594</td>\n",
       "    </tr>\n",
       "    <tr>\n",
       "      <th>1</th>\n",
       "      <td>engagement</td>\n",
       "      <td>0.028434</td>\n",
       "    </tr>\n",
       "    <tr>\n",
       "      <th>2</th>\n",
       "      <td>environment</td>\n",
       "      <td>0.027820</td>\n",
       "    </tr>\n",
       "    <tr>\n",
       "      <th>0</th>\n",
       "      <td>total_score</td>\n",
       "      <td>0.021860</td>\n",
       "    </tr>\n",
       "  </tbody>\n",
       "</table>\n",
       "</div>"
      ],
      "text/plain": [
       "         Variable  Importance\n",
       "4         housing    0.524976\n",
       "3          health    0.181990\n",
       "5    neighborhood    0.129258\n",
       "6     opportunity    0.048069\n",
       "7  transportation    0.037594\n",
       "1      engagement    0.028434\n",
       "2     environment    0.027820\n",
       "0     total_score    0.021860"
      ]
     },
     "execution_count": 26,
     "metadata": {},
     "output_type": "execute_result"
    }
   ],
   "source": [
    "imp = pd.DataFrame({'Variable':X.columns,\n",
    "                    'Importance':rfr.feature_importances_}).sort_values('Importance', ascending=False)\n",
    "imp.head(10)"
   ]
  },
  {
   "cell_type": "code",
   "execution_count": 99,
   "metadata": {},
   "outputs": [],
   "source": [
    "std = np.std([tree.feature_importances_ for tree in rfr.estimators_],\n",
    "             axis=0)\n",
    "indices = np.argsort(importances)[::-1]"
   ]
  },
  {
   "cell_type": "code",
   "execution_count": 36,
   "metadata": {},
   "outputs": [],
   "source": [
    "# # print the feature list\n",
    "# feature_list = list(X.columns)\n",
    "# # pd.DataFrame(feature_list)"
   ]
  },
  {
   "cell_type": "code",
   "execution_count": 98,
   "metadata": {},
   "outputs": [],
   "source": [
    "# print(\"Feature ranking:\")\n",
    "# for f in range(X.shape[1]):\n",
    "#     print(\"%d. feature %d (%f)\" % (f + 1, indices[f], importances[indices[f]]))"
   ]
  },
  {
   "cell_type": "code",
   "execution_count": 100,
   "metadata": {},
   "outputs": [
    {
     "data": {
      "image/png": "[encoded data removed]",
      "text/plain": [
       "<Figure size 432x288 with 1 Axes>"
      ]
     },
     "metadata": {
      "needs_background": "light"
     },
     "output_type": "display_data"
    }
   ],
   "source": [
    "# Plot the impurity-based feature importances of the forest\n",
    "plt.figure()\n",
    "plt.title(\"Feature importances\")\n",
    "plt.bar(range(X.shape[1]), importances[indices],\n",
    "        color=\"r\", yerr=std[indices], align=\"center\")\n",
    "plt.xticks(range(X.shape[1]), indices)\n",
    "plt.xlim([-1, X.shape[1]])\n",
    "plt.show()"
   ]
  },
  {
   "cell_type": "code",
   "execution_count": null,
   "metadata": {},
   "outputs": [],
   "source": []
  },
  {
   "cell_type": "code",
   "execution_count": null,
   "metadata": {},
   "outputs": [],
   "source": []
  },
  {
   "cell_type": "code",
   "execution_count": null,
   "metadata": {},
   "outputs": [],
   "source": []
  },
  {
   "cell_type": "markdown",
   "metadata": {},
   "source": [
    "#### Model 2: Random Forest with detailed scores"
   ]
  },
  {
   "cell_type": "code",
   "execution_count": 150,
   "metadata": {},
   "outputs": [],
   "source": [
    "# Model-1: using livability overall scores for prediction\n",
    "y = sub_df['med_rent']\n",
    "X = sub_df.drop(loc_rent, axis=1)"
   ]
  },
  {
   "cell_type": "code",
   "execution_count": 69,
   "metadata": {},
   "outputs": [],
   "source": [
    "# scaler = StandardScaler()\n",
    "# scaler.fit(X)         \n",
    "# X_trans = scaler.transform(X)  "
   ]
  },
  {
   "cell_type": "code",
   "execution_count": 66,
   "metadata": {},
   "outputs": [],
   "source": [
    "X_train, X_test, y_train, y_test = train_test_split(X, y, test_size=0.30, random_state=42)"
   ]
  },
  {
   "cell_type": "code",
   "execution_count": 67,
   "metadata": {},
   "outputs": [
    {
     "data": {
      "text/plain": [
       "RandomForestRegressor(max_depth=10, n_estimators=500)"
      ]
     },
     "execution_count": 67,
     "metadata": {},
     "output_type": "execute_result"
    }
   ],
   "source": [
    "rfr = RandomForestRegressor(n_estimators=500, max_depth=10, min_samples_split=2)\n",
    "rfr.fit(X_train,y_train)"
   ]
  },
  {
   "cell_type": "raw",
   "metadata": {},
   "source": [
    "from sklearn.model_selection import GridSearchCV\n",
    "\n",
    "est = RandomForestRegressor()\n",
    "gs = GridSearchCV(\n",
    "    est,\n",
    "    {'n_estimators': [200,500,800],\n",
    "    'max_depth': [2,5,8,10],\n",
    "    'min_samples_split': [2,5,10]},  # range of hyperparameters to test\n",
    "    cv=10,  # 10-fold cross validation\n",
    "    n_jobs=2,  # run each hyperparameter in one of two parallel jobs\n",
    ")\n",
    "gs.fit(X_train, y_train)"
   ]
  },
  {
   "cell_type": "code",
   "execution_count": 33,
   "metadata": {},
   "outputs": [
    {
     "name": "stdout",
     "output_type": "stream",
     "text": [
      "The best hyperparameter value is:  {'max_depth': 10, 'min_samples_split': 2, 'n_estimators': 500}\n"
     ]
    }
   ],
   "source": [
    "print(\"The best hyperparameter value is: \", gs.best_params_)"
   ]
  },
  {
   "cell_type": "markdown",
   "metadata": {},
   "source": [
    "- Establish a baseline"
   ]
  },
  {
   "cell_type": "code",
   "execution_count": 68,
   "metadata": {},
   "outputs": [],
   "source": [
    "baseline_preds = y_train.mean()"
   ]
  },
  {
   "cell_type": "code",
   "execution_count": 69,
   "metadata": {},
   "outputs": [
    {
     "name": "stdout",
     "output_type": "stream",
     "text": [
      "Average baseline mean absolute error:  404.33\n"
     ]
    }
   ],
   "source": [
    "baseline_errors = abs(baseline_preds - y_test)\n",
    "print('Average baseline mean absolute error: ', round(np.mean(baseline_errors), 2))"
   ]
  },
  {
   "cell_type": "markdown",
   "metadata": {},
   "source": [
    "- Model evaluation with full features"
   ]
  },
  {
   "cell_type": "code",
   "execution_count": 70,
   "metadata": {},
   "outputs": [],
   "source": [
    "predictions = rfr.predict(X_test)"
   ]
  },
  {
   "cell_type": "code",
   "execution_count": 71,
   "metadata": {},
   "outputs": [
    {
     "name": "stdout",
     "output_type": "stream",
     "text": [
      "R^2 Training Score: 0.83 \n",
      "R^2 Validation Score: 0.66\n"
     ]
    }
   ],
   "source": [
    "print('R^2 Training Score: {:.2f} \\nR^2 Validation Score: {:.2f}'.format(rfr.score(X_train, y_train), \n",
    "                                                                         rfr.score(X_test, y_test)))"
   ]
  },
  {
   "cell_type": "markdown",
   "metadata": {},
   "source": [
    "- Using the baseline error (404.33) to evaluate the erros from predictions"
   ]
  },
  {
   "cell_type": "code",
   "execution_count": 72,
   "metadata": {},
   "outputs": [
    {
     "name": "stdout",
     "output_type": "stream",
     "text": [
      "Random Forest (full) - Mean Absolute Error: 211.87\n",
      "Mean squared error: 96322.84223943853\n",
      "R^2: 0.6637961322490067\n"
     ]
    }
   ],
   "source": [
    "errors = abs(predictions - y_test)\n",
    "print('Random Forest (full) - Mean Absolute Error:', round(np.mean(errors), 2))\n",
    "\n",
    "# print(\"Mean absolute error:\", metrics.mean_absolute_error(y_test, predictions))\n",
    "print(\"Mean squared error:\", metrics.mean_squared_error(y_test, predictions))\n",
    "print(\"R^2:\", metrics.r2_score(y_test, predictions))"
   ]
  },
  {
   "cell_type": "markdown",
   "metadata": {},
   "source": [
    "- Determine Performance Metrics\n",
    "To put our predictions in perspective, we can calculate an accuracy using the mean average percentage error subtracted from 100 %."
   ]
  },
  {
   "cell_type": "code",
   "execution_count": 73,
   "metadata": {},
   "outputs": [
    {
     "name": "stdout",
     "output_type": "stream",
     "text": [
      "Random Forest (full) - Accuracy: 79.28 %.\n"
     ]
    }
   ],
   "source": [
    "# Calculate mean absolute percentage error (MAPE)\n",
    "mape = 100 * (errors / y_test)\n",
    "# Calculate and display accuracy\n",
    "accuracy = 100 - np.mean(mape)\n",
    "print('Random Forest (full) - Accuracy:', round(accuracy, 2), '%.')"
   ]
  },
  {
   "cell_type": "markdown",
   "metadata": {},
   "source": [
    "- Identify important features"
   ]
  },
  {
   "cell_type": "code",
   "execution_count": 74,
   "metadata": {},
   "outputs": [],
   "source": [
    "# print out the importance of each category\n",
    "importances = rfr.feature_importances_\n",
    "# print([rfr.feature_importances_] + [X.columns])"
   ]
  },
  {
   "cell_type": "code",
   "execution_count": 85,
   "metadata": {},
   "outputs": [],
   "source": [
    "imp = pd.DataFrame({'Variable':X.columns,\n",
    "                    'Importance':rfr.feature_importances_}).sort_values('Importance', ascending=False)\n",
    "imp['Rank'] = range(1, len(X.columns)+1)"
   ]
  },
  {
   "cell_type": "code",
   "execution_count": 105,
   "metadata": {},
   "outputs": [],
   "source": [
    "mnp_lst = ['engage_broad',\n",
    "           'env_air_qual', 'env_pollute', 'env_road', 'env_water',\n",
    "           'health_exercise', 'health_sate', 'health_short',\n",
    "           'prox_activity', 'prox_auto', 'prox_land_use', 'prox_lib', 'prox_markets', 'prox_parks', 'prox_sec', 'prox_trans', 'prox_vacant',\n",
    "           'trans_access', 'trans_fatal', 'trans_freq', 'trans_speed_lim', 'trans_walk_trip']"
   ]
  },
  {
   "cell_type": "code",
   "execution_count": 106,
   "metadata": {},
   "outputs": [
    {
     "data": {
      "text/html": [
       "<div>\n",
       "<style scoped>\n",
       "    .dataframe tbody tr th:only-of-type {\n",
       "        vertical-align: middle;\n",
       "    }\n",
       "\n",
       "    .dataframe tbody tr th {\n",
       "        vertical-align: top;\n",
       "    }\n",
       "\n",
       "    .dataframe thead th {\n",
       "        text-align: right;\n",
       "    }\n",
       "</style>\n",
       "<table border=\"1\" class=\"dataframe\">\n",
       "  <thead>\n",
       "    <tr style=\"text-align: right;\">\n",
       "      <th></th>\n",
       "      <th>Variable</th>\n",
       "      <th>Importance</th>\n",
       "      <th>Rank</th>\n",
       "    </tr>\n",
       "  </thead>\n",
       "  <tbody>\n",
       "    <tr>\n",
       "      <th>32</th>\n",
       "      <td>prox_trans</td>\n",
       "      <td>0.040452</td>\n",
       "      <td>5</td>\n",
       "    </tr>\n",
       "    <tr>\n",
       "      <th>26</th>\n",
       "      <td>prox_auto</td>\n",
       "      <td>0.013160</td>\n",
       "      <td>7</td>\n",
       "    </tr>\n",
       "    <tr>\n",
       "      <th>37</th>\n",
       "      <td>trans_fatal</td>\n",
       "      <td>0.009756</td>\n",
       "      <td>13</td>\n",
       "    </tr>\n",
       "    <tr>\n",
       "      <th>29</th>\n",
       "      <td>prox_markets</td>\n",
       "      <td>0.007809</td>\n",
       "      <td>16</td>\n",
       "    </tr>\n",
       "    <tr>\n",
       "      <th>40</th>\n",
       "      <td>trans_walk_trip</td>\n",
       "      <td>0.007408</td>\n",
       "      <td>19</td>\n",
       "    </tr>\n",
       "    <tr>\n",
       "      <th>27</th>\n",
       "      <td>prox_land_use</td>\n",
       "      <td>0.007298</td>\n",
       "      <td>20</td>\n",
       "    </tr>\n",
       "  </tbody>\n",
       "</table>\n",
       "</div>"
      ],
      "text/plain": [
       "           Variable  Importance  Rank\n",
       "32       prox_trans    0.040452     5\n",
       "26        prox_auto    0.013160     7\n",
       "37      trans_fatal    0.009756    13\n",
       "29     prox_markets    0.007809    16\n",
       "40  trans_walk_trip    0.007408    19\n",
       "27    prox_land_use    0.007298    20"
      ]
     },
     "execution_count": 106,
     "metadata": {},
     "output_type": "execute_result"
    }
   ],
   "source": [
    "top_20 = imp[:20]\n",
    "top_20[top_20['Variable'].isin(mnp_lst)]"
   ]
  },
  {
   "cell_type": "code",
   "execution_count": 61,
   "metadata": {},
   "outputs": [],
   "source": [
    "std = np.std([tree.feature_importances_ for tree in rfr.estimators_],\n",
    "             axis=0)\n",
    "indices = np.argsort(importances)[::-1]"
   ]
  },
  {
   "cell_type": "code",
   "execution_count": 62,
   "metadata": {},
   "outputs": [
    {
     "data": {
      "image/png": "[encoded data removed]",
      "text/plain": [
       "<Figure size 432x288 with 1 Axes>"
      ]
     },
     "metadata": {
      "needs_background": "light"
     },
     "output_type": "display_data"
    }
   ],
   "source": [
    "# Plot the impurity-based feature importances of the forest\n",
    "plt.figure()\n",
    "plt.title(\"Feature importances\")\n",
    "plt.bar(range(X.shape[1]), importances[indices],\n",
    "        color=\"r\", yerr=std[indices], align=\"center\")\n",
    "plt.xticks(range(X.shape[1]), indices)\n",
    "plt.xlim([-1, X.shape[1]])\n",
    "plt.show()"
   ]
  },
  {
   "cell_type": "code",
   "execution_count": 25,
   "metadata": {},
   "outputs": [],
   "source": [
    "import statsmodels.api as sm\n",
    "from scipy import stats"
   ]
  },
  {
   "cell_type": "code",
   "execution_count": 27,
   "metadata": {},
   "outputs": [],
   "source": [
    "# scaler = StandardScaler()\n",
    "# scaler.fit(X)         \n",
    "# X_trans = scaler.transform(X)  "
   ]
  },
  {
   "cell_type": "raw",
   "metadata": {},
   "source": [
    "X2 = sm.add_constant(X)\n",
    "est = sm.OLS(y, X2)\n",
    "est2 = est.fit()\n",
    "print(est2.summary())"
   ]
  },
  {
   "cell_type": "markdown",
   "metadata": {},
   "source": [
    "- **Top Influential factors**\n",
    "\n",
    "**health_obese**: percentage of people are obese\n",
    "\n",
    "**median_inc**\n",
    "\n",
    "**engage_civic**: nubmer of organizations per 10,000 people, negative\n",
    "\n",
    "**health_smoke**: percentage of people smoke regularly"
   ]
  },
  {
   "cell_type": "markdown",
   "metadata": {},
   "source": [
    "- **Influential factors that can be manipulated**\n",
    "\n",
    "-- **prox_trans** (jobs, us median = 0) -- rank 5\n",
    "\n",
    "Number of jobs accessible within a 45-minute transit commute: measured at the neighborhood scale, higher values are better\n",
    "\n",
    "Thousands of commuters use buses, trains, and subways each day to get to work. For these workers, convenient and dependable transit isn’t just a perk—it’s a necessity. Good public transportation generally costs less than driving and parking, encourages more walking, and reduces air pollution. Here, the Index measures the number of jobs accessible within a 45-minute commute by transit, giving more credit to nearby jobs than those farther away. Note: Data are available only for areas where transit agencies provide information to an online mapping database.\n",
    "\n",
    "-- **prox_auto** (jobs, us median = 32,699) -- rank 7\n",
    "\n",
    "Number of jobs accessible within a 45-minute automobile commute: measured at the neighborhood scale, higher values are better\t\n",
    "\n",
    "Many of our metrics look at healthy, affordable transportation options like public transit, walking, and bicycling—but what about people who depend on their cars to get around? Most Americans drive to work, and most prefer a shorter commute. In this case, we examine how well neighborhoods allow people to access jobs. Better accessibility means less time sitting in the car, less money spent on gas and maintenance, and more time with friends and family. The Index measures the number of jobs that are accessible within a 45-minute drive\n",
    "\n",
    "\n",
    "-- **trans_fatal** (fatal crashes per 100,000 people per year, us median = 6.8) -- rank 13\n",
    "\n",
    "Annual average number of fatal crashes per 100,000 people: measured at the neighborhood scale, lower values are better\n",
    "\n",
    "Motor vehicle crashes are a leading cause of death in the United States. Crashes occur most often in areas with high speed limits, poorly designed streets, and in places where people must drive farther or more frequently to reach their destinations. Bicyclists and pedestrians are particularly vulnerable to crashes, as are children and older adults. Since people typically drive outside their neighborhood, the Index measures the number of fatal crashes within a 5-mile radius to assess safety on the surrounding streets. Fatal crashes are relatively rare in any given neighborhood, so we use a 5-year average to control for year-to-year changes.\n",
    "\n",
    "-- **prox_markets** (stores and markets, us median = 0)b -- rank 16\n",
    "\n",
    "Number of grocery stores and farmers’ markets within a half-mile: measured at the neighborhood scale, higher values are better\n",
    "\n",
    "It’s hard to make healthy food choices if grocery stores and farmers’ markets aren’t nearby. People living in low-income households and individuals who don’t drive are more likely to rely on nearby food sources—and may end up paying more if their only grocery option is a convenience store. Farmers’ markets can also serve as important community gathering places. The Index gives higher scores to communities that provide a wide variety of healthy food options within walking distance.\n",
    "\n",
    "\n",
    "-- **trans_walk_trip** (trips per household per day, us median = 0.73) -- rank 19\n",
    "\n",
    "Estimated walk trips per household per day: measured at the neighborhood scale, higher values are better\n",
    "\n",
    "Physical activity contributes to health and longevity. Making trips around the neighborhood by walking (called “walk trips”) can be a safe form of exercise. Walk trips also contribute to more frequent social interaction with neighbors. The Index estimates the number of walk trips members of an average household take each day. It includes factors such as the number of destinations within a mile and how easy it is to navigate local streets. The goal is to measure how walkable the neighborhoods are.\n",
    "\n",
    "\n",
    "-- **prox_land_use** (index from 0 to 1, us median = 0.7) -- rank 20\n",
    "\n",
    "Mix of jobs within a mile: measured at the neighborhood scale, higher values are better\n",
    "\n",
    "The mix of jobs within a mile reflects the likelihood that a variety of destinations and services are available within the neighborhood. Livable neighborhoods make it easy for residents to walk to a diverse range of destinations and services, including shopping, entertainment, health care, and more. The Index measures how well a neighborhood offers convenient access to retail, entertainment, health care, education, and food or personal services. Measured on a scale from 0 to 1, higher values are given to communities that offer better access."
   ]
  },
  {
   "cell_type": "markdown",
   "metadata": {},
   "source": [
    "- **If change health_obese cores, how rent changes along with it?**"
   ]
  },
  {
   "cell_type": "code",
   "execution_count": 180,
   "metadata": {},
   "outputs": [],
   "source": [
    "# train the model\n",
    "y = sub_df['med_rent']\n",
    "X = sub_df.drop(loc_rent, axis=1)\n",
    "\n",
    "rfr = RandomForestRegressor(n_estimators=500, max_depth=10, min_samples_split=2)\n",
    "rfr.fit(X,y)\n",
    "\n",
    "y_pred = rfr.predict(X)"
   ]
  },
  {
   "cell_type": "code",
   "execution_count": 198,
   "metadata": {},
   "outputs": [],
   "source": [
    "def change_factors(var_lst, degree_lst, y, X, y_pred):\n",
    "    Y_dict = {}\n",
    "    Y_dict['y_real'] = y.to_numpy()\n",
    "    Y_dict['y_pred'] = y_pred\n",
    "    \n",
    "    for var in var_lst:\n",
    "        for degree in degree_lst:    \n",
    "            X_new = X.copy()\n",
    "            X_new[var] = X_new[var] * degree\n",
    "            y_new = rfr.predict(X_new)\n",
    "            Y_dict[f'{var}_{degree}'] = y_new\n",
    "            \n",
    "    return pd.DataFrame(Y_dict)"
   ]
  },
  {
   "cell_type": "code",
   "execution_count": 199,
   "metadata": {},
   "outputs": [],
   "source": [
    "kf = ['prox_trans', 'prox_auto', 'prox_markets', 'trans_walk_trip', 'prox_land_use']\n",
    "change_degree = np.arange(2, 12, 2)"
   ]
  },
  {
   "cell_type": "code",
   "execution_count": 200,
   "metadata": {},
   "outputs": [],
   "source": [
    "df_Y = change_factors(kf, change_degree, y, X, y_pred)"
   ]
  },
  {
   "cell_type": "code",
   "execution_count": 201,
   "metadata": {},
   "outputs": [],
   "source": [
    "rent_pred = pd.concat([df, df_Y], axis = 1)"
   ]
  },
  {
   "cell_type": "code",
   "execution_count": 202,
   "metadata": {},
   "outputs": [
    {
     "name": "stdout",
     "output_type": "stream",
     "text": [
      "<class 'pandas.core.frame.DataFrame'>\n",
      "Int64Index: 16364 entries, 0 to 16363\n",
      "Data columns (total 93 columns):\n",
      " #   Column              Non-Null Count  Dtype  \n",
      "---  ------              --------------  -----  \n",
      " 0   total_popu          16364 non-null  float64\n",
      " 1   pct_africa          16364 non-null  float64\n",
      " 2   pct_asian           16364 non-null  float64\n",
      " 3   pct_hispan          16364 non-null  float64\n",
      " 4   pct_50plus          16364 non-null  float64\n",
      " 5   pct_65plus          16364 non-null  float64\n",
      " 6   median_inc          16364 non-null  float64\n",
      " 7   pct_povert          16364 non-null  float64\n",
      " 8   pct_disabi          16364 non-null  float64\n",
      " 9   pct_novehi          16364 non-null  float64\n",
      " 10  life_ex             16364 non-null  float64\n",
      " 11  engagement          16364 non-null  float64\n",
      " 12  environment         16364 non-null  float64\n",
      " 13  health              16364 non-null  float64\n",
      " 14  housing             16364 non-null  float64\n",
      " 15  neighborhood        16364 non-null  float64\n",
      " 16  opportunity         16364 non-null  float64\n",
      " 17  transportation      16364 non-null  float64\n",
      " 18  engage_broad        16364 non-null  float64\n",
      " 19  engage_culture      16364 non-null  float64\n",
      " 20  engage_civic        16364 non-null  float64\n",
      " 21  engage_social       16364 non-null  float64\n",
      " 22  engage_vote         16364 non-null  float64\n",
      " 23  env_air_qual        16364 non-null  float64\n",
      " 24  env_pollute         16364 non-null  float64\n",
      " 25  env_water           16364 non-null  float64\n",
      " 26  env_road            16364 non-null  float64\n",
      " 27  health_exercise     16364 non-null  float64\n",
      " 28  health_obese        16364 non-null  float64\n",
      " 29  health_sate         16364 non-null  float64\n",
      " 30  health_hospital     16364 non-null  float64\n",
      " 31  health_short        16364 non-null  float64\n",
      " 32  health_smoke        16364 non-null  float64\n",
      " 33  house_access        16364 non-null  float64\n",
      " 34  house_subsidy       16364 non-null  float64\n",
      " 35  house_cost          16364 non-null  float64\n",
      " 36  house_multifam      16364 non-null  float64\n",
      " 37  house_burden        16364 non-null  float64\n",
      " 38  opp_age             16364 non-null  float64\n",
      " 39  opp_grad            16364 non-null  float64\n",
      " 40  opp_income          16364 non-null  float64\n",
      " 41  opp_jobs            16364 non-null  float64\n",
      " 42  prox_markets        16364 non-null  float64\n",
      " 43  prox_parks          16364 non-null  float64\n",
      " 44  prox_land_use       16364 non-null  float64\n",
      " 45  prox_activity       16364 non-null  float64\n",
      " 46  prox_trans          16364 non-null  float64\n",
      " 47  prox_auto           16364 non-null  float64\n",
      " 48  prox_sec            16364 non-null  float64\n",
      " 49  prox_lib            16364 non-null  float64\n",
      " 50  prox_vacant         16364 non-null  float64\n",
      " 51  trans_freq          16364 non-null  float64\n",
      " 52  trans_access        16364 non-null  float64\n",
      " 53  trans_walk_trip     16364 non-null  float64\n",
      " 54  trans_delay         16364 non-null  float64\n",
      " 55  trans_cost          16364 non-null  float64\n",
      " 56  trans_fatal         16364 non-null  float64\n",
      " 57  trans_speed_lim     16364 non-null  float64\n",
      " 58  total_score         16364 non-null  float64\n",
      " 59  GEOID               16364 non-null  object \n",
      " 60  med_rent            16364 non-null  float64\n",
      " 61  state               16364 non-null  object \n",
      " 62  county              16364 non-null  object \n",
      " 63  tract               16364 non-null  object \n",
      " 64  block group         16364 non-null  object \n",
      " 65  county_name         16364 non-null  object \n",
      " 66  y_real              16364 non-null  float64\n",
      " 67  y_pred              16364 non-null  float64\n",
      " 68  prox_trans_2        16364 non-null  float64\n",
      " 69  prox_trans_4        16364 non-null  float64\n",
      " 70  prox_trans_6        16364 non-null  float64\n",
      " 71  prox_trans_8        16364 non-null  float64\n",
      " 72  prox_trans_10       16364 non-null  float64\n",
      " 73  prox_auto_2         16364 non-null  float64\n",
      " 74  prox_auto_4         16364 non-null  float64\n",
      " 75  prox_auto_6         16364 non-null  float64\n",
      " 76  prox_auto_8         16364 non-null  float64\n",
      " 77  prox_auto_10        16364 non-null  float64\n",
      " 78  prox_markets_2      16364 non-null  float64\n",
      " 79  prox_markets_4      16364 non-null  float64\n",
      " 80  prox_markets_6      16364 non-null  float64\n",
      " 81  prox_markets_8      16364 non-null  float64\n",
      " 82  prox_markets_10     16364 non-null  float64\n",
      " 83  trans_walk_trip_2   16364 non-null  float64\n",
      " 84  trans_walk_trip_4   16364 non-null  float64\n",
      " 85  trans_walk_trip_6   16364 non-null  float64\n",
      " 86  trans_walk_trip_8   16364 non-null  float64\n",
      " 87  trans_walk_trip_10  16364 non-null  float64\n",
      " 88  prox_land_use_2     16364 non-null  float64\n",
      " 89  prox_land_use_4     16364 non-null  float64\n",
      " 90  prox_land_use_6     16364 non-null  float64\n",
      " 91  prox_land_use_8     16364 non-null  float64\n",
      " 92  prox_land_use_10    16364 non-null  float64\n",
      "dtypes: float64(87), object(6)\n",
      "memory usage: 11.7+ MB\n"
     ]
    }
   ],
   "source": [
    "rent_pred.info()"
   ]
  },
  {
   "cell_type": "code",
   "execution_count": 203,
   "metadata": {},
   "outputs": [
    {
     "data": {
      "text/html": [
       "<div>\n",
       "<style scoped>\n",
       "    .dataframe tbody tr th:only-of-type {\n",
       "        vertical-align: middle;\n",
       "    }\n",
       "\n",
       "    .dataframe tbody tr th {\n",
       "        vertical-align: top;\n",
       "    }\n",
       "\n",
       "    .dataframe thead th {\n",
       "        text-align: right;\n",
       "    }\n",
       "</style>\n",
       "<table border=\"1\" class=\"dataframe\">\n",
       "  <thead>\n",
       "    <tr style=\"text-align: right;\">\n",
       "      <th></th>\n",
       "      <th>y_real</th>\n",
       "      <th>y_pred</th>\n",
       "      <th>prox_trans_2</th>\n",
       "      <th>prox_trans_4</th>\n",
       "      <th>prox_trans_6</th>\n",
       "      <th>prox_trans_8</th>\n",
       "      <th>prox_trans_10</th>\n",
       "      <th>prox_auto_2</th>\n",
       "      <th>prox_auto_4</th>\n",
       "      <th>prox_auto_6</th>\n",
       "      <th>...</th>\n",
       "      <th>trans_walk_trip_2</th>\n",
       "      <th>trans_walk_trip_4</th>\n",
       "      <th>trans_walk_trip_6</th>\n",
       "      <th>trans_walk_trip_8</th>\n",
       "      <th>trans_walk_trip_10</th>\n",
       "      <th>prox_land_use_2</th>\n",
       "      <th>prox_land_use_4</th>\n",
       "      <th>prox_land_use_6</th>\n",
       "      <th>prox_land_use_8</th>\n",
       "      <th>prox_land_use_10</th>\n",
       "    </tr>\n",
       "  </thead>\n",
       "  <tbody>\n",
       "    <tr>\n",
       "      <th>count</th>\n",
       "      <td>16364.000000</td>\n",
       "      <td>16364.000000</td>\n",
       "      <td>16364.000000</td>\n",
       "      <td>16364.000000</td>\n",
       "      <td>16364.000000</td>\n",
       "      <td>16364.000000</td>\n",
       "      <td>16364.000000</td>\n",
       "      <td>16364.000000</td>\n",
       "      <td>16364.000000</td>\n",
       "      <td>16364.000000</td>\n",
       "      <td>...</td>\n",
       "      <td>16364.000000</td>\n",
       "      <td>16364.000000</td>\n",
       "      <td>16364.000000</td>\n",
       "      <td>16364.000000</td>\n",
       "      <td>16364.000000</td>\n",
       "      <td>16364.000000</td>\n",
       "      <td>16364.000000</td>\n",
       "      <td>16364.000000</td>\n",
       "      <td>16364.000000</td>\n",
       "      <td>16364.000000</td>\n",
       "    </tr>\n",
       "    <tr>\n",
       "      <th>mean</th>\n",
       "      <td>1196.885419</td>\n",
       "      <td>1196.716285</td>\n",
       "      <td>1211.874739</td>\n",
       "      <td>1231.523479</td>\n",
       "      <td>1243.998198</td>\n",
       "      <td>1253.503686</td>\n",
       "      <td>1260.394025</td>\n",
       "      <td>1212.248156</td>\n",
       "      <td>1226.195362</td>\n",
       "      <td>1232.288876</td>\n",
       "      <td>...</td>\n",
       "      <td>1201.363026</td>\n",
       "      <td>1205.817539</td>\n",
       "      <td>1209.934779</td>\n",
       "      <td>1212.555206</td>\n",
       "      <td>1214.278899</td>\n",
       "      <td>1207.201154</td>\n",
       "      <td>1207.943077</td>\n",
       "      <td>1208.018960</td>\n",
       "      <td>1208.044579</td>\n",
       "      <td>1208.080885</td>\n",
       "    </tr>\n",
       "    <tr>\n",
       "      <th>std</th>\n",
       "      <td>535.238903</td>\n",
       "      <td>443.298574</td>\n",
       "      <td>455.602206</td>\n",
       "      <td>468.270964</td>\n",
       "      <td>475.984266</td>\n",
       "      <td>481.590511</td>\n",
       "      <td>485.664468</td>\n",
       "      <td>452.882563</td>\n",
       "      <td>458.052717</td>\n",
       "      <td>459.274318</td>\n",
       "      <td>...</td>\n",
       "      <td>444.158600</td>\n",
       "      <td>445.635537</td>\n",
       "      <td>446.829284</td>\n",
       "      <td>447.180553</td>\n",
       "      <td>447.192157</td>\n",
       "      <td>440.629425</td>\n",
       "      <td>440.132500</td>\n",
       "      <td>440.123973</td>\n",
       "      <td>440.105444</td>\n",
       "      <td>440.078345</td>\n",
       "    </tr>\n",
       "    <tr>\n",
       "      <th>min</th>\n",
       "      <td>99.000000</td>\n",
       "      <td>361.248839</td>\n",
       "      <td>370.626458</td>\n",
       "      <td>371.747391</td>\n",
       "      <td>371.747391</td>\n",
       "      <td>371.747391</td>\n",
       "      <td>371.747391</td>\n",
       "      <td>362.653175</td>\n",
       "      <td>368.301897</td>\n",
       "      <td>368.301897</td>\n",
       "      <td>...</td>\n",
       "      <td>394.438884</td>\n",
       "      <td>417.374180</td>\n",
       "      <td>417.374180</td>\n",
       "      <td>417.374180</td>\n",
       "      <td>417.374180</td>\n",
       "      <td>361.248839</td>\n",
       "      <td>361.248839</td>\n",
       "      <td>361.248839</td>\n",
       "      <td>361.248839</td>\n",
       "      <td>361.248839</td>\n",
       "    </tr>\n",
       "    <tr>\n",
       "      <th>25%</th>\n",
       "      <td>804.000000</td>\n",
       "      <td>851.880846</td>\n",
       "      <td>854.105474</td>\n",
       "      <td>857.165305</td>\n",
       "      <td>859.153672</td>\n",
       "      <td>859.976966</td>\n",
       "      <td>860.077949</td>\n",
       "      <td>865.961574</td>\n",
       "      <td>874.682794</td>\n",
       "      <td>876.140946</td>\n",
       "      <td>...</td>\n",
       "      <td>859.292199</td>\n",
       "      <td>863.296723</td>\n",
       "      <td>864.753047</td>\n",
       "      <td>865.984979</td>\n",
       "      <td>866.859829</td>\n",
       "      <td>881.105184</td>\n",
       "      <td>882.691701</td>\n",
       "      <td>883.001929</td>\n",
       "      <td>883.001929</td>\n",
       "      <td>883.091132</td>\n",
       "    </tr>\n",
       "    <tr>\n",
       "      <th>50%</th>\n",
       "      <td>1153.000000</td>\n",
       "      <td>1218.117576</td>\n",
       "      <td>1225.863788</td>\n",
       "      <td>1235.962973</td>\n",
       "      <td>1244.402468</td>\n",
       "      <td>1251.001268</td>\n",
       "      <td>1255.343659</td>\n",
       "      <td>1229.035292</td>\n",
       "      <td>1248.345552</td>\n",
       "      <td>1261.346031</td>\n",
       "      <td>...</td>\n",
       "      <td>1220.339521</td>\n",
       "      <td>1223.428826</td>\n",
       "      <td>1230.852230</td>\n",
       "      <td>1241.253739</td>\n",
       "      <td>1248.074554</td>\n",
       "      <td>1227.827306</td>\n",
       "      <td>1228.681400</td>\n",
       "      <td>1228.681400</td>\n",
       "      <td>1228.681400</td>\n",
       "      <td>1228.681400</td>\n",
       "    </tr>\n",
       "    <tr>\n",
       "      <th>75%</th>\n",
       "      <td>1443.000000</td>\n",
       "      <td>1416.275125</td>\n",
       "      <td>1454.306692</td>\n",
       "      <td>1506.125144</td>\n",
       "      <td>1538.866996</td>\n",
       "      <td>1567.070658</td>\n",
       "      <td>1588.503558</td>\n",
       "      <td>1433.636588</td>\n",
       "      <td>1470.280565</td>\n",
       "      <td>1495.352612</td>\n",
       "      <td>...</td>\n",
       "      <td>1418.650059</td>\n",
       "      <td>1424.570771</td>\n",
       "      <td>1430.726397</td>\n",
       "      <td>1434.637151</td>\n",
       "      <td>1437.989436</td>\n",
       "      <td>1432.000487</td>\n",
       "      <td>1432.670728</td>\n",
       "      <td>1432.670728</td>\n",
       "      <td>1432.670728</td>\n",
       "      <td>1432.670728</td>\n",
       "    </tr>\n",
       "    <tr>\n",
       "      <th>max</th>\n",
       "      <td>3501.000000</td>\n",
       "      <td>3308.210172</td>\n",
       "      <td>3306.125553</td>\n",
       "      <td>3306.125553</td>\n",
       "      <td>3306.125553</td>\n",
       "      <td>3306.125553</td>\n",
       "      <td>3306.125553</td>\n",
       "      <td>3274.001547</td>\n",
       "      <td>3274.001547</td>\n",
       "      <td>3274.001547</td>\n",
       "      <td>...</td>\n",
       "      <td>3308.210172</td>\n",
       "      <td>3308.210172</td>\n",
       "      <td>3308.210172</td>\n",
       "      <td>3308.210172</td>\n",
       "      <td>3308.210172</td>\n",
       "      <td>3220.436719</td>\n",
       "      <td>3220.436719</td>\n",
       "      <td>3220.436719</td>\n",
       "      <td>3220.436719</td>\n",
       "      <td>3220.436719</td>\n",
       "    </tr>\n",
       "  </tbody>\n",
       "</table>\n",
       "<p>8 rows × 27 columns</p>\n",
       "</div>"
      ],
      "text/plain": [
       "             y_real        y_pred  prox_trans_2  prox_trans_4  prox_trans_6  \\\n",
       "count  16364.000000  16364.000000  16364.000000  16364.000000  16364.000000   \n",
       "mean    1196.885419   1196.716285   1211.874739   1231.523479   1243.998198   \n",
       "std      535.238903    443.298574    455.602206    468.270964    475.984266   \n",
       "min       99.000000    361.248839    370.626458    371.747391    371.747391   \n",
       "25%      804.000000    851.880846    854.105474    857.165305    859.153672   \n",
       "50%     1153.000000   1218.117576   1225.863788   1235.962973   1244.402468   \n",
       "75%     1443.000000   1416.275125   1454.306692   1506.125144   1538.866996   \n",
       "max     3501.000000   3308.210172   3306.125553   3306.125553   3306.125553   \n",
       "\n",
       "       prox_trans_8  prox_trans_10   prox_auto_2   prox_auto_4   prox_auto_6  \\\n",
       "count  16364.000000   16364.000000  16364.000000  16364.000000  16364.000000   \n",
       "mean    1253.503686    1260.394025   1212.248156   1226.195362   1232.288876   \n",
       "std      481.590511     485.664468    452.882563    458.052717    459.274318   \n",
       "min      371.747391     371.747391    362.653175    368.301897    368.301897   \n",
       "25%      859.976966     860.077949    865.961574    874.682794    876.140946   \n",
       "50%     1251.001268    1255.343659   1229.035292   1248.345552   1261.346031   \n",
       "75%     1567.070658    1588.503558   1433.636588   1470.280565   1495.352612   \n",
       "max     3306.125553    3306.125553   3274.001547   3274.001547   3274.001547   \n",
       "\n",
       "       ...  trans_walk_trip_2  trans_walk_trip_4  trans_walk_trip_6  \\\n",
       "count  ...       16364.000000       16364.000000       16364.000000   \n",
       "mean   ...        1201.363026        1205.817539        1209.934779   \n",
       "std    ...         444.158600         445.635537         446.829284   \n",
       "min    ...         394.438884         417.374180         417.374180   \n",
       "25%    ...         859.292199         863.296723         864.753047   \n",
       "50%    ...        1220.339521        1223.428826        1230.852230   \n",
       "75%    ...        1418.650059        1424.570771        1430.726397   \n",
       "max    ...        3308.210172        3308.210172        3308.210172   \n",
       "\n",
       "       trans_walk_trip_8  trans_walk_trip_10  prox_land_use_2  \\\n",
       "count       16364.000000        16364.000000     16364.000000   \n",
       "mean         1212.555206         1214.278899      1207.201154   \n",
       "std           447.180553          447.192157       440.629425   \n",
       "min           417.374180          417.374180       361.248839   \n",
       "25%           865.984979          866.859829       881.105184   \n",
       "50%          1241.253739         1248.074554      1227.827306   \n",
       "75%          1434.637151         1437.989436      1432.000487   \n",
       "max          3308.210172         3308.210172      3220.436719   \n",
       "\n",
       "       prox_land_use_4  prox_land_use_6  prox_land_use_8  prox_land_use_10  \n",
       "count     16364.000000     16364.000000     16364.000000      16364.000000  \n",
       "mean       1207.943077      1208.018960      1208.044579       1208.080885  \n",
       "std         440.132500       440.123973       440.105444        440.078345  \n",
       "min         361.248839       361.248839       361.248839        361.248839  \n",
       "25%         882.691701       883.001929       883.001929        883.091132  \n",
       "50%        1228.681400      1228.681400      1228.681400       1228.681400  \n",
       "75%        1432.670728      1432.670728      1432.670728       1432.670728  \n",
       "max        3220.436719      3220.436719      3220.436719       3220.436719  \n",
       "\n",
       "[8 rows x 27 columns]"
      ]
     },
     "execution_count": 203,
     "metadata": {},
     "output_type": "execute_result"
    }
   ],
   "source": [
    "df_Y.describe()"
   ]
  },
  {
   "cell_type": "code",
   "execution_count": 204,
   "metadata": {},
   "outputs": [],
   "source": [
    "rent_pred.to_pickle(\"./all_data.pkl\")"
   ]
  }
 ],
 "metadata": {
  "kernelspec": {
   "display_name": "Python 3",
   "language": "python",
   "name": "python3"
  },
  "language_info": {
   "codemirror_mode": {
    "name": "ipython",
    "version": 3
   },
   "file_extension": ".py",
   "mimetype": "text/x-python",
   "name": "python",
   "nbconvert_exporter": "python",
   "pygments_lexer": "ipython3",
   "version": "3.8.3"
  }
 },
 "nbformat": 4,
 "nbformat_minor": 4
}
