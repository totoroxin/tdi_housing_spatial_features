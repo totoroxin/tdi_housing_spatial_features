{
 "cells": [
  {
   "cell_type": "markdown",
   "metadata": {},
   "source": [
    "## Tasks\n",
    "1. plot seven categories vs. rent in NY and NJ (two plots) by county\n",
    "https://docs.bokeh.org/en/2.2.3/docs/gallery/bar_mixed.html\n",
    "（Done)\n",
    "\n",
    "2. draw a diagram to show how I connect the data: recursion algorithm\n",
    "\n",
    "3. adding NY's plot\n",
    "\n",
    "4. write the whole story\n",
    "\n",
    "5. Modify some web features"
   ]
  },
  {
   "cell_type": "markdown",
   "metadata": {},
   "source": [
    "# Analyses on social-spatial data and gross rent"
   ]
  },
  {
   "cell_type": "code",
   "execution_count": 1,
   "metadata": {},
   "outputs": [],
   "source": [
    "import numpy as np\n",
    "import math\n",
    "import collections\n",
    "import pandas as pd\n",
    "import pickle\n",
    "import json\n",
    "\n",
    "import seaborn as sns\n",
    "import matplotlib.pyplot as plt\n",
    "%matplotlib inline\n",
    "\n",
    "import geopandas as gpd\n",
    "from IPython.display import GeoJSON"
   ]
  },
  {
   "cell_type": "code",
   "execution_count": 48,
   "metadata": {},
   "outputs": [
    {
     "data": {
      "text/html": [
       "\n",
       "    <div class=\"bk-root\">\n",
       "        <a href=\"https://bokeh.org\" target=\"_blank\" class=\"bk-logo bk-logo-small bk-logo-notebook\"></a>\n",
       "        <span id=\"6673\">Loading BokehJS ...</span>\n",
       "    </div>"
      ]
     },
     "metadata": {},
     "output_type": "display_data"
    },
    {
     "data": {
      "application/javascript": [
       "\n",
       "(function(root) {\n",
       "  function now() {\n",
       "    return new Date();\n",
       "  }\n",
       "\n",
       "  var force = true;\n",
       "\n",
       "  if (typeof root._bokeh_onload_callbacks === \"undefined\" || force === true) {\n",
       "    root._bokeh_onload_callbacks = [];\n",
       "    root._bokeh_is_loading = undefined;\n",
       "  }\n",
       "\n",
       "  var JS_MIME_TYPE = 'application/javascript';\n",
       "  var HTML_MIME_TYPE = 'text/html';\n",
       "  var EXEC_MIME_TYPE = 'application/vnd.bokehjs_exec.v0+json';\n",
       "  var CLASS_NAME = 'output_bokeh rendered_html';\n",
       "\n",
       "  /**\n",
       "   * Render data to the DOM node\n",
       "   */\n",
       "  function render(props, node) {\n",
       "    var script = document.createElement(\"script\");\n",
       "    node.appendChild(script);\n",
       "  }\n",
       "\n",
       "  /**\n",
       "   * Handle when an output is cleared or removed\n",
       "   */\n",
       "  function handleClearOutput(event, handle) {\n",
       "    var cell = handle.cell;\n",
       "\n",
       "    var id = cell.output_area._bokeh_element_id;\n",
       "    var server_id = cell.output_area._bokeh_server_id;\n",
       "    // Clean up Bokeh references\n",
       "    if (id != null && id in Bokeh.index) {\n",
       "      Bokeh.index[id].model.document.clear();\n",
       "      delete Bokeh.index[id];\n",
       "    }\n",
       "\n",
       "    if (server_id !== undefined) {\n",
       "      // Clean up Bokeh references\n",
       "      var cmd = \"from bokeh.io.state import curstate; print(curstate().uuid_to_server['\" + server_id + \"'].get_sessions()[0].document.roots[0]._id)\";\n",
       "      cell.notebook.kernel.execute(cmd, {\n",
       "        iopub: {\n",
       "          output: function(msg) {\n",
       "            var id = msg.content.text.trim();\n",
       "            if (id in Bokeh.index) {\n",
       "              Bokeh.index[id].model.document.clear();\n",
       "              delete Bokeh.index[id];\n",
       "            }\n",
       "          }\n",
       "        }\n",
       "      });\n",
       "      // Destroy server and session\n",
       "      var cmd = \"import bokeh.io.notebook as ion; ion.destroy_server('\" + server_id + \"')\";\n",
       "      cell.notebook.kernel.execute(cmd);\n",
       "    }\n",
       "  }\n",
       "\n",
       "  /**\n",
       "   * Handle when a new output is added\n",
       "   */\n",
       "  function handleAddOutput(event, handle) {\n",
       "    var output_area = handle.output_area;\n",
       "    var output = handle.output;\n",
       "\n",
       "    // limit handleAddOutput to display_data with EXEC_MIME_TYPE content only\n",
       "    if ((output.output_type != \"display_data\") || (!output.data.hasOwnProperty(EXEC_MIME_TYPE))) {\n",
       "      return\n",
       "    }\n",
       "\n",
       "    var toinsert = output_area.element.find(\".\" + CLASS_NAME.split(' ')[0]);\n",
       "\n",
       "    if (output.metadata[EXEC_MIME_TYPE][\"id\"] !== undefined) {\n",
       "      toinsert[toinsert.length - 1].firstChild.textContent = output.data[JS_MIME_TYPE];\n",
       "      // store reference to embed id on output_area\n",
       "      output_area._bokeh_element_id = output.metadata[EXEC_MIME_TYPE][\"id\"];\n",
       "    }\n",
       "    if (output.metadata[EXEC_MIME_TYPE][\"server_id\"] !== undefined) {\n",
       "      var bk_div = document.createElement(\"div\");\n",
       "      bk_div.innerHTML = output.data[HTML_MIME_TYPE];\n",
       "      var script_attrs = bk_div.children[0].attributes;\n",
       "      for (var i = 0; i < script_attrs.length; i++) {\n",
       "        toinsert[toinsert.length - 1].firstChild.setAttribute(script_attrs[i].name, script_attrs[i].value);\n",
       "        toinsert[toinsert.length - 1].firstChild.textContent = bk_div.children[0].textContent\n",
       "      }\n",
       "      // store reference to server id on output_area\n",
       "      output_area._bokeh_server_id = output.metadata[EXEC_MIME_TYPE][\"server_id\"];\n",
       "    }\n",
       "  }\n",
       "\n",
       "  function register_renderer(events, OutputArea) {\n",
       "\n",
       "    function append_mime(data, metadata, element) {\n",
       "      // create a DOM node to render to\n",
       "      var toinsert = this.create_output_subarea(\n",
       "        metadata,\n",
       "        CLASS_NAME,\n",
       "        EXEC_MIME_TYPE\n",
       "      );\n",
       "      this.keyboard_manager.register_events(toinsert);\n",
       "      // Render to node\n",
       "      var props = {data: data, metadata: metadata[EXEC_MIME_TYPE]};\n",
       "      render(props, toinsert[toinsert.length - 1]);\n",
       "      element.append(toinsert);\n",
       "      return toinsert\n",
       "    }\n",
       "\n",
       "    /* Handle when an output is cleared or removed */\n",
       "    events.on('clear_output.CodeCell', handleClearOutput);\n",
       "    events.on('delete.Cell', handleClearOutput);\n",
       "\n",
       "    /* Handle when a new output is added */\n",
       "    events.on('output_added.OutputArea', handleAddOutput);\n",
       "\n",
       "    /**\n",
       "     * Register the mime type and append_mime function with output_area\n",
       "     */\n",
       "    OutputArea.prototype.register_mime_type(EXEC_MIME_TYPE, append_mime, {\n",
       "      /* Is output safe? */\n",
       "      safe: true,\n",
       "      /* Index of renderer in `output_area.display_order` */\n",
       "      index: 0\n",
       "    });\n",
       "  }\n",
       "\n",
       "  // register the mime type if in Jupyter Notebook environment and previously unregistered\n",
       "  if (root.Jupyter !== undefined) {\n",
       "    var events = require('base/js/events');\n",
       "    var OutputArea = require('notebook/js/outputarea').OutputArea;\n",
       "\n",
       "    if (OutputArea.prototype.mime_types().indexOf(EXEC_MIME_TYPE) == -1) {\n",
       "      register_renderer(events, OutputArea);\n",
       "    }\n",
       "  }\n",
       "\n",
       "  \n",
       "  if (typeof (root._bokeh_timeout) === \"undefined\" || force === true) {\n",
       "    root._bokeh_timeout = Date.now() + 5000;\n",
       "    root._bokeh_failed_load = false;\n",
       "  }\n",
       "\n",
       "  var NB_LOAD_WARNING = {'data': {'text/html':\n",
       "     \"<div style='background-color: #fdd'>\\n\"+\n",
       "     \"<p>\\n\"+\n",
       "     \"BokehJS does not appear to have successfully loaded. If loading BokehJS from CDN, this \\n\"+\n",
       "     \"may be due to a slow or bad network connection. Possible fixes:\\n\"+\n",
       "     \"</p>\\n\"+\n",
       "     \"<ul>\\n\"+\n",
       "     \"<li>re-rerun `output_notebook()` to attempt to load from CDN again, or</li>\\n\"+\n",
       "     \"<li>use INLINE resources instead, as so:</li>\\n\"+\n",
       "     \"</ul>\\n\"+\n",
       "     \"<code>\\n\"+\n",
       "     \"from bokeh.resources import INLINE\\n\"+\n",
       "     \"output_notebook(resources=INLINE)\\n\"+\n",
       "     \"</code>\\n\"+\n",
       "     \"</div>\"}};\n",
       "\n",
       "  function display_loaded() {\n",
       "    var el = document.getElementById(\"6673\");\n",
       "    if (el != null) {\n",
       "      el.textContent = \"BokehJS is loading...\";\n",
       "    }\n",
       "    if (root.Bokeh !== undefined) {\n",
       "      if (el != null) {\n",
       "        el.textContent = \"BokehJS \" + root.Bokeh.version + \" successfully loaded.\";\n",
       "      }\n",
       "    } else if (Date.now() < root._bokeh_timeout) {\n",
       "      setTimeout(display_loaded, 100)\n",
       "    }\n",
       "  }\n",
       "\n",
       "\n",
       "  function run_callbacks() {\n",
       "    try {\n",
       "      root._bokeh_onload_callbacks.forEach(function(callback) {\n",
       "        if (callback != null)\n",
       "          callback();\n",
       "      });\n",
       "    } finally {\n",
       "      delete root._bokeh_onload_callbacks\n",
       "    }\n",
       "    console.debug(\"Bokeh: all callbacks have finished\");\n",
       "  }\n",
       "\n",
       "  function load_libs(css_urls, js_urls, callback) {\n",
       "    if (css_urls == null) css_urls = [];\n",
       "    if (js_urls == null) js_urls = [];\n",
       "\n",
       "    root._bokeh_onload_callbacks.push(callback);\n",
       "    if (root._bokeh_is_loading > 0) {\n",
       "      console.debug(\"Bokeh: BokehJS is being loaded, scheduling callback at\", now());\n",
       "      return null;\n",
       "    }\n",
       "    if (js_urls == null || js_urls.length === 0) {\n",
       "      run_callbacks();\n",
       "      return null;\n",
       "    }\n",
       "    console.debug(\"Bokeh: BokehJS not loaded, scheduling load and callback at\", now());\n",
       "    root._bokeh_is_loading = css_urls.length + js_urls.length;\n",
       "\n",
       "    function on_load() {\n",
       "      root._bokeh_is_loading--;\n",
       "      if (root._bokeh_is_loading === 0) {\n",
       "        console.debug(\"Bokeh: all BokehJS libraries/stylesheets loaded\");\n",
       "        run_callbacks()\n",
       "      }\n",
       "    }\n",
       "\n",
       "    function on_error() {\n",
       "      console.error(\"failed to load \" + url);\n",
       "    }\n",
       "\n",
       "    for (var i = 0; i < css_urls.length; i++) {\n",
       "      var url = css_urls[i];\n",
       "      const element = document.createElement(\"link\");\n",
       "      element.onload = on_load;\n",
       "      element.onerror = on_error;\n",
       "      element.rel = \"stylesheet\";\n",
       "      element.type = \"text/css\";\n",
       "      element.href = url;\n",
       "      console.debug(\"Bokeh: injecting link tag for BokehJS stylesheet: \", url);\n",
       "      document.body.appendChild(element);\n",
       "    }\n",
       "\n",
       "    const hashes = {\"https://cdn.bokeh.org/bokeh/release/bokeh-2.2.2.min.js\": \"JayppSWSRBsibIZqI8S4vAb1oFgLL0uhNvSn8cmArlOvYOwfFjYeyY5UWwJ+K0SU\", \"https://cdn.bokeh.org/bokeh/release/bokeh-widgets-2.2.2.min.js\": \"G0/Tv/Yy/zEPNsnW0Qif/FOsGesd+KIrKg/QLmvQmReuUW9qmSP7mAmr0VpiUNr3\", \"https://cdn.bokeh.org/bokeh/release/bokeh-tables-2.2.2.min.js\": \"VLYHEbLQDk5G1+/4ALU0myoJPMEUsngWry2fzYorFOUmarjGRPLLURaeK/on6JqX\"};\n",
       "\n",
       "    for (var i = 0; i < js_urls.length; i++) {\n",
       "      var url = js_urls[i];\n",
       "      var element = document.createElement('script');\n",
       "      element.onload = on_load;\n",
       "      element.onerror = on_error;\n",
       "      element.async = false;\n",
       "      element.src = url;\n",
       "      if (url in hashes) {\n",
       "        element.crossOrigin = \"anonymous\";\n",
       "        element.integrity = \"sha384-\" + hashes[url];\n",
       "      }\n",
       "      console.debug(\"Bokeh: injecting script tag for BokehJS library: \", url);\n",
       "      document.head.appendChild(element);\n",
       "    }\n",
       "  };\n",
       "\n",
       "  function inject_raw_css(css) {\n",
       "    const element = document.createElement(\"style\");\n",
       "    element.appendChild(document.createTextNode(css));\n",
       "    document.body.appendChild(element);\n",
       "  }\n",
       "\n",
       "  \n",
       "  var js_urls = [\"https://cdn.bokeh.org/bokeh/release/bokeh-2.2.2.min.js\", \"https://cdn.bokeh.org/bokeh/release/bokeh-widgets-2.2.2.min.js\", \"https://cdn.bokeh.org/bokeh/release/bokeh-tables-2.2.2.min.js\"];\n",
       "  var css_urls = [];\n",
       "  \n",
       "\n",
       "  var inline_js = [\n",
       "    function(Bokeh) {\n",
       "      Bokeh.set_log_level(\"info\");\n",
       "    },\n",
       "    function(Bokeh) {\n",
       "    \n",
       "    \n",
       "    }\n",
       "  ];\n",
       "\n",
       "  function run_inline_js() {\n",
       "    \n",
       "    if (root.Bokeh !== undefined || force === true) {\n",
       "      \n",
       "    for (var i = 0; i < inline_js.length; i++) {\n",
       "      inline_js[i].call(root, root.Bokeh);\n",
       "    }\n",
       "    if (force === true) {\n",
       "        display_loaded();\n",
       "      }} else if (Date.now() < root._bokeh_timeout) {\n",
       "      setTimeout(run_inline_js, 100);\n",
       "    } else if (!root._bokeh_failed_load) {\n",
       "      console.log(\"Bokeh: BokehJS failed to load within specified timeout.\");\n",
       "      root._bokeh_failed_load = true;\n",
       "    } else if (force !== true) {\n",
       "      var cell = $(document.getElementById(\"6673\")).parents('.cell').data().cell;\n",
       "      cell.output_area.append_execute_result(NB_LOAD_WARNING)\n",
       "    }\n",
       "\n",
       "  }\n",
       "\n",
       "  if (root._bokeh_is_loading === 0) {\n",
       "    console.debug(\"Bokeh: BokehJS loaded, going straight to plotting\");\n",
       "    run_inline_js();\n",
       "  } else {\n",
       "    load_libs(css_urls, js_urls, function() {\n",
       "      console.debug(\"Bokeh: BokehJS plotting callback run at\", now());\n",
       "      run_inline_js();\n",
       "    });\n",
       "  }\n",
       "}(window));"
      ],
      "application/vnd.bokehjs_load.v0+json": "\n(function(root) {\n  function now() {\n    return new Date();\n  }\n\n  var force = true;\n\n  if (typeof root._bokeh_onload_callbacks === \"undefined\" || force === true) {\n    root._bokeh_onload_callbacks = [];\n    root._bokeh_is_loading = undefined;\n  }\n\n  \n\n  \n  if (typeof (root._bokeh_timeout) === \"undefined\" || force === true) {\n    root._bokeh_timeout = Date.now() + 5000;\n    root._bokeh_failed_load = false;\n  }\n\n  var NB_LOAD_WARNING = {'data': {'text/html':\n     \"<div style='background-color: #fdd'>\\n\"+\n     \"<p>\\n\"+\n     \"BokehJS does not appear to have successfully loaded. If loading BokehJS from CDN, this \\n\"+\n     \"may be due to a slow or bad network connection. Possible fixes:\\n\"+\n     \"</p>\\n\"+\n     \"<ul>\\n\"+\n     \"<li>re-rerun `output_notebook()` to attempt to load from CDN again, or</li>\\n\"+\n     \"<li>use INLINE resources instead, as so:</li>\\n\"+\n     \"</ul>\\n\"+\n     \"<code>\\n\"+\n     \"from bokeh.resources import INLINE\\n\"+\n     \"output_notebook(resources=INLINE)\\n\"+\n     \"</code>\\n\"+\n     \"</div>\"}};\n\n  function display_loaded() {\n    var el = document.getElementById(\"6673\");\n    if (el != null) {\n      el.textContent = \"BokehJS is loading...\";\n    }\n    if (root.Bokeh !== undefined) {\n      if (el != null) {\n        el.textContent = \"BokehJS \" + root.Bokeh.version + \" successfully loaded.\";\n      }\n    } else if (Date.now() < root._bokeh_timeout) {\n      setTimeout(display_loaded, 100)\n    }\n  }\n\n\n  function run_callbacks() {\n    try {\n      root._bokeh_onload_callbacks.forEach(function(callback) {\n        if (callback != null)\n          callback();\n      });\n    } finally {\n      delete root._bokeh_onload_callbacks\n    }\n    console.debug(\"Bokeh: all callbacks have finished\");\n  }\n\n  function load_libs(css_urls, js_urls, callback) {\n    if (css_urls == null) css_urls = [];\n    if (js_urls == null) js_urls = [];\n\n    root._bokeh_onload_callbacks.push(callback);\n    if (root._bokeh_is_loading > 0) {\n      console.debug(\"Bokeh: BokehJS is being loaded, scheduling callback at\", now());\n      return null;\n    }\n    if (js_urls == null || js_urls.length === 0) {\n      run_callbacks();\n      return null;\n    }\n    console.debug(\"Bokeh: BokehJS not loaded, scheduling load and callback at\", now());\n    root._bokeh_is_loading = css_urls.length + js_urls.length;\n\n    function on_load() {\n      root._bokeh_is_loading--;\n      if (root._bokeh_is_loading === 0) {\n        console.debug(\"Bokeh: all BokehJS libraries/stylesheets loaded\");\n        run_callbacks()\n      }\n    }\n\n    function on_error() {\n      console.error(\"failed to load \" + url);\n    }\n\n    for (var i = 0; i < css_urls.length; i++) {\n      var url = css_urls[i];\n      const element = document.createElement(\"link\");\n      element.onload = on_load;\n      element.onerror = on_error;\n      element.rel = \"stylesheet\";\n      element.type = \"text/css\";\n      element.href = url;\n      console.debug(\"Bokeh: injecting link tag for BokehJS stylesheet: \", url);\n      document.body.appendChild(element);\n    }\n\n    const hashes = {\"https://cdn.bokeh.org/bokeh/release/bokeh-2.2.2.min.js\": \"JayppSWSRBsibIZqI8S4vAb1oFgLL0uhNvSn8cmArlOvYOwfFjYeyY5UWwJ+K0SU\", \"https://cdn.bokeh.org/bokeh/release/bokeh-widgets-2.2.2.min.js\": \"G0/Tv/Yy/zEPNsnW0Qif/FOsGesd+KIrKg/QLmvQmReuUW9qmSP7mAmr0VpiUNr3\", \"https://cdn.bokeh.org/bokeh/release/bokeh-tables-2.2.2.min.js\": \"VLYHEbLQDk5G1+/4ALU0myoJPMEUsngWry2fzYorFOUmarjGRPLLURaeK/on6JqX\"};\n\n    for (var i = 0; i < js_urls.length; i++) {\n      var url = js_urls[i];\n      var element = document.createElement('script');\n      element.onload = on_load;\n      element.onerror = on_error;\n      element.async = false;\n      element.src = url;\n      if (url in hashes) {\n        element.crossOrigin = \"anonymous\";\n        element.integrity = \"sha384-\" + hashes[url];\n      }\n      console.debug(\"Bokeh: injecting script tag for BokehJS library: \", url);\n      document.head.appendChild(element);\n    }\n  };\n\n  function inject_raw_css(css) {\n    const element = document.createElement(\"style\");\n    element.appendChild(document.createTextNode(css));\n    document.body.appendChild(element);\n  }\n\n  \n  var js_urls = [\"https://cdn.bokeh.org/bokeh/release/bokeh-2.2.2.min.js\", \"https://cdn.bokeh.org/bokeh/release/bokeh-widgets-2.2.2.min.js\", \"https://cdn.bokeh.org/bokeh/release/bokeh-tables-2.2.2.min.js\"];\n  var css_urls = [];\n  \n\n  var inline_js = [\n    function(Bokeh) {\n      Bokeh.set_log_level(\"info\");\n    },\n    function(Bokeh) {\n    \n    \n    }\n  ];\n\n  function run_inline_js() {\n    \n    if (root.Bokeh !== undefined || force === true) {\n      \n    for (var i = 0; i < inline_js.length; i++) {\n      inline_js[i].call(root, root.Bokeh);\n    }\n    if (force === true) {\n        display_loaded();\n      }} else if (Date.now() < root._bokeh_timeout) {\n      setTimeout(run_inline_js, 100);\n    } else if (!root._bokeh_failed_load) {\n      console.log(\"Bokeh: BokehJS failed to load within specified timeout.\");\n      root._bokeh_failed_load = true;\n    } else if (force !== true) {\n      var cell = $(document.getElementById(\"6673\")).parents('.cell').data().cell;\n      cell.output_area.append_execute_result(NB_LOAD_WARNING)\n    }\n\n  }\n\n  if (root._bokeh_is_loading === 0) {\n    console.debug(\"Bokeh: BokehJS loaded, going straight to plotting\");\n    run_inline_js();\n  } else {\n    load_libs(css_urls, js_urls, function() {\n      console.debug(\"Bokeh: BokehJS plotting callback run at\", now());\n      run_inline_js();\n    });\n  }\n}(window));"
     },
     "metadata": {},
     "output_type": "display_data"
    }
   ],
   "source": [
    "from bokeh.io import show, output_notebook, output_file\n",
    "from bokeh.models import (FactorRange, CDSView, ColorBar, ColumnDataSource,\n",
    "                          CustomJS, CustomJSFilter, \n",
    "                          GeoJSONDataSource, HoverTool,\n",
    "                          LinearColorMapper, Slider,\n",
    "                          LinearAxis, Range1d, \n",
    "                          Toggle)\n",
    "from bokeh.transform import dodge\n",
    "from bokeh.layouts import column, row, widgetbox, layout\n",
    "from bokeh.resources import CDN\n",
    "from bokeh.palettes import brewer\n",
    "from bokeh.plotting import figure\n",
    "from bokeh.models.widgets import Slider, Dropdown\n",
    "\n",
    "output_notebook()"
   ]
  },
  {
   "cell_type": "markdown",
   "metadata": {},
   "source": [
    "## Data processing"
   ]
  },
  {
   "cell_type": "markdown",
   "metadata": {},
   "source": [
    "- a dataframe with spatial factors and gross rent but without geoinfo"
   ]
  },
  {
   "cell_type": "code",
   "execution_count": 51,
   "metadata": {},
   "outputs": [],
   "source": [
    "all_df = pd.read_parquet('data_aarp_census/nj_ny_merged_with_census.parquet')\n",
    "ml = pd.read_pickle('all_data.pkl')"
   ]
  },
  {
   "cell_type": "code",
   "execution_count": 52,
   "metadata": {},
   "outputs": [],
   "source": [
    "all_df = all_df.replace({'B25058_001E': {None: 0, -666666666.0: 0}})"
   ]
  },
  {
   "cell_type": "code",
   "execution_count": 53,
   "metadata": {},
   "outputs": [
    {
     "data": {
      "text/plain": [
       "0"
      ]
     },
     "execution_count": 53,
     "metadata": {},
     "output_type": "execute_result"
    }
   ],
   "source": [
    "all_df['B25058_001E'].isnull().sum()"
   ]
  },
  {
   "cell_type": "code",
   "execution_count": 54,
   "metadata": {},
   "outputs": [],
   "source": [
    "# df = all_df[(all_df['B25058_001E'] > 0) & (all_df['total_score'] > 0)]\n",
    "df = all_df.rename(columns={'B25058_001E': 'med_rent'})\n",
    "df = df.drop(['up_mobile', 'engage_vol'], axis=1)"
   ]
  },
  {
   "cell_type": "code",
   "execution_count": 55,
   "metadata": {},
   "outputs": [],
   "source": [
    "county_nj_ny = pd.read_csv('data_aarp_census/census/county_index.txt', delimiter= '\\t', index_col=False, header=None, names=['state', 'county', 'county_name'], dtype=str)"
   ]
  },
  {
   "cell_type": "code",
   "execution_count": 56,
   "metadata": {},
   "outputs": [],
   "source": [
    "df = df.merge(county_nj_ny, how='left', on=['state', 'county'])"
   ]
  },
  {
   "cell_type": "raw",
   "metadata": {},
   "source": [
    "df.info()"
   ]
  },
  {
   "cell_type": "markdown",
   "metadata": {},
   "source": [
    "- Subsets of integrated data for modeling"
   ]
  },
  {
   "cell_type": "code",
   "execution_count": 8,
   "metadata": {},
   "outputs": [],
   "source": [
    "loc_rent = ['GEOID', 'state', 'county', 'tract', 'block group', 'county_name', 'med_rent']\n",
    "tot_lst = ['total_score', 'engagement', 'environment', 'health', 'housing', 'opportunity', 'neighborhood', 'transportation']\n",
    "demog = ['GEOID', 'median_inc', 'life_ex', 'pct_50plus', 'pct_65plus', 'pct_africa', 'pct_asian', 'pct_disabi', 'pct_hispan', 'pct_novehi', 'pct_povert']\n",
    "hs = ['house_access', 'house_burden', 'house_cost', 'house_multifam', 'house_subsidy']\n",
    "eng = ['engage_broad', 'engage_civic', 'engage_culture', 'engage_social', 'engage_vote']\n",
    "env = ['env_air_qual', 'env_pollute', 'env_road', 'env_water']\n",
    "hlth = ['health_exercise', 'health_hospital', 'health_obese', 'health_sate', 'health_short', 'health_smoke']\n",
    "ngb = ['prox_activity', 'prox_auto', 'prox_land_use', 'prox_lib', 'prox_markets', 'prox_parks', 'prox_sec', 'prox_trans', 'prox_vacant']\n",
    "trns = ['trans_access', 'trans_cost', 'trans_delay', 'trans_fatal', 'trans_freq', 'trans_speed_lim', 'trans_walk_trip']\n",
    "opp = ['opp_age', 'opp_grad', 'opp_income', 'opp_jobs']"
   ]
  },
  {
   "cell_type": "code",
   "execution_count": 12,
   "metadata": {},
   "outputs": [],
   "source": [
    "loc_df = df[loc_rent]"
   ]
  },
  {
   "cell_type": "code",
   "execution_count": 27,
   "metadata": {},
   "outputs": [
    {
     "data": {
      "text/html": [
       "<div>\n",
       "<style scoped>\n",
       "    .dataframe tbody tr th:only-of-type {\n",
       "        vertical-align: middle;\n",
       "    }\n",
       "\n",
       "    .dataframe tbody tr th {\n",
       "        vertical-align: top;\n",
       "    }\n",
       "\n",
       "    .dataframe thead th {\n",
       "        text-align: right;\n",
       "    }\n",
       "</style>\n",
       "<table border=\"1\" class=\"dataframe\">\n",
       "  <thead>\n",
       "    <tr style=\"text-align: right;\">\n",
       "      <th></th>\n",
       "      <th>GEOID</th>\n",
       "      <th>state</th>\n",
       "      <th>county</th>\n",
       "      <th>tract</th>\n",
       "      <th>block group</th>\n",
       "      <th>county_name</th>\n",
       "      <th>med_rent</th>\n",
       "    </tr>\n",
       "  </thead>\n",
       "  <tbody>\n",
       "    <tr>\n",
       "      <th>0</th>\n",
       "      <td>340010107001</td>\n",
       "      <td>34</td>\n",
       "      <td>001</td>\n",
       "      <td>010700</td>\n",
       "      <td>1</td>\n",
       "      <td>Atlantic County</td>\n",
       "      <td>0.0</td>\n",
       "    </tr>\n",
       "    <tr>\n",
       "      <th>1</th>\n",
       "      <td>340010112011</td>\n",
       "      <td>34</td>\n",
       "      <td>001</td>\n",
       "      <td>011201</td>\n",
       "      <td>1</td>\n",
       "      <td>Atlantic County</td>\n",
       "      <td>917.0</td>\n",
       "    </tr>\n",
       "    <tr>\n",
       "      <th>2</th>\n",
       "      <td>340010112021</td>\n",
       "      <td>34</td>\n",
       "      <td>001</td>\n",
       "      <td>011202</td>\n",
       "      <td>1</td>\n",
       "      <td>Atlantic County</td>\n",
       "      <td>1201.0</td>\n",
       "    </tr>\n",
       "    <tr>\n",
       "      <th>3</th>\n",
       "      <td>340010112022</td>\n",
       "      <td>34</td>\n",
       "      <td>001</td>\n",
       "      <td>011202</td>\n",
       "      <td>2</td>\n",
       "      <td>Atlantic County</td>\n",
       "      <td>1417.0</td>\n",
       "    </tr>\n",
       "    <tr>\n",
       "      <th>4</th>\n",
       "      <td>340010112023</td>\n",
       "      <td>34</td>\n",
       "      <td>001</td>\n",
       "      <td>011202</td>\n",
       "      <td>3</td>\n",
       "      <td>Atlantic County</td>\n",
       "      <td>0.0</td>\n",
       "    </tr>\n",
       "  </tbody>\n",
       "</table>\n",
       "</div>"
      ],
      "text/plain": [
       "          GEOID state county   tract block group      county_name  med_rent\n",
       "0  340010107001    34    001  010700           1  Atlantic County       0.0\n",
       "1  340010112011    34    001  011201           1  Atlantic County     917.0\n",
       "2  340010112021    34    001  011202           1  Atlantic County    1201.0\n",
       "3  340010112022    34    001  011202           2  Atlantic County    1417.0\n",
       "4  340010112023    34    001  011202           3  Atlantic County       0.0"
      ]
     },
     "execution_count": 27,
     "metadata": {},
     "output_type": "execute_result"
    }
   ],
   "source": [
    "loc_df.head()"
   ]
  },
  {
   "cell_type": "code",
   "execution_count": 20,
   "metadata": {},
   "outputs": [
    {
     "data": {
      "text/plain": [
       "array([[<matplotlib.axes._subplots.AxesSubplot object at 0x000002694EA6BDF0>]],\n",
       "      dtype=object)"
      ]
     },
     "execution_count": 20,
     "metadata": {},
     "output_type": "execute_result"
    },
    {
     "data": {
      "image/png": "[encoded data removed]",
      "text/plain": [
       "<Figure size 432x288 with 1 Axes>"
      ]
     },
     "metadata": {
      "needs_background": "light"
     },
     "output_type": "display_data"
    }
   ],
   "source": [
    "df.hist('med_rent')"
   ]
  },
  {
   "cell_type": "markdown",
   "metadata": {},
   "source": [
    "- a datafram with geo info"
   ]
  },
  {
   "cell_type": "code",
   "execution_count": 57,
   "metadata": {},
   "outputs": [],
   "source": [
    "gdf = gpd.read_file('data_aarp_census/nj_ny_geoid.geojson')\n",
    "gdf = gdf.drop(['up_mobile', 'engage_vol'], axis=1)"
   ]
  },
  {
   "cell_type": "raw",
   "metadata": {},
   "source": [
    "GeoJSON(json.loads(geodf.to_json()))"
   ]
  },
  {
   "cell_type": "code",
   "execution_count": 58,
   "metadata": {},
   "outputs": [],
   "source": [
    "# Merge geodata with rent data\n",
    "gdf_rent = gdf.merge(loc_df, left_on = 'GEOID', right_on = 'GEOID')"
   ]
  },
  {
   "cell_type": "raw",
   "metadata": {},
   "source": [
    "ml.info()"
   ]
  },
  {
   "cell_type": "code",
   "execution_count": null,
   "metadata": {},
   "outputs": [],
   "source": [
    "# merge the geo and rent data with pred_rent data\n",
    "ml_lst = [59] + list(range(66, 93))\n",
    "all_data = pd.merge(gdf_rent, ml.iloc[:, ml_lst], how='left', on='GEOID')\n",
    "all_data = all_data.fillna(0)"
   ]
  },
  {
   "cell_type": "code",
   "execution_count": 70,
   "metadata": {},
   "outputs": [],
   "source": [
    "# write the merged data (geo + aarp + rent)\n",
    "all_data.to_pickle(\"./all_data.pkl\")"
   ]
  },
  {
   "cell_type": "code",
   "execution_count": null,
   "metadata": {},
   "outputs": [],
   "source": []
  },
  {
   "cell_type": "code",
   "execution_count": null,
   "metadata": {},
   "outputs": [],
   "source": []
  },
  {
   "cell_type": "code",
   "execution_count": null,
   "metadata": {},
   "outputs": [],
   "source": []
  },
  {
   "cell_type": "markdown",
   "metadata": {},
   "source": [
    "## Vis on median rent distribution"
   ]
  },
  {
   "cell_type": "code",
   "execution_count": 4,
   "metadata": {},
   "outputs": [],
   "source": [
    "# load the data with all columns and predictions\n",
    "tot_gdf = pd.read_pickle('all_data.pkl')"
   ]
  },
  {
   "cell_type": "code",
   "execution_count": 18,
   "metadata": {},
   "outputs": [],
   "source": [
    "loc_rent = ['GEOID', 'state', 'county', 'tract', 'block group', 'county_name', 'med_rent', 'geometry']\n",
    "tot_lst = ['total_score', 'engagement', 'environment', 'health', 'housing', 'opportunity', 'neighborhood', 'transportation']\n",
    "demog = ['GEOID', 'median_inc', 'life_ex', 'pct_50plus', 'pct_65plus', 'pct_africa', 'pct_asian', 'pct_disabi', 'pct_hispan', 'pct_novehi', 'pct_povert']\n",
    "hs = ['house_access', 'house_burden', 'house_cost', 'house_multifam', 'house_subsidy']\n",
    "eng = ['engage_broad', 'engage_civic', 'engage_culture', 'engage_social', 'engage_vote']\n",
    "env = ['env_air_qual', 'env_pollute', 'env_road', 'env_water']\n",
    "hlth = ['health_exercise', 'health_hospital', 'health_obese', 'health_sate', 'health_short', 'health_smoke']\n",
    "ngb = ['prox_activity', 'prox_auto', 'prox_land_use', 'prox_lib', 'prox_markets', 'prox_parks', 'prox_sec', 'prox_trans', 'prox_vacant']\n",
    "trns = ['trans_access', 'trans_cost', 'trans_delay', 'trans_fatal', 'trans_freq', 'trans_speed_lim', 'trans_walk_trip']\n",
    "opp = ['opp_age', 'opp_grad', 'opp_income', 'opp_jobs']\n",
    "metro_ny = ['Kings County', 'Queens County', 'Bronx County', 'New York County', 'Richmond County', 'Nassau County', 'Westchester County', 'Rockland County']\n",
    "north_nj = ['Bergen County', 'Union County', 'Essex County', 'Hudson County', 'Morris County', 'Passaic County', 'Sussex County', 'Warren County']"
   ]
  },
  {
   "cell_type": "code",
   "execution_count": 6,
   "metadata": {},
   "outputs": [],
   "source": [
    "# subset: seven main categories\n",
    "main_gdf = tot_gdf[loc_rent + tot_lst]\n",
    "# sub categories\n",
    "sub_gdf = tot_gdf[loc_rent + eng + env + hlth + ngb + trns + opp]"
   ]
  },
  {
   "cell_type": "code",
   "execution_count": 23,
   "metadata": {},
   "outputs": [],
   "source": [
    "tot_nj = main_gdf[tot_gdf['state'] == '34']\n",
    "tot_ny = main_gdf[tot_gdf['state'] == '36']\n",
    "nj_north = tot_nj[tot_nj['county_name'].isin(north_nj)]\n",
    "ny_metro = tot_ny[tot_ny['county_name'].isin(metro_ny)]"
   ]
  },
  {
   "cell_type": "code",
   "execution_count": 22,
   "metadata": {},
   "outputs": [],
   "source": [
    "pd.set_option('display.max_rows', 999)"
   ]
  },
  {
   "cell_type": "raw",
   "metadata": {},
   "source": [
    "tot_ny['county_name'].value_counts()"
   ]
  },
  {
   "cell_type": "markdown",
   "metadata": {},
   "source": [
    "- **Bar plot**"
   ]
  },
  {
   "cell_type": "code",
   "execution_count": 75,
   "metadata": {},
   "outputs": [],
   "source": [
    "ch = tot_nj[['county_name','housing']]"
   ]
  },
  {
   "cell_type": "raw",
   "metadata": {},
   "source": [
    "# output_file(\"bar_mixed.html\")\n",
    "ch = tot_nj[['county_name', 'housing']].groupby('county_name').mean()\n",
    "\n",
    "p = figure(x_range = ch.index.tolist(), plot_width=1250, plot_height=350, title='New Jersey',\n",
    "           toolbar_location=None, tools=\"\")\n",
    "\n",
    "p.vbar(x=ch.index.tolist(), top=ch['housing'], width=0.7)\n",
    "\n",
    "show(p)"
   ]
  },
  {
   "cell_type": "code",
   "execution_count": 88,
   "metadata": {},
   "outputs": [
    {
     "data": {
      "text/html": [
       "\n",
       "\n",
       "\n",
       "\n",
       "\n",
       "\n",
       "  <div class=\"bk-root\" id=\"228a3313-2d15-425b-96ac-f4bbd3492e88\" data-root-id=\"26813\"></div>\n"
      ]
     },
     "metadata": {},
     "output_type": "display_data"
    },
    {
     "data": {
      "application/javascript": [
       "(function(root) {\n",
       "  function embed_document(root) {\n",
       "    \n",
       "  var docs_json = {\"a1821035-e55e-42e5-abc4-a31df5100f8d\":{\"roots\":{\"references\":[{\"attributes\":{\"children\":[{\"id\":\"26811\"},{\"id\":\"26812\"}]},\"id\":\"26813\",\"type\":\"Column\"},{\"attributes\":{},\"id\":\"26682\",\"type\":\"SaveTool\"},{\"attributes\":{\"fill_alpha\":{\"value\":0.1},\"fill_color\":{\"value\":\"#ffffbf\"},\"line_alpha\":{\"value\":0.1},\"line_color\":{\"value\":\"#ffffbf\"},\"top\":{\"field\":\"housing_mean\"},\"width\":{\"value\":0.1},\"x\":{\"field\":\"county_name\",\"transform\":{\"id\":\"26742\"}}},\"id\":\"26745\",\"type\":\"VBar\"},{\"attributes\":{\"label\":{\"value\":\"housing\"},\"renderers\":[{\"id\":\"26746\"}]},\"id\":\"26756\",\"type\":\"LegendItem\"},{\"attributes\":{\"fill_alpha\":{\"value\":0.1},\"fill_color\":{\"value\":\"#d73027\"},\"line_alpha\":{\"value\":0.1},\"line_color\":{\"value\":\"#d73027\"},\"top\":{\"field\":\"engagement_mean\"},\"width\":{\"value\":0.1},\"x\":{\"field\":\"county_name\",\"transform\":{\"id\":\"26696\"}}},\"id\":\"26699\",\"type\":\"VBar\"},{\"attributes\":{\"data_source\":{\"id\":\"26660\"},\"glyph\":{\"id\":\"26744\"},\"hover_glyph\":null,\"muted_glyph\":null,\"nonselection_glyph\":{\"id\":\"26745\"},\"selection_glyph\":null,\"view\":{\"id\":\"26747\"}},\"id\":\"26746\",\"type\":\"GlyphRenderer\"},{\"attributes\":{\"label\":{\"value\":\"engagement\"},\"renderers\":[{\"id\":\"26700\"}]},\"id\":\"26711\",\"type\":\"LegendItem\"},{\"attributes\":{\"source\":{\"id\":\"26660\"}},\"id\":\"26747\",\"type\":\"CDSView\"},{\"attributes\":{},\"id\":\"26704\",\"type\":\"BasicTickFormatter\"},{\"attributes\":{},\"id\":\"26706\",\"type\":\"CategoricalTickFormatter\"},{\"attributes\":{\"label\":{\"value\":\"health\"},\"renderers\":[{\"id\":\"26731\"}]},\"id\":\"26741\",\"type\":\"LegendItem\"},{\"attributes\":{\"range\":{\"id\":\"26664\"},\"value\":0.12},\"id\":\"26757\",\"type\":\"Dodge\"},{\"attributes\":{\"range\":{\"id\":\"26664\"},\"value\":0.24},\"id\":\"26772\",\"type\":\"Dodge\"},{\"attributes\":{\"label\":{\"value\":\"opportunity\"},\"renderers\":[{\"id\":\"26761\"}]},\"id\":\"26771\",\"type\":\"LegendItem\"},{\"attributes\":{\"data\":{\"county_name\":[\"Bergen County\",\"Essex County\",\"Hudson County\",\"Morris County\",\"Passaic County\",\"Sussex County\",\"Union County\",\"Warren County\"],\"engagement_25%\":{\"__ndarray__\":\"AAAAAAAATEAAAAAAAEBRQAAAAAAAAEhAAAAAAAAAT0AAAAAAAABNQAAAAAAAMFFAAAAAAAAATkAAAAAAAABLQA==\",\"dtype\":\"float64\",\"order\":\"little\",\"shape\":[8]},\"engagement_50%\":{\"__ndarray__\":\"AAAAAAAAT0AAAAAAAABSQAAAAAAAAElAAAAAAABgUUAAAAAAAABQQAAAAAAAwFFAAAAAAACAT0AAAAAAAABQQA==\",\"dtype\":\"float64\",\"order\":\"little\",\"shape\":[8]},\"engagement_75%\":{\"__ndarray__\":\"AAAAAACAUEAAAAAAAIBSQAAAAAAAAExAAAAAAADAUkAAAAAAAABRQAAAAAAAQFJAAAAAAABAUUAAAAAAAOBQQA==\",\"dtype\":\"float64\",\"order\":\"little\",\"shape\":[8]},\"engagement_count\":{\"__ndarray__\":\"AAAAAAC4iEAAAAAAAPCEQAAAAAAA0HtAAAAAAABgckAAAAAAAMB2QAAAAAAAAFtAAAAAAAAQekAAAAAAAMBTQA==\",\"dtype\":\"float64\",\"order\":\"little\",\"shape\":[8]},\"engagement_max\":{\"__ndarray__\":\"AAAAAABAUkAAAAAAAMBTQAAAAAAAgE9AAAAAAABAVEAAAAAAAEBSQAAAAAAAQFRAAAAAAAAAU0AAAAAAAMBUQA==\",\"dtype\":\"float64\",\"order\":\"little\",\"shape\":[8]},\"engagement_mean\":{\"__ndarray__\":\"duV9PQ5MTkD4hA4DRMlRQPrRj370o0lAI+Sv2VELUUD1S7/0S99OQPcS2ktoX1FA485PvopeT0C1uAnzu1pPQA==\",\"dtype\":\"float64\",\"order\":\"little\",\"shape\":[8]},\"engagement_min\":{\"__ndarray__\":\"AAAAAACAQkAAAAAAAIBLQAAAAAAAgEBAAAAAAACASUAAAAAAAIBEQAAAAAAAAElAAAAAAAAARUAAAAAAAIBIQA==\",\"dtype\":\"float64\",\"order\":\"little\",\"shape\":[8]},\"engagement_std\":{\"__ndarray__\":\"iJ9jn06AGkAJG7G4FNUNQCrwgPg30xhAeDBE6so1HUBVbSqNLL8gQLJEou4V6htAwYi1w7v+IEBOYes8F28iQA==\",\"dtype\":\"float64\",\"order\":\"little\",\"shape\":[8]},\"environment_25%\":{\"__ndarray__\":\"AAAAAAAAQUAAAAAAAABEQAAAAAAAgEpAAAAAAACgQ0AAAAAAAAA7QAAAAAAAgERAAAAAAACARUAAAAAAAIBJQA==\",\"dtype\":\"float64\",\"order\":\"little\",\"shape\":[8]},\"environment_50%\":{\"__ndarray__\":\"AAAAAAAASUAAAAAAAABMQAAAAAAAgFBAAAAAAACASEAAAAAAAIBGQAAAAAAAgERAAAAAAACATkAAAAAAAABMQA==\",\"dtype\":\"float64\",\"order\":\"little\",\"shape\":[8]},\"environment_75%\":{\"__ndarray__\":\"AAAAAACASUAAAAAAAIBMQAAAAAAAgFBAAAAAAAAAS0AAAAAAAABHQAAAAAAAAEVAAAAAAAAAT0AAAAAAAEBQQA==\",\"dtype\":\"float64\",\"order\":\"little\",\"shape\":[8]},\"environment_count\":{\"__ndarray__\":\"AAAAAAC4iEAAAAAAAPCEQAAAAAAA0HtAAAAAAABgckAAAAAAAMB2QAAAAAAAAFtAAAAAAAAQekAAAAAAAMBTQA==\",\"dtype\":\"float64\",\"order\":\"little\",\"shape\":[8]},\"environment_max\":{\"__ndarray__\":\"AAAAAACASUAAAAAAAABNQAAAAAAAgFBAAAAAAACAS0AAAAAAAABHQAAAAAAAAEVAAAAAAAAAT0AAAAAAAIBQQA==\",\"dtype\":\"float64\",\"order\":\"little\",\"shape\":[8]},\"environment_mean\":{\"__ndarray__\":\"Wv9NyT5yRUCiFIuWVbBIQOuIegdvq01AI+Sv2VELR0D6pV/6pV9CQFVVVVVV1UNAMHKGBZdKSkAqHdkzEJVLQA==\",\"dtype\":\"float64\",\"order\":\"little\",\"shape\":[8]},\"environment_min\":{\"__ndarray__\":\"AAAAAAAAAAAAAAAAAAAyQAAAAAAAAC5AAAAAAAAAGEAAAAAAAAAAAAAAAAAAACJAAAAAAAAAIEAAAAAAAAAzQA==\",\"dtype\":\"float64\",\"order\":\"little\",\"shape\":[8]},\"environment_std\":{\"__ndarray__\":\"RrD++i2jJEAXGxSD/RskQCr+opuQECRAVf1n8KKXI0BdL/wc8sUmQHm0on+cTxdAoWljzlmKJkCCGUu6+pElQA==\",\"dtype\":\"float64\",\"order\":\"little\",\"shape\":[8]},\"health_25%\":{\"__ndarray__\":\"AAAAAADAUUAAAAAAAABGQAAAAAAAAEpAAAAAAACAT0AAAAAAAIBHQAAAAAAAAExAAAAAAAAATEAAAAAAAIBJQA==\",\"dtype\":\"float64\",\"order\":\"little\",\"shape\":[8]},\"health_50%\":{\"__ndarray__\":\"AAAAAABAUkAAAAAAAIBKQAAAAAAAAEtAAAAAAADAUEAAAAAAAABMQAAAAAAAAExAAAAAAACAUEAAAAAAAIBJQA==\",\"dtype\":\"float64\",\"order\":\"little\",\"shape\":[8]},\"health_75%\":{\"__ndarray__\":\"AAAAAABAUkAAAAAAAIBOQAAAAAAAAE1AAAAAAAAAU0AAAAAAAKBOQAAAAAAAAExAAAAAAACAUEAAAAAAAABKQA==\",\"dtype\":\"float64\",\"order\":\"little\",\"shape\":[8]},\"health_count\":{\"__ndarray__\":\"AAAAAAC4iEAAAAAAAPCEQAAAAAAA0HtAAAAAAABgckAAAAAAAMB2QAAAAAAAAFtAAAAAAAAQekAAAAAAAMBTQA==\",\"dtype\":\"float64\",\"order\":\"little\",\"shape\":[8]},\"health_max\":{\"__ndarray__\":\"AAAAAADAUkAAAAAAAEBQQAAAAAAAwFJAAAAAAAAAU0AAAAAAAMBRQAAAAAAAAE1AAAAAAABAUUAAAAAAAIBKQA==\",\"dtype\":\"float64\",\"order\":\"little\",\"shape\":[8]},\"health_mean\":{\"__ndarray__\":\"vhM1BIWjUUBhL55/17pKQN2AoJ2GzktA7ahFyF/zUEALtEALtABLQHsJ7SW0F0xARwxsUF1oTkCISkf2DMRJQA==\",\"dtype\":\"float64\",\"order\":\"little\",\"shape\":[8]},\"health_min\":{\"__ndarray__\":\"AAAAAACATUAAAAAAAAA3QAAAAAAAAERAAAAAAACATUAAAAAAAIBCQAAAAAAAAEpAAAAAAACAREAAAAAAAIBJQA==\",\"dtype\":\"float64\",\"order\":\"little\",\"shape\":[8]},\"health_std\":{\"__ndarray__\":\"LRLvVqJpFEBfvskEYqoiQCHTcCe+0xpAatv8hNeiF0AjJRhfz/AgQOeQo5W8GPA/9QVWieBYH0AaW8YesfHnPw==\",\"dtype\":\"float64\",\"order\":\"little\",\"shape\":[8]},\"housing_25%\":{\"__ndarray__\":\"AAAAAAAANEAAAAAAAAA6QAAAAAAAAEJAAAAAAAAAMkAAAAAAAAA9QAAAAAAAADZAAAAAAAAAOEAAAAAAAMBAQA==\",\"dtype\":\"float64\",\"order\":\"little\",\"shape\":[8]},\"housing_50%\":{\"__ndarray__\":\"AAAAAACAQEAAAAAAAABFQAAAAAAAgEVAAAAAAAAAOkAAAAAAAMBDQAAAAAAAADxAAAAAAACAQUAAAAAAAABEQA==\",\"dtype\":\"float64\",\"order\":\"little\",\"shape\":[8]},\"housing_75%\":{\"__ndarray__\":\"AAAAAAAARUAAAAAAAABKQAAAAAAAAElAAAAAAAAAQUAAAAAAACBIQAAAAAAAAEFAAAAAAAAARkAAAAAAAEBJQA==\",\"dtype\":\"float64\",\"order\":\"little\",\"shape\":[8]},\"housing_count\":{\"__ndarray__\":\"AAAAAAC4iEAAAAAAAPCEQAAAAAAA0HtAAAAAAABgckAAAAAAAMB2QAAAAAAAAFtAAAAAAAAQekAAAAAAAMBTQA==\",\"dtype\":\"float64\",\"order\":\"little\",\"shape\":[8]},\"housing_max\":{\"__ndarray__\":\"AAAAAABAVkAAAAAAAABZQAAAAAAAwFhAAAAAAAAATkAAAAAAAABZQAAAAAAAAE9AAAAAAAAAWUAAAAAAAABWQA==\",\"dtype\":\"float64\",\"order\":\"little\",\"shape\":[8]},\"housing_mean\":{\"__ndarray__\":\"6EUYE4PNP0CVs1v41ZhEQAJBOw2dG0ZA27Zt27btOkDLqIzKqOxDQFVVVVVV1TxAKF9FL9OoQUCSPQNR6chFQA==\",\"dtype\":\"float64\",\"order\":\"little\",\"shape\":[8]},\"housing_min\":{\"__ndarray__\":\"AAAAAAAAAEAAAAAAAAAAAAAAAAAAACpAAAAAAAAAAAAAAAAAAAAUQAAAAAAAABhAAAAAAAAA8D8AAAAAAAA6QA==\",\"dtype\":\"float64\",\"order\":\"little\",\"shape\":[8]},\"housing_std\":{\"__ndarray__\":\"Qd8y7TFvLEDMOmutBzg1QLD5SGfdoStAVSzw4XR3J0AoLA4uWJQuQLx4ESrCqCVADad3DYXpLkDfkw9KHHEoQA==\",\"dtype\":\"float64\",\"order\":\"little\",\"shape\":[8]},\"med_rent_25%\":{\"__ndarray__\":\"AAAAAAAAAAAAAAAAANx1QAAAAAAAWI9AAAAAAAAAAAAAAAAAAO6JQAAAAAAAAAAAAAAAAAAAAAAAAAAAAGCEQA==\",\"dtype\":\"float64\",\"order\":\"little\",\"shape\":[8]},\"med_rent_50%\":{\"__ndarray__\":\"AAAAAABgkkAAAAAAAPyNQAAAAAAA6JFAAAAAAAB4kkAAAAAAACSRQAAAAAAAUIxAAAAAAABAj0AAAAAAALCNQA==\",\"dtype\":\"float64\",\"order\":\"little\",\"shape\":[8]},\"med_rent_75%\":{\"__ndarray__\":\"AAAAAACQlkAAAAAAAFOSQAAAAAAADJVAAAAAAADjmEAAAAAAAFaUQAAAAAAA/pJAAAAAAACok0AAAAAAANiQQA==\",\"dtype\":\"float64\",\"order\":\"little\",\"shape\":[8]},\"med_rent_count\":{\"__ndarray__\":\"AAAAAAC4iEAAAAAAAPCEQAAAAAAA0HtAAAAAAABgckAAAAAAAMB2QAAAAAAAAFtAAAAAAAAQekAAAAAAAMBTQA==\",\"dtype\":\"float64\",\"order\":\"little\",\"shape\":[8]},\"med_rent_max\":{\"__ndarray__\":\"AAAAAABaq0AAAAAAAFqrQAAAAAAAiqpAAAAAAABaq0AAAAAAAJakQAAAAAAAhKBAAAAAAABaq0AAAAAAAICZQA==\",\"dtype\":\"float64\",\"order\":\"little\",\"shape\":[8]},\"med_rent_mean\":{\"__ndarray__\":\"X48D06z+jUAvTfWRb4KLQCvuCvEhdZNA7ahFyF9XjkDQAi3QApeNQJjQXkJ7l4VADQsule3diUAgKh3ZM0iIQA==\",\"dtype\":\"float64\",\"order\":\"little\",\"shape\":[8]},\"med_rent_min\":{\"__ndarray__\":\"AAAAAAAAAAAAAAAAAAAAAAAAAAAAAAAAAAAAAAAAAAAAAAAAAAAAAAAAAAAAAAAAAAAAAAAAAAAAAAAAAAAAAA==\",\"dtype\":\"float64\",\"order\":\"little\",\"shape\":[8]},\"med_rent_std\":{\"__ndarray__\":\"5fIj57gfiUBc92+QvaKDQLdr7ODfSIFAjSPigydaikDuI78U0L6BQKFP5rGYcoNAzdrREZDlhEDBV+0FlAN+QA==\",\"dtype\":\"float64\",\"order\":\"little\",\"shape\":[8]},\"neighborhood_25%\":{\"__ndarray__\":\"AAAAAAAAUUAAAAAAAEBQQAAAAAAAAFNAAAAAAACASkAAAAAAAIBPQAAAAAAAgENAAAAAAAAAUEAAAAAAAABEQA==\",\"dtype\":\"float64\",\"order\":\"little\",\"shape\":[8]},\"neighborhood_50%\":{\"__ndarray__\":\"AAAAAACAUkAAAAAAAEBRQAAAAAAAgFRAAAAAAABATkAAAAAAAEBRQAAAAAAAgEVAAAAAAAAAUUAAAAAAAIBHQA==\",\"dtype\":\"float64\",\"order\":\"little\",\"shape\":[8]},\"neighborhood_75%\":{\"__ndarray__\":\"AAAAAADAU0AAAAAAAMBSQAAAAAAAgFVAAAAAAADwUEAAAAAAAIBSQAAAAAAAIElAAAAAAABAUkAAAAAAAIBMQA==\",\"dtype\":\"float64\",\"order\":\"little\",\"shape\":[8]},\"neighborhood_count\":{\"__ndarray__\":\"AAAAAAC4iEAAAAAAAPCEQAAAAAAA0HtAAAAAAABgckAAAAAAAMB2QAAAAAAAAFtAAAAAAAAQekAAAAAAAMBTQA==\",\"dtype\":\"float64\",\"order\":\"little\",\"shape\":[8]},\"neighborhood_max\":{\"__ndarray__\":\"AAAAAAAAV0AAAAAAAMBVQAAAAAAAwFdAAAAAAAAAVUAAAAAAAEBWQAAAAAAAgE9AAAAAAABAVUAAAAAAAMBRQA==\",\"dtype\":\"float64\",\"order\":\"little\",\"shape\":[8]},\"neighborhood_mean\":{\"__ndarray__\":\"bdDkywZNUkBZtKyCG0RRQIGgnYbODVRALN0bUCYuTkAw/dIv/eJQQPcS2ktoT0ZA8Nl9U3j8UEDM72pxE+ZHQA==\",\"dtype\":\"float64\",\"order\":\"little\",\"shape\":[8]},\"neighborhood_min\":{\"__ndarray__\":\"AAAAAACAREAAAAAAAABGQAAAAAAAgEJAAAAAAACAQkAAAAAAAIBBQAAAAAAAAD9AAAAAAAAAREAAAAAAAABAQA==\",\"dtype\":\"float64\",\"order\":\"little\",\"shape\":[8]},\"neighborhood_std\":{\"__ndarray__\":\"1XLduMJqIUCmp9fLpq0eQJ8fFbN7Xh5A5TETZbgkJEDdEu/ceSgkQHyFAEtx6x5AEzizrzgEHkCCrwRPFI4jQA==\",\"dtype\":\"float64\",\"order\":\"little\",\"shape\":[8]},\"opportunity_25%\":{\"__ndarray__\":\"AAAAAAAASkAAAAAAAAA8QAAAAAAAAENAAAAAAAAAT0AAAAAAAIBGQAAAAAAAQFFAAAAAAACAR0AAAAAAAIBNQA==\",\"dtype\":\"float64\",\"order\":\"little\",\"shape\":[8]},\"opportunity_50%\":{\"__ndarray__\":\"AAAAAAAATUAAAAAAAABCQAAAAAAAAEZAAAAAAACgUEAAAAAAAABJQAAAAAAAgFJAAAAAAACASkAAAAAAAIBPQA==\",\"dtype\":\"float64\",\"order\":\"little\",\"shape\":[8]},\"opportunity_75%\":{\"__ndarray__\":\"AAAAAADAT0AAAAAAAIBGQAAAAAAAAElAAAAAAADAUUAAAAAAAABNQAAAAAAAUFNAAAAAAAAATkAAAAAAAOBQQA==\",\"dtype\":\"float64\",\"order\":\"little\",\"shape\":[8]},\"opportunity_count\":{\"__ndarray__\":\"AAAAAAC4iEAAAAAAAPCEQAAAAAAA0HtAAAAAAABgckAAAAAAAMB2QAAAAAAAAFtAAAAAAAAQekAAAAAAAMBTQA==\",\"dtype\":\"float64\",\"order\":\"little\",\"shape\":[8]},\"opportunity_max\":{\"__ndarray__\":\"AAAAAAAAVEAAAAAAAABPQAAAAAAAQFBAAAAAAABAVUAAAAAAAEBTQAAAAAAAgFZAAAAAAABAU0AAAAAAAABTQA==\",\"dtype\":\"float64\",\"order\":\"little\",\"shape\":[8]},\"opportunity_mean\":{\"__ndarray__\":\"RQ1B4fjZTEBkc8eVBGZCQJ6Gzg0I2kVAi5C/ZkeNUEDnaq7mas5JQL6E9hLaS1JAbi32DyaCSkAnzO9qcZNPQA==\",\"dtype\":\"float64\",\"order\":\"little\",\"shape\":[8]},\"opportunity_min\":{\"__ndarray__\":\"AAAAAAAAPUAAAAAAAAAcQAAAAAAAADBAAAAAAACAREAAAAAAAAA2QAAAAAAAgEtAAAAAAAAAPUAAAAAAAABHQA==\",\"dtype\":\"float64\",\"order\":\"little\",\"shape\":[8]},\"opportunity_std\":{\"__ndarray__\":\"ti1VgOnkIEDVL/WrNWklQPkUehFvtiFA40l8icENHkAIevpjvVIiQE1u9zbtWhtAM86ulW9kIkAX0o+5gIoZQA==\",\"dtype\":\"float64\",\"order\":\"little\",\"shape\":[8]},\"total_score_25%\":{\"__ndarray__\":\"JUmSJEkSS0C3bdu2bVtKQEmSJEmSpExAt23btm3bSUCSJEmSJOlIQCRJkiRJskhAkiRJkiTJSkAAAAAAAEBJQA==\",\"dtype\":\"float64\",\"order\":\"little\",\"shape\":[8]},\"total_score_50%\":{\"__ndarray__\":\"JUmSJEmSTEC3bdu2bdtLQLdt27ZtW05A3LZt27YtS0BJkiRJkuRKQNu2bdu2bUlAAAAAAAAATEAAAAAAAIBKQA==\",\"dtype\":\"float64\",\"order\":\"little\",\"shape\":[8]},\"total_score_75%\":{\"__ndarray__\":\"SZIkSZIkTkBJkiRJkiRNQG7btm3bNk9ASZIkSZKkTEC2bdu2bbtMQEmSJEmSREpA27Zt27ZtTUC2bdu2bVtLQA==\",\"dtype\":\"float64\",\"order\":\"little\",\"shape\":[8]},\"total_score_count\":{\"__ndarray__\":\"AAAAAAC4iEAAAAAAAPCEQAAAAAAA0HtAAAAAAABgckAAAAAAAMB2QAAAAAAAAFtAAAAAAAAQekAAAAAAAMBTQA==\",\"dtype\":\"float64\",\"order\":\"little\",\"shape\":[8]},\"total_score_max\":{\"__ndarray__\":\"t23btm0bUUAlSZIkSZJQQG7btm3bNlFASZIkSZIkUEAAAAAAAABQQNu2bdu27U1A27Zt27atUECSJEmSJAlQQA==\",\"dtype\":\"float64\",\"order\":\"little\",\"shape\":[8]},\"total_score_mean\":{\"__ndarray__\":\"tb4DT3OCTECk24Qnpp5LQLJ6Acoywk1AJkjGx/lES0Ajm9ayv79KQFnAWgFrpUlA8gYnxQgETED1DESlI3tKQA==\",\"dtype\":\"float64\",\"order\":\"little\",\"shape\":[8]},\"total_score_min\":{\"__ndarray__\":\"27Zt27btREBu27Zt27ZBQG7btm3btkNA27Zt27btRkC3bdu2bVtDQCVJkiRJkkVAJUmSJEmSREC3bdu2bdtFQA==\",\"dtype\":\"float64\",\"order\":\"little\",\"shape\":[8]},\"total_score_std\":{\"__ndarray__\":\"9jPKmYSIEUBnsyZAhAsRQP1hC6X1KRJAoZWbNhTdD0DtY7+fF7QSQPlOfE4+eAdA5KpavX5AEEB66cN5ny4OQA==\",\"dtype\":\"float64\",\"order\":\"little\",\"shape\":[8]},\"transportation_25%\":{\"__ndarray__\":\"AAAAAACASkAAAAAAAABMQAAAAAAAwFJAAAAAAACAREAAAAAAAIBJQAAAAAAAgEVAAAAAAAAASkAAAAAAAIBEQA==\",\"dtype\":\"float64\",\"order\":\"little\",\"shape\":[8]},\"transportation_50%\":{\"__ndarray__\":\"AAAAAAAAT0AAAAAAAMBQQAAAAAAAwFRAAAAAAAAAR0AAAAAAAIBPQAAAAAAAgEdAAAAAAACATkAAAAAAAIBHQA==\",\"dtype\":\"float64\",\"order\":\"little\",\"shape\":[8]},\"transportation_75%\":{\"__ndarray__\":\"AAAAAADAUUAAAAAAAABTQAAAAAAAAFdAAAAAAACASUAAAAAAAMBSQAAAAAAAgElAAAAAAAAAUUAAAAAAAMBJQA==\",\"dtype\":\"float64\",\"order\":\"little\",\"shape\":[8]},\"transportation_count\":{\"__ndarray__\":\"AAAAAAC4iEAAAAAAAPCEQAAAAAAA0HtAAAAAAABgckAAAAAAAMB2QAAAAAAAAFtAAAAAAAAQekAAAAAAAMBTQA==\",\"dtype\":\"float64\",\"order\":\"little\",\"shape\":[8]},\"transportation_max\":{\"__ndarray__\":\"AAAAAACAWEAAAAAAAMBYQAAAAAAAAFlAAAAAAAAAU0AAAAAAAABYQAAAAAAAAFBAAAAAAABAVUAAAAAAAABRQA==\",\"dtype\":\"float64\",\"order\":\"little\",\"shape\":[8]},\"transportation_mean\":{\"__ndarray__\":\"pllNFwgxT0D1kW8y4mhQQEE7DZ0bkFRAFyF/zY4aR0DZiZ3YiX1PQIX2EtpLiEdAsKKXadTmTUDPQFQ6smdHQA==\",\"dtype\":\"float64\",\"order\":\"little\",\"shape\":[8]},\"transportation_min\":{\"__ndarray__\":\"AAAAAAAAP0AAAAAAAAA2QAAAAAAAADtAAAAAAAAANkAAAAAAAAA6QAAAAAAAAEBAAAAAAAAAO0AAAAAAAAA7QA==\",\"dtype\":\"float64\",\"order\":\"little\",\"shape\":[8]},\"transportation_std\":{\"__ndarray__\":\"2wfQiowwKECLK1XmOx8qQA5sH5On4ilA2GNAAXDdIEBpiEGbrdksQIrxaWFlXxhA4zWggPiOJUC+TB2boOQkQA==\",\"dtype\":\"float64\",\"order\":\"little\",\"shape\":[8]}},\"selected\":{\"id\":\"26709\"},\"selection_policy\":{\"id\":\"26708\"}},\"id\":\"26660\",\"type\":\"ColumnDataSource\"},{\"attributes\":{\"fill_color\":{\"value\":\"#91bfdb\"},\"line_color\":{\"value\":\"#91bfdb\"},\"top\":{\"field\":\"neighborhood_mean\"},\"width\":{\"value\":0.1},\"x\":{\"field\":\"county_name\",\"transform\":{\"id\":\"26772\"}}},\"id\":\"26774\",\"type\":\"VBar\"},{\"attributes\":{},\"id\":\"26708\",\"type\":\"UnionRenderers\"},{\"attributes\":{\"fill_alpha\":{\"value\":0.1},\"fill_color\":{\"value\":\"#fee090\"},\"line_alpha\":{\"value\":0.1},\"line_color\":{\"value\":\"#fee090\"},\"top\":{\"field\":\"health_mean\"},\"width\":{\"value\":0.1},\"x\":{\"field\":\"county_name\",\"transform\":{\"id\":\"26727\"}}},\"id\":\"26730\",\"type\":\"VBar\"},{\"attributes\":{\"fill_alpha\":{\"value\":0.1},\"fill_color\":{\"value\":\"#e0f3f8\"},\"line_alpha\":{\"value\":0.1},\"line_color\":{\"value\":\"#e0f3f8\"},\"top\":{\"field\":\"opportunity_mean\"},\"width\":{\"value\":0.1},\"x\":{\"field\":\"county_name\",\"transform\":{\"id\":\"26757\"}}},\"id\":\"26760\",\"type\":\"VBar\"},{\"attributes\":{},\"id\":\"26709\",\"type\":\"Selection\"},{\"attributes\":{\"data_source\":{\"id\":\"26660\"},\"glyph\":{\"id\":\"26698\"},\"hover_glyph\":null,\"muted_glyph\":null,\"nonselection_glyph\":{\"id\":\"26699\"},\"selection_glyph\":null,\"view\":{\"id\":\"26701\"}},\"id\":\"26700\",\"type\":\"GlyphRenderer\"},{\"attributes\":{\"data_source\":{\"id\":\"26660\"},\"glyph\":{\"id\":\"26759\"},\"hover_glyph\":null,\"muted_glyph\":null,\"nonselection_glyph\":{\"id\":\"26760\"},\"selection_glyph\":null,\"view\":{\"id\":\"26762\"}},\"id\":\"26761\",\"type\":\"GlyphRenderer\"},{\"attributes\":{},\"id\":\"26673\",\"type\":\"CategoricalTicker\"},{\"attributes\":{\"source\":{\"id\":\"26660\"}},\"id\":\"26762\",\"type\":\"CDSView\"},{\"attributes\":{\"axis_label\":\"Median Rent\",\"formatter\":{\"id\":\"27338\"},\"ticker\":{\"id\":\"27337\"},\"y_range_name\":\"rent\"},\"id\":\"26803\",\"type\":\"LinearAxis\"},{\"attributes\":{},\"id\":\"26676\",\"type\":\"BasicTicker\"},{\"attributes\":{\"active_drag\":\"auto\",\"active_inspect\":\"auto\",\"active_multi\":null,\"active_scroll\":\"auto\",\"active_tap\":\"auto\",\"tools\":[{\"id\":\"26679\"},{\"id\":\"26680\"},{\"id\":\"26681\"},{\"id\":\"26682\"},{\"id\":\"26683\"},{\"id\":\"26684\"},{\"id\":\"26686\"}]},\"id\":\"26687\",\"type\":\"Toolbar\"},{\"attributes\":{\"axis\":{\"id\":\"26672\"},\"ticker\":null},\"id\":\"26674\",\"type\":\"Grid\"},{\"attributes\":{\"data_source\":{\"id\":\"26660\"},\"glyph\":{\"id\":\"26774\"},\"hover_glyph\":null,\"muted_glyph\":null,\"nonselection_glyph\":{\"id\":\"26775\"},\"selection_glyph\":null,\"view\":{\"id\":\"26777\"}},\"id\":\"26776\",\"type\":\"GlyphRenderer\"},{\"attributes\":{\"axis_label\":\"County\",\"formatter\":{\"id\":\"26706\"},\"ticker\":{\"id\":\"26673\"}},\"id\":\"26672\",\"type\":\"CategoricalAxis\"},{\"attributes\":{\"items\":[{\"id\":\"26711\"},{\"id\":\"26726\"},{\"id\":\"26741\"},{\"id\":\"26756\"},{\"id\":\"26771\"},{\"id\":\"26786\"},{\"id\":\"26801\"}],\"location\":\"top_left\",\"orientation\":\"horizontal\"},\"id\":\"26710\",\"type\":\"Legend\"},{\"attributes\":{},\"id\":\"26680\",\"type\":\"WheelZoomTool\"},{\"attributes\":{},\"id\":\"26683\",\"type\":\"ResetTool\"},{\"attributes\":{\"text\":\"Northeast New Jersey Area\"},\"id\":\"26662\",\"type\":\"Title\"},{\"attributes\":{\"range\":{\"id\":\"26664\"},\"value\":0.36},\"id\":\"26787\",\"type\":\"Dodge\"},{\"attributes\":{\"data_source\":{\"id\":\"26660\"},\"glyph\":{\"id\":\"26729\"},\"hover_glyph\":null,\"muted_glyph\":null,\"nonselection_glyph\":{\"id\":\"26730\"},\"selection_glyph\":null,\"view\":{\"id\":\"26732\"}},\"id\":\"26731\",\"type\":\"GlyphRenderer\"},{\"attributes\":{\"range\":{\"id\":\"26664\"},\"value\":-0.12},\"id\":\"26727\",\"type\":\"Dodge\"},{\"attributes\":{\"axis_label\":\"Livability Score\",\"formatter\":{\"id\":\"26704\"},\"ticker\":{\"id\":\"26676\"}},\"id\":\"26675\",\"type\":\"LinearAxis\"},{\"attributes\":{\"fill_color\":{\"value\":\"#e0f3f8\"},\"line_color\":{\"value\":\"#e0f3f8\"},\"top\":{\"field\":\"opportunity_mean\"},\"width\":{\"value\":0.1},\"x\":{\"field\":\"county_name\",\"transform\":{\"id\":\"26757\"}}},\"id\":\"26759\",\"type\":\"VBar\"},{\"attributes\":{\"bottom_units\":\"screen\",\"fill_alpha\":0.5,\"fill_color\":\"lightgrey\",\"left_units\":\"screen\",\"level\":\"overlay\",\"line_alpha\":1.0,\"line_color\":\"black\",\"line_dash\":[4,4],\"line_width\":2,\"right_units\":\"screen\",\"top_units\":\"screen\"},\"id\":\"26685\",\"type\":\"BoxAnnotation\"},{\"attributes\":{\"fill_color\":{\"value\":\"#4575b4\"},\"line_color\":{\"value\":\"#4575b4\"},\"top\":{\"field\":\"transportation_mean\"},\"width\":{\"value\":0.1},\"x\":{\"field\":\"county_name\",\"transform\":{\"id\":\"26787\"}}},\"id\":\"26789\",\"type\":\"VBar\"},{\"attributes\":{\"fill_alpha\":{\"value\":0.1},\"fill_color\":{\"value\":\"#91bfdb\"},\"line_alpha\":{\"value\":0.1},\"line_color\":{\"value\":\"#91bfdb\"},\"top\":{\"field\":\"neighborhood_mean\"},\"width\":{\"value\":0.1},\"x\":{\"field\":\"county_name\",\"transform\":{\"id\":\"26772\"}}},\"id\":\"26775\",\"type\":\"VBar\"},{\"attributes\":{\"label\":{\"value\":\"neighborhood\"},\"renderers\":[{\"id\":\"26776\"}]},\"id\":\"26786\",\"type\":\"LegendItem\"},{\"attributes\":{},\"id\":\"26670\",\"type\":\"LinearScale\"},{\"attributes\":{\"end\":2000,\"start\":100},\"id\":\"26802\",\"type\":\"Range1d\"},{\"attributes\":{\"overlay\":{\"id\":\"26685\"}},\"id\":\"26681\",\"type\":\"BoxZoomTool\"},{\"attributes\":{\"axis\":{\"id\":\"26675\"},\"dimension\":1,\"ticker\":null},\"id\":\"26678\",\"type\":\"Grid\"},{\"attributes\":{\"label\":{\"value\":\"environment\"},\"renderers\":[{\"id\":\"26716\"}]},\"id\":\"26726\",\"type\":\"LegendItem\"},{\"attributes\":{\"source\":{\"id\":\"26660\"}},\"id\":\"26777\",\"type\":\"CDSView\"},{\"attributes\":{\"fill_alpha\":{\"value\":0.1},\"fill_color\":{\"value\":\"#fc8d59\"},\"line_alpha\":{\"value\":0.1},\"line_color\":{\"value\":\"#fc8d59\"},\"top\":{\"field\":\"environment_mean\"},\"width\":{\"value\":0.1},\"x\":{\"field\":\"county_name\",\"transform\":{\"id\":\"26712\"}}},\"id\":\"26715\",\"type\":\"VBar\"},{\"attributes\":{\"below\":[{\"id\":\"26672\"}],\"center\":[{\"id\":\"26674\"},{\"id\":\"26678\"},{\"id\":\"26710\"}],\"extra_y_ranges\":{\"rent\":{\"id\":\"26802\"}},\"left\":[{\"id\":\"26675\"}],\"plot_height\":350,\"plot_width\":900,\"renderers\":[{\"id\":\"26700\"},{\"id\":\"26716\"},{\"id\":\"26731\"},{\"id\":\"26746\"},{\"id\":\"26761\"},{\"id\":\"26776\"},{\"id\":\"26791\"},{\"id\":\"26807\"}],\"right\":[{\"id\":\"26803\"}],\"title\":{\"id\":\"26662\"},\"toolbar\":{\"id\":\"26687\"},\"toolbar_location\":null,\"x_range\":{\"id\":\"26664\"},\"x_scale\":{\"id\":\"26668\"},\"y_range\":{\"id\":\"26695\"},\"y_scale\":{\"id\":\"26670\"}},\"id\":\"26661\",\"subtype\":\"Figure\",\"type\":\"Plot\"},{\"attributes\":{\"data_source\":{\"id\":\"26660\"},\"glyph\":{\"id\":\"26714\"},\"hover_glyph\":null,\"muted_glyph\":null,\"nonselection_glyph\":{\"id\":\"26715\"},\"selection_glyph\":null,\"view\":{\"id\":\"26717\"}},\"id\":\"26716\",\"type\":\"GlyphRenderer\"},{\"attributes\":{\"source\":{\"id\":\"26660\"}},\"id\":\"26717\",\"type\":\"CDSView\"},{\"attributes\":{\"callback\":null,\"tooltips\":[[\"median rents\",\"$@med_rent_mean\"]]},\"id\":\"26686\",\"type\":\"HoverTool\"},{\"attributes\":{},\"id\":\"26679\",\"type\":\"PanTool\"},{\"attributes\":{},\"id\":\"26684\",\"type\":\"HelpTool\"},{\"attributes\":{\"source\":{\"id\":\"26660\"}},\"id\":\"26732\",\"type\":\"CDSView\"},{\"attributes\":{},\"id\":\"26668\",\"type\":\"CategoricalScale\"},{\"attributes\":{\"line_color\":\"darkolivegreen\",\"x\":{\"field\":\"county_name\"},\"y\":{\"field\":\"med_rent_mean\"}},\"id\":\"26805\",\"type\":\"Line\"},{\"attributes\":{\"fill_alpha\":{\"value\":0.1},\"fill_color\":{\"value\":\"#4575b4\"},\"line_alpha\":{\"value\":0.1},\"line_color\":{\"value\":\"#4575b4\"},\"top\":{\"field\":\"transportation_mean\"},\"width\":{\"value\":0.1},\"x\":{\"field\":\"county_name\",\"transform\":{\"id\":\"26787\"}}},\"id\":\"26790\",\"type\":\"VBar\"},{\"attributes\":{\"source\":{\"id\":\"26660\"}},\"id\":\"26701\",\"type\":\"CDSView\"},{\"attributes\":{\"active\":true,\"button_type\":\"success\",\"icon\":null,\"js_property_callbacks\":{\"change:active\":[{\"id\":\"26810\"}]},\"label\":\"median rent by county\"},\"id\":\"26809\",\"type\":\"Toggle\"},{\"attributes\":{\"range\":{\"id\":\"26664\"}},\"id\":\"26742\",\"type\":\"Dodge\"},{\"attributes\":{\"label\":{\"value\":\"transportation\"},\"renderers\":[{\"id\":\"26791\"}]},\"id\":\"26801\",\"type\":\"LegendItem\"},{\"attributes\":{\"data_source\":{\"id\":\"26660\"},\"glyph\":{\"id\":\"26789\"},\"hover_glyph\":null,\"muted_glyph\":null,\"nonselection_glyph\":{\"id\":\"26790\"},\"selection_glyph\":null,\"view\":{\"id\":\"26792\"}},\"id\":\"26791\",\"type\":\"GlyphRenderer\"},{\"attributes\":{\"source\":{\"id\":\"26660\"}},\"id\":\"26792\",\"type\":\"CDSView\"},{\"attributes\":{\"fill_color\":{\"value\":\"#ffffbf\"},\"line_color\":{\"value\":\"#ffffbf\"},\"top\":{\"field\":\"housing_mean\"},\"width\":{\"value\":0.1},\"x\":{\"field\":\"county_name\",\"transform\":{\"id\":\"26742\"}}},\"id\":\"26744\",\"type\":\"VBar\"},{\"attributes\":{\"fill_color\":{\"value\":\"#d73027\"},\"line_color\":{\"value\":\"#d73027\"},\"top\":{\"field\":\"engagement_mean\"},\"width\":{\"value\":0.1},\"x\":{\"field\":\"county_name\",\"transform\":{\"id\":\"26696\"}}},\"id\":\"26698\",\"type\":\"VBar\"},{\"attributes\":{\"factors\":[\"Bergen County\",\"Essex County\",\"Hudson County\",\"Morris County\",\"Passaic County\",\"Sussex County\",\"Union County\",\"Warren County\"],\"range_padding\":0.01},\"id\":\"26664\",\"type\":\"FactorRange\"},{\"attributes\":{\"data_source\":{\"id\":\"26660\"},\"glyph\":{\"id\":\"26805\"},\"hover_glyph\":null,\"muted_glyph\":null,\"nonselection_glyph\":{\"id\":\"26806\"},\"selection_glyph\":null,\"view\":{\"id\":\"26808\"},\"y_range_name\":\"rent\"},\"id\":\"26807\",\"type\":\"GlyphRenderer\"},{\"attributes\":{\"source\":{\"id\":\"26660\"}},\"id\":\"26808\",\"type\":\"CDSView\"},{\"attributes\":{\"line_alpha\":0.1,\"line_color\":\"darkolivegreen\",\"x\":{\"field\":\"county_name\"},\"y\":{\"field\":\"med_rent_mean\"}},\"id\":\"26806\",\"type\":\"Line\"},{\"attributes\":{\"args\":{\"other\":{\"id\":\"26807\"}},\"code\":\"other.visible = this.active\"},\"id\":\"26810\",\"type\":\"CustomJS\"},{\"attributes\":{\"children\":[{\"id\":\"26661\"}]},\"id\":\"26811\",\"type\":\"Row\"},{\"attributes\":{\"children\":[{\"id\":\"26809\"}]},\"id\":\"26812\",\"type\":\"Row\"},{\"attributes\":{\"range\":{\"id\":\"26664\"},\"value\":-0.24},\"id\":\"26712\",\"type\":\"Dodge\"},{\"attributes\":{\"end\":120},\"id\":\"26695\",\"type\":\"Range1d\"},{\"attributes\":{},\"id\":\"27337\",\"type\":\"BasicTicker\"},{\"attributes\":{},\"id\":\"27338\",\"type\":\"BasicTickFormatter\"},{\"attributes\":{\"range\":{\"id\":\"26664\"},\"value\":-0.36},\"id\":\"26696\",\"type\":\"Dodge\"},{\"attributes\":{\"fill_color\":{\"value\":\"#fee090\"},\"line_color\":{\"value\":\"#fee090\"},\"top\":{\"field\":\"health_mean\"},\"width\":{\"value\":0.1},\"x\":{\"field\":\"county_name\",\"transform\":{\"id\":\"26727\"}}},\"id\":\"26729\",\"type\":\"VBar\"},{\"attributes\":{\"fill_color\":{\"value\":\"#fc8d59\"},\"line_color\":{\"value\":\"#fc8d59\"},\"top\":{\"field\":\"environment_mean\"},\"width\":{\"value\":0.1},\"x\":{\"field\":\"county_name\",\"transform\":{\"id\":\"26712\"}}},\"id\":\"26714\",\"type\":\"VBar\"}],\"root_ids\":[\"26813\"]},\"title\":\"Bokeh Application\",\"version\":\"2.2.2\"}};\n",
       "  var render_items = [{\"docid\":\"a1821035-e55e-42e5-abc4-a31df5100f8d\",\"root_ids\":[\"26813\"],\"roots\":{\"26813\":\"228a3313-2d15-425b-96ac-f4bbd3492e88\"}}];\n",
       "  root.Bokeh.embed.embed_items_notebook(docs_json, render_items);\n",
       "\n",
       "  }\n",
       "  if (root.Bokeh !== undefined) {\n",
       "    embed_document(root);\n",
       "  } else {\n",
       "    var attempts = 0;\n",
       "    var timer = setInterval(function(root) {\n",
       "      if (root.Bokeh !== undefined) {\n",
       "        clearInterval(timer);\n",
       "        embed_document(root);\n",
       "      } else {\n",
       "        attempts++;\n",
       "        if (attempts > 100) {\n",
       "          clearInterval(timer);\n",
       "          console.log(\"Bokeh: ERROR: Unable to run BokehJS code because BokehJS library is missing\");\n",
       "        }\n",
       "      }\n",
       "    }, 10, root)\n",
       "  }\n",
       "})(window);"
      ],
      "application/vnd.bokehjs_exec.v0+json": ""
     },
     "metadata": {
      "application/vnd.bokehjs_exec.v0+json": {
       "id": "26813"
      }
     },
     "output_type": "display_data"
    }
   ],
   "source": [
    "# output_file(\"bar_mixed.html\")\n",
    "# nj_north['rent_tenth'] = nj_north['med_rent'] / 10\n",
    "main_by_county = nj_north[['county_name', 'med_rent'] + tot_lst].groupby('county_name')\n",
    "source = ColumnDataSource(main_by_county)\n",
    "\n",
    "# colors = ('#440154', '#404387', '#29788E', '#22A784', '#79D151', '#DD4968', '#FD9F6C', '#FDE724')\n",
    "colors = ('#440154', '#d73027', '#fc8d59', '#fee090', '#ffffbf', '#e0f3f8', '#91bfdb', '#4575b4')\n",
    "\n",
    "p = figure(x_range=main_by_county, plot_width=900, plot_height=350, title='Northeast New Jersey Area', \n",
    "           x_axis_label='County', \n",
    "           y_axis_label='Livability Score', \n",
    "           toolbar_location=None, tooltips=[('median rents', '$''@med_rent_mean')])\n",
    "\n",
    "p.y_range = Range1d(0, 120)\n",
    "# p.vbar(x=dodge('county_name', -1, range=p.x_range), top='total_score_mean', width=0.2, source=source, color=colors[0])\n",
    "p.vbar(x=dodge('county_name', -0.36, range=p.x_range), top='engagement_mean', width=0.1, source=source, color=colors[1], legend_label='engagement')\n",
    "p.vbar(x=dodge('county_name', -0.24, range=p.x_range), top='environment_mean', width=0.1, source=source, color=colors[2], legend_label='environment')\n",
    "p.vbar(x=dodge('county_name', -0.12, range=p.x_range), top='health_mean', width=0.1, source=source, color=colors[3], legend_label='health')\n",
    "p.vbar(x=dodge('county_name', 0.0, range=p.x_range), top='housing_mean', width=0.1, source=source, color=colors[4], legend_label='housing')\n",
    "p.vbar(x=dodge('county_name', 0.12, range=p.x_range), top='opportunity_mean', width=0.1, source=source, color=colors[5], legend_label='opportunity')\n",
    "p.vbar(x=dodge('county_name', 0.24, range=p.x_range), top='neighborhood_mean', width=0.1, source=source, color=colors[6], legend_label='neighborhood')\n",
    "p.vbar(x=dodge('county_name', 0.36, range=p.x_range), top='transportation_mean', width=0.1, source=source, color=colors[7], legend_label='transportation')\n",
    "\n",
    "p.x_range.range_padding = 0.01\n",
    "p.legend.location = 'top_left'\n",
    "p.legend.orientation = 'horizontal'\n",
    "\n",
    "# Add the median rent line\n",
    "p.extra_y_ranges = {'rent': Range1d(start=100, end=2000)}\n",
    "p.add_layout(LinearAxis(y_range_name='rent', axis_label='Median Rent'), 'right')\n",
    "\n",
    "rent_line = p.line(x='county_name', y='med_rent_mean', color='darkolivegreen', line_width=1, line_dash='solid', source=source, y_range_name= 'rent')\n",
    "toggle = Toggle(label='median rent by county', button_type=\"success\", active=True)\n",
    "toggle.js_link('active', rent_line, 'visible')\n",
    "\n",
    "show(layout([p], [toggle]))"
   ]
  },
  {
   "cell_type": "code",
   "execution_count": 89,
   "metadata": {},
   "outputs": [
    {
     "data": {
      "text/html": [
       "\n",
       "\n",
       "\n",
       "\n",
       "\n",
       "\n",
       "  <div class=\"bk-root\" id=\"0064c267-639b-43c8-860a-96774e5ec69f\" data-root-id=\"27549\"></div>\n"
      ]
     },
     "metadata": {},
     "output_type": "display_data"
    },
    {
     "data": {
      "application/javascript": [
       "(function(root) {\n",
       "  function embed_document(root) {\n",
       "    \n",
       "  var docs_json = {\"d1adce34-078c-4be2-8350-359c97fbebca\":{\"roots\":{\"references\":[{\"attributes\":{\"children\":[{\"id\":\"27547\"},{\"id\":\"27548\"}]},\"id\":\"27549\",\"type\":\"Column\"},{\"attributes\":{\"end\":120},\"id\":\"27431\",\"type\":\"Range1d\"},{\"attributes\":{\"factors\":[\"Bronx County\",\"Kings County\",\"Nassau County\",\"New York County\",\"Queens County\",\"Richmond County\",\"Rockland County\",\"Westchester County\"],\"range_padding\":0.01},\"id\":\"27400\",\"type\":\"FactorRange\"},{\"attributes\":{\"fill_color\":{\"value\":\"#d73027\"},\"line_color\":{\"value\":\"#d73027\"},\"top\":{\"field\":\"engagement_mean\"},\"width\":{\"value\":0.1},\"x\":{\"field\":\"county_name\",\"transform\":{\"id\":\"27432\"}}},\"id\":\"27434\",\"type\":\"VBar\"},{\"attributes\":{\"axis_label\":\"County\",\"formatter\":{\"id\":\"27442\"},\"ticker\":{\"id\":\"27409\"}},\"id\":\"27408\",\"type\":\"CategoricalAxis\"},{\"attributes\":{\"fill_color\":{\"value\":\"#fc8d59\"},\"line_color\":{\"value\":\"#fc8d59\"},\"top\":{\"field\":\"environment_mean\"},\"width\":{\"value\":0.1},\"x\":{\"field\":\"county_name\",\"transform\":{\"id\":\"27448\"}}},\"id\":\"27450\",\"type\":\"VBar\"},{\"attributes\":{\"range\":{\"id\":\"27400\"},\"value\":-0.24},\"id\":\"27448\",\"type\":\"Dodge\"},{\"attributes\":{\"source\":{\"id\":\"27396\"}},\"id\":\"27483\",\"type\":\"CDSView\"},{\"attributes\":{\"data_source\":{\"id\":\"27396\"},\"glyph\":{\"id\":\"27541\"},\"hover_glyph\":null,\"muted_glyph\":null,\"nonselection_glyph\":{\"id\":\"27542\"},\"selection_glyph\":null,\"view\":{\"id\":\"27544\"},\"y_range_name\":\"rent\"},\"id\":\"27543\",\"type\":\"GlyphRenderer\"},{\"attributes\":{},\"id\":\"27442\",\"type\":\"CategoricalTickFormatter\"},{\"attributes\":{\"range\":{\"id\":\"27400\"},\"value\":-0.36},\"id\":\"27432\",\"type\":\"Dodge\"},{\"attributes\":{\"fill_alpha\":{\"value\":0.1},\"fill_color\":{\"value\":\"#e0f3f8\"},\"line_alpha\":{\"value\":0.1},\"line_color\":{\"value\":\"#e0f3f8\"},\"top\":{\"field\":\"opportunity_mean\"},\"width\":{\"value\":0.1},\"x\":{\"field\":\"county_name\",\"transform\":{\"id\":\"27493\"}}},\"id\":\"27496\",\"type\":\"VBar\"},{\"attributes\":{\"source\":{\"id\":\"27396\"}},\"id\":\"27468\",\"type\":\"CDSView\"},{\"attributes\":{\"source\":{\"id\":\"27396\"}},\"id\":\"27544\",\"type\":\"CDSView\"},{\"attributes\":{\"line_alpha\":0.1,\"line_color\":\"darkolivegreen\",\"x\":{\"field\":\"county_name\"},\"y\":{\"field\":\"med_rent_mean\"}},\"id\":\"27542\",\"type\":\"Line\"},{\"attributes\":{\"label\":{\"value\":\"health\"},\"renderers\":[{\"id\":\"27467\"}]},\"id\":\"27477\",\"type\":\"LegendItem\"},{\"attributes\":{\"args\":{\"other\":{\"id\":\"27543\"}},\"code\":\"other.visible = this.active\"},\"id\":\"27546\",\"type\":\"CustomJS\"},{\"attributes\":{\"children\":[{\"id\":\"27397\"}]},\"id\":\"27547\",\"type\":\"Row\"},{\"attributes\":{},\"id\":\"27404\",\"type\":\"CategoricalScale\"},{\"attributes\":{\"label\":{\"value\":\"engagement\"},\"renderers\":[{\"id\":\"27436\"}]},\"id\":\"27447\",\"type\":\"LegendItem\"},{\"attributes\":{\"label\":{\"value\":\"opportunity\"},\"renderers\":[{\"id\":\"27497\"}]},\"id\":\"27507\",\"type\":\"LegendItem\"},{\"attributes\":{\"children\":[{\"id\":\"27545\"}]},\"id\":\"27548\",\"type\":\"Row\"},{\"attributes\":{\"data_source\":{\"id\":\"27396\"},\"glyph\":{\"id\":\"27434\"},\"hover_glyph\":null,\"muted_glyph\":null,\"nonselection_glyph\":{\"id\":\"27435\"},\"selection_glyph\":null,\"view\":{\"id\":\"27437\"}},\"id\":\"27436\",\"type\":\"GlyphRenderer\"},{\"attributes\":{},\"id\":\"27406\",\"type\":\"LinearScale\"},{\"attributes\":{\"fill_color\":{\"value\":\"#91bfdb\"},\"line_color\":{\"value\":\"#91bfdb\"},\"top\":{\"field\":\"neighborhood_mean\"},\"width\":{\"value\":0.1},\"x\":{\"field\":\"county_name\",\"transform\":{\"id\":\"27508\"}}},\"id\":\"27510\",\"type\":\"VBar\"},{\"attributes\":{},\"id\":\"27444\",\"type\":\"UnionRenderers\"},{\"attributes\":{},\"id\":\"27445\",\"type\":\"Selection\"},{\"attributes\":{\"data_source\":{\"id\":\"27396\"},\"glyph\":{\"id\":\"27495\"},\"hover_glyph\":null,\"muted_glyph\":null,\"nonselection_glyph\":{\"id\":\"27496\"},\"selection_glyph\":null,\"view\":{\"id\":\"27498\"}},\"id\":\"27497\",\"type\":\"GlyphRenderer\"},{\"attributes\":{\"source\":{\"id\":\"27396\"}},\"id\":\"27498\",\"type\":\"CDSView\"},{\"attributes\":{\"axis_label\":\"Median Rent\",\"formatter\":{\"id\":\"28084\"},\"ticker\":{\"id\":\"28083\"},\"y_range_name\":\"rent\"},\"id\":\"27539\",\"type\":\"LinearAxis\"},{\"attributes\":{},\"id\":\"27418\",\"type\":\"SaveTool\"},{\"attributes\":{\"fill_alpha\":{\"value\":0.1},\"fill_color\":{\"value\":\"#fee090\"},\"line_alpha\":{\"value\":0.1},\"line_color\":{\"value\":\"#fee090\"},\"top\":{\"field\":\"health_mean\"},\"width\":{\"value\":0.1},\"x\":{\"field\":\"county_name\",\"transform\":{\"id\":\"27463\"}}},\"id\":\"27466\",\"type\":\"VBar\"},{\"attributes\":{\"fill_alpha\":{\"value\":0.1},\"fill_color\":{\"value\":\"#d73027\"},\"line_alpha\":{\"value\":0.1},\"line_color\":{\"value\":\"#d73027\"},\"top\":{\"field\":\"engagement_mean\"},\"width\":{\"value\":0.1},\"x\":{\"field\":\"county_name\",\"transform\":{\"id\":\"27432\"}}},\"id\":\"27435\",\"type\":\"VBar\"},{\"attributes\":{},\"id\":\"27416\",\"type\":\"WheelZoomTool\"},{\"attributes\":{},\"id\":\"28083\",\"type\":\"BasicTicker\"},{\"attributes\":{\"range\":{\"id\":\"27400\"},\"value\":0.12},\"id\":\"27493\",\"type\":\"Dodge\"},{\"attributes\":{\"items\":[{\"id\":\"27447\"},{\"id\":\"27462\"},{\"id\":\"27477\"},{\"id\":\"27492\"},{\"id\":\"27507\"},{\"id\":\"27522\"},{\"id\":\"27537\"}],\"location\":\"top_left\",\"orientation\":\"horizontal\"},\"id\":\"27446\",\"type\":\"Legend\"},{\"attributes\":{},\"id\":\"28084\",\"type\":\"BasicTickFormatter\"},{\"attributes\":{\"active_drag\":\"auto\",\"active_inspect\":\"auto\",\"active_multi\":null,\"active_scroll\":\"auto\",\"active_tap\":\"auto\",\"tools\":[{\"id\":\"27415\"},{\"id\":\"27416\"},{\"id\":\"27417\"},{\"id\":\"27418\"},{\"id\":\"27419\"},{\"id\":\"27420\"},{\"id\":\"27422\"}]},\"id\":\"27423\",\"type\":\"Toolbar\"},{\"attributes\":{\"range\":{\"id\":\"27400\"},\"value\":0.36},\"id\":\"27523\",\"type\":\"Dodge\"},{\"attributes\":{},\"id\":\"27415\",\"type\":\"PanTool\"},{\"attributes\":{\"range\":{\"id\":\"27400\"},\"value\":-0.12},\"id\":\"27463\",\"type\":\"Dodge\"},{\"attributes\":{\"fill_color\":{\"value\":\"#4575b4\"},\"line_color\":{\"value\":\"#4575b4\"},\"top\":{\"field\":\"transportation_mean\"},\"width\":{\"value\":0.1},\"x\":{\"field\":\"county_name\",\"transform\":{\"id\":\"27523\"}}},\"id\":\"27525\",\"type\":\"VBar\"},{\"attributes\":{\"fill_alpha\":{\"value\":0.1},\"fill_color\":{\"value\":\"#91bfdb\"},\"line_alpha\":{\"value\":0.1},\"line_color\":{\"value\":\"#91bfdb\"},\"top\":{\"field\":\"neighborhood_mean\"},\"width\":{\"value\":0.1},\"x\":{\"field\":\"county_name\",\"transform\":{\"id\":\"27508\"}}},\"id\":\"27511\",\"type\":\"VBar\"},{\"attributes\":{\"end\":2000,\"start\":100},\"id\":\"27538\",\"type\":\"Range1d\"},{\"attributes\":{\"label\":{\"value\":\"environment\"},\"renderers\":[{\"id\":\"27452\"}]},\"id\":\"27462\",\"type\":\"LegendItem\"},{\"attributes\":{\"label\":{\"value\":\"neighborhood\"},\"renderers\":[{\"id\":\"27512\"}]},\"id\":\"27522\",\"type\":\"LegendItem\"},{\"attributes\":{\"data_source\":{\"id\":\"27396\"},\"glyph\":{\"id\":\"27510\"},\"hover_glyph\":null,\"muted_glyph\":null,\"nonselection_glyph\":{\"id\":\"27511\"},\"selection_glyph\":null,\"view\":{\"id\":\"27513\"}},\"id\":\"27512\",\"type\":\"GlyphRenderer\"},{\"attributes\":{\"fill_color\":{\"value\":\"#fee090\"},\"line_color\":{\"value\":\"#fee090\"},\"top\":{\"field\":\"health_mean\"},\"width\":{\"value\":0.1},\"x\":{\"field\":\"county_name\",\"transform\":{\"id\":\"27463\"}}},\"id\":\"27465\",\"type\":\"VBar\"},{\"attributes\":{\"fill_alpha\":{\"value\":0.1},\"fill_color\":{\"value\":\"#fc8d59\"},\"line_alpha\":{\"value\":0.1},\"line_color\":{\"value\":\"#fc8d59\"},\"top\":{\"field\":\"environment_mean\"},\"width\":{\"value\":0.1},\"x\":{\"field\":\"county_name\",\"transform\":{\"id\":\"27448\"}}},\"id\":\"27451\",\"type\":\"VBar\"},{\"attributes\":{\"source\":{\"id\":\"27396\"}},\"id\":\"27513\",\"type\":\"CDSView\"},{\"attributes\":{\"data_source\":{\"id\":\"27396\"},\"glyph\":{\"id\":\"27465\"},\"hover_glyph\":null,\"muted_glyph\":null,\"nonselection_glyph\":{\"id\":\"27466\"},\"selection_glyph\":null,\"view\":{\"id\":\"27468\"}},\"id\":\"27467\",\"type\":\"GlyphRenderer\"},{\"attributes\":{\"data_source\":{\"id\":\"27396\"},\"glyph\":{\"id\":\"27450\"},\"hover_glyph\":null,\"muted_glyph\":null,\"nonselection_glyph\":{\"id\":\"27451\"},\"selection_glyph\":null,\"view\":{\"id\":\"27453\"}},\"id\":\"27452\",\"type\":\"GlyphRenderer\"},{\"attributes\":{\"source\":{\"id\":\"27396\"}},\"id\":\"27453\",\"type\":\"CDSView\"},{\"attributes\":{\"source\":{\"id\":\"27396\"}},\"id\":\"27437\",\"type\":\"CDSView\"},{\"attributes\":{},\"id\":\"27420\",\"type\":\"HelpTool\"},{\"attributes\":{\"fill_alpha\":{\"value\":0.1},\"fill_color\":{\"value\":\"#4575b4\"},\"line_alpha\":{\"value\":0.1},\"line_color\":{\"value\":\"#4575b4\"},\"top\":{\"field\":\"transportation_mean\"},\"width\":{\"value\":0.1},\"x\":{\"field\":\"county_name\",\"transform\":{\"id\":\"27523\"}}},\"id\":\"27526\",\"type\":\"VBar\"},{\"attributes\":{\"line_color\":\"darkolivegreen\",\"x\":{\"field\":\"county_name\"},\"y\":{\"field\":\"med_rent_mean\"}},\"id\":\"27541\",\"type\":\"Line\"},{\"attributes\":{\"bottom_units\":\"screen\",\"fill_alpha\":0.5,\"fill_color\":\"lightgrey\",\"left_units\":\"screen\",\"level\":\"overlay\",\"line_alpha\":1.0,\"line_color\":\"black\",\"line_dash\":[4,4],\"line_width\":2,\"right_units\":\"screen\",\"top_units\":\"screen\"},\"id\":\"27421\",\"type\":\"BoxAnnotation\"},{\"attributes\":{\"active\":true,\"button_type\":\"success\",\"icon\":null,\"js_property_callbacks\":{\"change:active\":[{\"id\":\"27546\"}]},\"label\":\"median rent by county\"},\"id\":\"27545\",\"type\":\"Toggle\"},{\"attributes\":{\"range\":{\"id\":\"27400\"}},\"id\":\"27478\",\"type\":\"Dodge\"},{\"attributes\":{\"label\":{\"value\":\"transportation\"},\"renderers\":[{\"id\":\"27527\"}]},\"id\":\"27537\",\"type\":\"LegendItem\"},{\"attributes\":{\"data_source\":{\"id\":\"27396\"},\"glyph\":{\"id\":\"27525\"},\"hover_glyph\":null,\"muted_glyph\":null,\"nonselection_glyph\":{\"id\":\"27526\"},\"selection_glyph\":null,\"view\":{\"id\":\"27528\"}},\"id\":\"27527\",\"type\":\"GlyphRenderer\"},{\"attributes\":{\"text\":\"Metro New York Area\"},\"id\":\"27398\",\"type\":\"Title\"},{\"attributes\":{\"callback\":null,\"tooltips\":[[\"median rent\",\"$@med_rent_mean\"]]},\"id\":\"27422\",\"type\":\"HoverTool\"},{\"attributes\":{\"fill_color\":{\"value\":\"#ffffbf\"},\"line_color\":{\"value\":\"#ffffbf\"},\"top\":{\"field\":\"housing_mean\"},\"width\":{\"value\":0.1},\"x\":{\"field\":\"county_name\",\"transform\":{\"id\":\"27478\"}}},\"id\":\"27480\",\"type\":\"VBar\"},{\"attributes\":{\"source\":{\"id\":\"27396\"}},\"id\":\"27528\",\"type\":\"CDSView\"},{\"attributes\":{},\"id\":\"27412\",\"type\":\"BasicTicker\"},{\"attributes\":{\"axis\":{\"id\":\"27411\"},\"dimension\":1,\"ticker\":null},\"id\":\"27414\",\"type\":\"Grid\"},{\"attributes\":{\"label\":{\"value\":\"housing\"},\"renderers\":[{\"id\":\"27482\"}]},\"id\":\"27492\",\"type\":\"LegendItem\"},{\"attributes\":{\"data\":{\"county_name\":[\"Bronx County\",\"Kings County\",\"Nassau County\",\"New York County\",\"Queens County\",\"Richmond County\",\"Rockland County\",\"Westchester County\"],\"engagement_25%\":{\"__ndarray__\":\"AAAAAACAQEAAAAAAAABEQAAAAAAAAEtAAAAAAAAAS0AAAAAAAABFQAAAAAAAgElAAAAAAACAT0AAAAAAAABOQA==\",\"dtype\":\"float64\",\"order\":\"little\",\"shape\":[8]},\"engagement_50%\":{\"__ndarray__\":\"AAAAAACAQ0AAAAAAAABHQAAAAAAAAExAAAAAAACATkAAAAAAAABGQAAAAAAAgEtAAAAAAABAUEAAAAAAAIBPQA==\",\"dtype\":\"float64\",\"order\":\"little\",\"shape\":[8]},\"engagement_75%\":{\"__ndarray__\":\"AAAAAAAAREAAAAAAAIBHQAAAAAAAgE1AAAAAAAAAT0AAAAAAAIBHQAAAAAAAAE1AAAAAAAAAUUAAAAAAAEBQQA==\",\"dtype\":\"float64\",\"order\":\"little\",\"shape\":[8]},\"engagement_count\":{\"__ndarray__\":\"AAAAAAAIkkAAAAAAAEigQAAAAAAA3JFAAAAAAABIkkAAAAAAAFCbQAAAAAAAIHVAAAAAAABgaUAAAAAAAPiFQA==\",\"dtype\":\"float64\",\"order\":\"little\",\"shape\":[8]},\"engagement_max\":{\"__ndarray__\":\"AAAAAAAASUAAAAAAAIBKQAAAAAAAAFVAAAAAAAAAUEAAAAAAAEBRQAAAAAAAAE9AAAAAAACAU0AAAAAAAIBUQA==\",\"dtype\":\"float64\",\"order\":\"little\",\"shape\":[8]},\"engagement_mean\":{\"__ndarray__\":\"3NFnlm3JQUCViaihv4pFQH8xtaHC/UxAxmM8xmM8TEBlhGateApGQBWiDZ8/pkpA3w0/qkuMUEDrBlPks25PQA==\",\"dtype\":\"float64\",\"order\":\"little\",\"shape\":[8]},\"engagement_min\":{\"__ndarray__\":\"AAAAAAAAM0AAAAAAAAA7QAAAAAAAgENAAAAAAAAARUAAAAAAAAA3QAAAAAAAADtAAAAAAACATUAAAAAAAABHQA==\",\"dtype\":\"float64\",\"order\":\"little\",\"shape\":[8]},\"engagement_std\":{\"__ndarray__\":\"zvjk6t2nG0Ax46zD+FkYQMHiaTufwxhASgSGbOgRHEARXXNHFmQZQPvhxy4v+xtAib+U3pp3EEDE37hRgNIRQA==\",\"dtype\":\"float64\",\"order\":\"little\",\"shape\":[8]},\"environment_25%\":{\"__ndarray__\":\"AAAAAACAQkAAAAAAAEBRQAAAAAAAAExAAAAAAACgREAAAAAAAABDQAAAAAAAAEFAAAAAAAAAQEAAAAAAAABBQA==\",\"dtype\":\"float64\",\"order\":\"little\",\"shape\":[8]},\"environment_50%\":{\"__ndarray__\":\"AAAAAACATEAAAAAAAEBRQAAAAAAAgFJAAAAAAAAATUAAAAAAAABNQAAAAAAAgENAAAAAAAAAR0AAAAAAAABJQA==\",\"dtype\":\"float64\",\"order\":\"little\",\"shape\":[8]},\"environment_75%\":{\"__ndarray__\":\"AAAAAACATEAAAAAAAEBRQAAAAAAAgFJAAAAAAAAATUAAAAAAAABNQAAAAAAAgENAAAAAAAAAR0AAAAAAAABKQA==\",\"dtype\":\"float64\",\"order\":\"little\",\"shape\":[8]},\"environment_count\":{\"__ndarray__\":\"AAAAAAAIkkAAAAAAAEigQAAAAAAA3JFAAAAAAABIkkAAAAAAAFCbQAAAAAAAIHVAAAAAAABgaUAAAAAAAPiFQA==\",\"dtype\":\"float64\",\"order\":\"little\",\"shape\":[8]},\"environment_max\":{\"__ndarray__\":\"AAAAAACATEAAAAAAAEBRQAAAAAAAgFJAAAAAAAAATUAAAAAAAABNQAAAAAAAgENAAAAAAAAAR0AAAAAAAABKQA==\",\"dtype\":\"float64\",\"order\":\"little\",\"shape\":[8]},\"environment_mean\":{\"__ndarray__\":\"lbDynZwfSEArofhWlwxQQL+0L+1Le1BAyHiMx3hMSUBDFrKQhaxIQLCs3iUPRkFA6xKzFgroQ0CQy29z/bhFQA==\",\"dtype\":\"float64\",\"order\":\"little\",\"shape\":[8]},\"environment_min\":{\"__ndarray__\":\"AAAAAAAAN0AAAAAAAAA3QAAAAAAAADBAAAAAAAAAKkAAAAAAAAAiQAAAAAAAABRAAAAAAAAANEAAAAAAAAAUQA==\",\"dtype\":\"float64\",\"order\":\"little\",\"shape\":[8]},\"environment_std\":{\"__ndarray__\":\"Dl0G+PCwJ0CX3d3qQ+wjQHKYw0wPEyRAho04F7YZJ0A7BUBuaRAnQJD+sK9JQiBAFZncZ1QgIEDZVM/igVcjQA==\",\"dtype\":\"float64\",\"order\":\"little\",\"shape\":[8]},\"health_25%\":{\"__ndarray__\":\"AAAAAAAAPEAAAAAAAABCQAAAAAAAgE9AAAAAAACAS0AAAAAAAABJQAAAAAAAIEVAAAAAAAAATEAAAAAAAABNQA==\",\"dtype\":\"float64\",\"order\":\"little\",\"shape\":[8]},\"health_50%\":{\"__ndarray__\":\"AAAAAACAQUAAAAAAAIBGQAAAAAAAQFBAAAAAAADAUkAAAAAAAIBLQAAAAAAAAEtAAAAAAAAATEAAAAAAAIBRQA==\",\"dtype\":\"float64\",\"order\":\"little\",\"shape\":[8]},\"health_75%\":{\"__ndarray__\":\"AAAAAAAARkAAAAAAAIBKQAAAAAAAAFFAAAAAAADAU0AAAAAAAIBOQAAAAAAAAExAAAAAAAAATEAAAAAAAEBSQA==\",\"dtype\":\"float64\",\"order\":\"little\",\"shape\":[8]},\"health_count\":{\"__ndarray__\":\"AAAAAAAIkkAAAAAAAEigQAAAAAAA3JFAAAAAAABIkkAAAAAAAFCbQAAAAAAAIHVAAAAAAABgaUAAAAAAAPiFQA==\",\"dtype\":\"float64\",\"order\":\"little\",\"shape\":[8]},\"health_max\":{\"__ndarray__\":\"AAAAAACAU0AAAAAAAMBRQAAAAAAAwFJAAAAAAADAVEAAAAAAAIBWQAAAAAAAwFJAAAAAAACAT0AAAAAAAEBUQA==\",\"dtype\":\"float64\",\"order\":\"little\",\"shape\":[8]},\"health_mean\":{\"__ndarray__\":\"rnjwYuHEQkB6j/yONVtGQLbMggh2V1BA4Pmd3/n9UEC7wDtyaXxLQGHAGdciQUlAcTKIPHCVTEB70sJXsadQQA==\",\"dtype\":\"float64\",\"order\":\"little\",\"shape\":[8]},\"health_min\":{\"__ndarray__\":\"AAAAAAAAMkAAAAAAAAA1QAAAAAAAgEZAAAAAAAAAOEAAAAAAAAA3QAAAAAAAADtAAAAAAAAASEAAAAAAAIBDQA==\",\"dtype\":\"float64\",\"order\":\"little\",\"shape\":[8]},\"health_std\":{\"__ndarray__\":\"l9pCGX+WJ0BOytJQJ6ckQAxd3GFXKxRADgoPDYIJKkDqS8kiqnYjQPLYpnoZtiFA/XZZFb9PC0Bkwy9WnF4lQA==\",\"dtype\":\"float64\",\"order\":\"little\",\"shape\":[8]},\"housing_25%\":{\"__ndarray__\":\"AAAAAAAARkAAAAAAAIBDQAAAAAAAADRAAAAAAAAAQUAAAAAAAAA/QAAAAAAAAD1AAAAAAAAAMkAAAAAAAAAxQA==\",\"dtype\":\"float64\",\"order\":\"little\",\"shape\":[8]},\"housing_50%\":{\"__ndarray__\":\"AAAAAACASUAAAAAAAIBGQAAAAAAAADlAAAAAAACAREAAAAAAAABEQAAAAAAAgEFAAAAAAAAAO0AAAAAAAIBAQA==\",\"dtype\":\"float64\",\"order\":\"little\",\"shape\":[8]},\"housing_75%\":{\"__ndarray__\":\"AAAAAABAUEAAAAAAAABKQAAAAAAAgEBAAAAAAACATEAAAAAAAIBGQAAAAAAAgERAAAAAAACAQkAAAAAAAABHQA==\",\"dtype\":\"float64\",\"order\":\"little\",\"shape\":[8]},\"housing_count\":{\"__ndarray__\":\"AAAAAAAIkkAAAAAAAEigQAAAAAAA3JFAAAAAAABIkkAAAAAAAFCbQAAAAAAAIHVAAAAAAABgaUAAAAAAAPiFQA==\",\"dtype\":\"float64\",\"order\":\"little\",\"shape\":[8]},\"housing_max\":{\"__ndarray__\":\"AAAAAAAAWUAAAAAAAABZQAAAAAAAgFRAAAAAAAAAWUAAAAAAAABZQAAAAAAAAFlAAAAAAAAAVEAAAAAAAIBXQA==\",\"dtype\":\"float64\",\"order\":\"little\",\"shape\":[8]},\"housing_mean\":{\"__ndarray__\":\"kvdSBfSaS0CBcZEY3rxHQElP0pP0JDtAmqd5mqe5R0B2HhyQIpFDQIEzrkWCGkJA8sBVtDOlPEARMISrFwFAQA==\",\"dtype\":\"float64\",\"order\":\"little\",\"shape\":[8]},\"housing_min\":{\"__ndarray__\":\"AAAAAAAAKkAAAAAAAAAAAAAAAAAAABRAAAAAAAAALEAAAAAAAAAUQAAAAAAAABxAAAAAAAAAAAAAAAAAAAAAAA==\",\"dtype\":\"float64\",\"order\":\"little\",\"shape\":[8]},\"housing_std\":{\"__ndarray__\":\"S7Yhgn1yMUAXNo0ep20uQJpnJVg22iZAkd5UqiShMkAhOuCPU8UoQCldOSdSAitAGFsNJKbaK0BVwJnx1QkzQA==\",\"dtype\":\"float64\",\"order\":\"little\",\"shape\":[8]},\"med_rent_25%\":{\"__ndarray__\":\"AAAAAACIi0AAAAAAAGyRQAAAAAAAAAAAAAAAAABKjEAAAAAAAB2SQAAAAAAAAAAAAAAAAAAAAAAAAAAAAAAAAA==\",\"dtype\":\"float64\",\"order\":\"little\",\"shape\":[8]},\"med_rent_50%\":{\"__ndarray__\":\"AAAAAAASkUAAAAAAADSUQAAAAAAAAAAAAAAAAACUmEAAAAAAAJyVQAAAAAAAbpBAAAAAAABokUAAAAAAAKCTQA==\",\"dtype\":\"float64\",\"order\":\"little\",\"shape\":[8]},\"med_rent_75%\":{\"__ndarray__\":\"AAAAAABHk0AAAAAAALCXQAAAAAAArJZAAAAAAIDVoUAAAAAAAIyYQAAAAAAAV5RAAAAAAACYlkAAAAAAADSZQA==\",\"dtype\":\"float64\",\"order\":\"little\",\"shape\":[8]},\"med_rent_count\":{\"__ndarray__\":\"AAAAAAAIkkAAAAAAAEigQAAAAAAA3JFAAAAAAABIkkAAAAAAAFCbQAAAAAAAIHVAAAAAAABgaUAAAAAAAPiFQA==\",\"dtype\":\"float64\",\"order\":\"little\",\"shape\":[8]},\"med_rent_max\":{\"__ndarray__\":\"AAAAAABgokAAAAAAAEiqQAAAAAAAWqtAAAAAAABaq0AAAAAAAFqrQAAAAAAA5KRAAAAAAABkqEAAAAAAAFqrQA==\",\"dtype\":\"float64\",\"order\":\"little\",\"shape\":[8]},\"med_rent_mean\":{\"__ndarray__\":\"/AduCK0uj0Aj+I/DYlKUQHF/MbWhyoNAvcmbvMk7mEAbymsorxOTQOYo3b6yrolANt8NP6rbi0Ar9qSFryaRQA==\",\"dtype\":\"float64\",\"order\":\"little\",\"shape\":[8]},\"med_rent_min\":{\"__ndarray__\":\"AAAAAAAAAAAAAAAAAAAAAAAAAAAAAAAAAAAAAAAAAAAAAAAAAAAAAAAAAAAAAAAAAAAAAAAAAAAAAAAAAAAAAA==\",\"dtype\":\"float64\",\"order\":\"little\",\"shape\":[8]},\"med_rent_std\":{\"__ndarray__\":\"B4AyB4sZekC37pctlTaBQPAVuJRupotA/IsfgdTDjUA3LXt9ZqiCQJRTjoPRT4RAzAyanlYNiEDS1GrfpEyKQA==\",\"dtype\":\"float64\",\"order\":\"little\",\"shape\":[8]},\"neighborhood_25%\":{\"__ndarray__\":\"AAAAAACAU0AAAAAAAMBSQAAAAAAAgFBAAAAAAADAVUAAAAAAAMBRQAAAAAAAIE1AAAAAAAAATEAAAAAAAABPQA==\",\"dtype\":\"float64\",\"order\":\"little\",\"shape\":[8]},\"neighborhood_50%\":{\"__ndarray__\":\"AAAAAACAVUAAAAAAAABUQAAAAAAAgFFAAAAAAACAVkAAAAAAAEBTQAAAAAAAgE9AAAAAAAAATkAAAAAAAMBRQA==\",\"dtype\":\"float64\",\"order\":\"little\",\"shape\":[8]},\"neighborhood_75%\":{\"__ndarray__\":\"AAAAAACAVkAAAAAAAABVQAAAAAAAwFJAAAAAAABAV0AAAAAAAIBUQAAAAAAAAFFAAAAAAAAgUEAAAAAAAEBTQA==\",\"dtype\":\"float64\",\"order\":\"little\",\"shape\":[8]},\"neighborhood_count\":{\"__ndarray__\":\"AAAAAAAIkkAAAAAAAEigQAAAAAAA3JFAAAAAAABIkkAAAAAAAFCbQAAAAAAAIHVAAAAAAABgaUAAAAAAAPiFQA==\",\"dtype\":\"float64\",\"order\":\"little\",\"shape\":[8]},\"neighborhood_max\":{\"__ndarray__\":\"AAAAAADAWEAAAAAAAIBXQAAAAAAAQFZAAAAAAAAAWUAAAAAAAABYQAAAAAAAgFRAAAAAAACAVEAAAAAAAEBXQA==\",\"dtype\":\"float64\",\"order\":\"little\",\"shape\":[8]},\"neighborhood_mean\":{\"__ndarray__\":\"W7LuZhjJVECihv6qhKJTQKOmqClqilFADudwDufwVUAFezb3MvVSQBLUVIg2/E5ArGhnSq8/TkDQPOe7BE1RQA==\",\"dtype\":\"float64\",\"order\":\"little\",\"shape\":[8]},\"neighborhood_min\":{\"__ndarray__\":\"AAAAAACAQEAAAAAAAAA3QAAAAAAAADNAAAAAAAAAQkAAAAAAAAAyQAAAAAAAADJAAAAAAAAAREAAAAAAAAA7QA==\",\"dtype\":\"float64\",\"order\":\"little\",\"shape\":[8]},\"neighborhood_std\":{\"__ndarray__\":\"91r54ObGI0Db0WR0tzIgQEKtjG++uCBAMSEpNawZI0Cv7v4P17ohQDiRbMbc8SJA5Ma6JR2AHkB+DMM4hXomQA==\",\"dtype\":\"float64\",\"order\":\"little\",\"shape\":[8]},\"opportunity_25%\":{\"__ndarray__\":\"AAAAAAAAQkAAAAAAAAA/QAAAAAAAAE1AAAAAAAAAKEAAAAAAAABFQAAAAAAAAEhAAAAAAAAAR0AAAAAAAIBAQA==\",\"dtype\":\"float64\",\"order\":\"little\",\"shape\":[8]},\"opportunity_50%\":{\"__ndarray__\":\"AAAAAACAREAAAAAAAIBCQAAAAAAAAFBAAAAAAAAAMkAAAAAAAIBIQAAAAAAAAEtAAAAAAAAATUAAAAAAAIBEQA==\",\"dtype\":\"float64\",\"order\":\"little\",\"shape\":[8]},\"opportunity_75%\":{\"__ndarray__\":\"AAAAAACARkAAAAAAAABFQAAAAAAAQFFAAAAAAAAAN0AAAAAAAABMQAAAAAAAgE1AAAAAAADAUEAAAAAAAIBIQA==\",\"dtype\":\"float64\",\"order\":\"little\",\"shape\":[8]},\"opportunity_count\":{\"__ndarray__\":\"AAAAAAAIkkAAAAAAAEigQAAAAAAA3JFAAAAAAABIkkAAAAAAAFCbQAAAAAAAIHVAAAAAAABgaUAAAAAAAPiFQA==\",\"dtype\":\"float64\",\"order\":\"little\",\"shape\":[8]},\"opportunity_max\":{\"__ndarray__\":\"AAAAAAAATUAAAAAAAABMQAAAAAAAQFVAAAAAAACAQ0AAAAAAAIBSQAAAAAAAQFJAAAAAAAAAVUAAAAAAAABRQA==\",\"dtype\":\"float64\",\"order\":\"little\",\"shape\":[8]},\"opportunity_mean\":{\"__ndarray__\":\"z6721CD2Q0AOxCkTUcNBQNLaCcxXSE9ARmd0Rmd0MUDnXqbUYVVIQJmjdPvKKkpAtDOl118cTECMQbQvw5hEQA==\",\"dtype\":\"float64\",\"order\":\"little\",\"shape\":[8]},\"opportunity_min\":{\"__ndarray__\":\"AAAAAAAACEAAAAAAAAAUQAAAAAAAADpAAAAAAAAAAAAAAAAAAAAqQAAAAAAAADxAAAAAAAAAO0AAAAAAAAAUQA==\",\"dtype\":\"float64\",\"order\":\"little\",\"shape\":[8]},\"opportunity_std\":{\"__ndarray__\":\"6wADhMMtIEC8w3RVWqghQBIjSlnvDSNAAyTdjwYiIUCwdCaNl0cjQHvfI0SnICRATf/woTcsK0Bj+Iiwbs0mQA==\",\"dtype\":\"float64\",\"order\":\"little\",\"shape\":[8]},\"total_score_25%\":{\"__ndarray__\":\"btu2bdu2SkDbtm3btu1LQEmSJEmSpEtAAAAAAACATUC3bdu2bVtLQJIkSZIkyUhASZIkSZJkSEAAAAAAAABJQA==\",\"dtype\":\"float64\",\"order\":\"little\",\"shape\":[8]},\"total_score_50%\":{\"__ndarray__\":\"JUmSJEkSTEDbtm3btu1MQJIkSZIkyUxAt23btm3bTkAlSZIkSZJMQEmSJEmSJEpASZIkSZKkSUCSJEmSJElKQA==\",\"dtype\":\"float64\",\"order\":\"little\",\"shape\":[8]},\"total_score_75%\":{\"__ndarray__\":\"kiRJkiRJTUAAAAAAAABOQLdt27Zt201AkiRJkiTJT0AlSZIkSZJNQG7btm3bNktAbtu2bdu2SkBJkiRJkuRLQA==\",\"dtype\":\"float64\",\"order\":\"little\",\"shape\":[8]},\"total_score_count\":{\"__ndarray__\":\"AAAAAAAIkkAAAAAAAEigQAAAAAAA3JFAAAAAAABIkkAAAAAAAFCbQAAAAAAAIHVAAAAAAABgaUAAAAAAAPiFQA==\",\"dtype\":\"float64\",\"order\":\"little\",\"shape\":[8]},\"total_score_max\":{\"__ndarray__\":\"btu2bdt2UEBJkiRJkuRQQEmSJEmSpFFAAAAAAABAUkC3bdu2bdtQQG7btm3btk5A27Zt27YtUEBJkiRJkiRRQA==\",\"dtype\":\"float64\",\"order\":\"little\",\"shape\":[8]},\"total_score_mean\":{\"__ndarray__\":\"foBDcdPIS0CmHvWkrthMQAy9K2npwUxAXO3UTu0UTkBY7ChNgklMQCEUfYI7s0lABsTAmnmRSUDsZ8uKNH5KQA==\",\"dtype\":\"float64\",\"order\":\"little\",\"shape\":[8]},\"total_score_min\":{\"__ndarray__\":\"JUmSJEkSQkC3bdu2bVtDQNu2bdu2bUdASZIkSZKkQEAlSZIkSZJDQAAAAAAAgEFAJUmSJEkSRUDbtm3btm1EQA==\",\"dtype\":\"float64\",\"order\":\"little\",\"shape\":[8]},\"total_score_std\":{\"__ndarray__\":\"S1V7eyINEkAj0hnK7r8NQA3MqKQ/iwxAjworYHknGEB9CCbt0j8QQPusiyFJNBJAepDNt3GvDEDEJO1AZCQRQA==\",\"dtype\":\"float64\",\"order\":\"little\",\"shape\":[8]},\"transportation_25%\":{\"__ndarray__\":\"AAAAAAAAVUAAAAAAAMBVQAAAAAAAgEhAAAAAAABAV0AAAAAAAMBTQAAAAAAAQFBAAAAAAACARkAAAAAAAIBHQA==\",\"dtype\":\"float64\",\"order\":\"little\",\"shape\":[8]},\"transportation_50%\":{\"__ndarray__\":\"AAAAAAAAV0AAAAAAAABXQAAAAAAAAEtAAAAAAAAAWUAAAAAAAEBVQAAAAAAAgFJAAAAAAACASEAAAAAAAIBLQA==\",\"dtype\":\"float64\",\"order\":\"little\",\"shape\":[8]},\"transportation_75%\":{\"__ndarray__\":\"AAAAAADAWEAAAAAAAABYQAAAAAAAAE1AAAAAAAAAWUAAAAAAAABXQAAAAAAAgFNAAAAAAABAS0AAAAAAAIBPQA==\",\"dtype\":\"float64\",\"order\":\"little\",\"shape\":[8]},\"transportation_count\":{\"__ndarray__\":\"AAAAAAAIkkAAAAAAAEigQAAAAAAA3JFAAAAAAABIkkAAAAAAAFCbQAAAAAAAIHVAAAAAAABgaUAAAAAAAPiFQA==\",\"dtype\":\"float64\",\"order\":\"little\",\"shape\":[8]},\"transportation_max\":{\"__ndarray__\":\"AAAAAAAAWUAAAAAAAABZQAAAAAAAQFRAAAAAAAAAWUAAAAAAAABZQAAAAAAAwFZAAAAAAADAUkAAAAAAAIBWQA==\",\"dtype\":\"float64\",\"order\":\"little\",\"shape\":[8]},\"transportation_mean\":{\"__ndarray__\":\"jz6zbEtWVkBBnDIRNZRWQE+n0+l0ukpAwAEcwAFcV0DFU00MH/9UQEfp9pXVu1FAHH5Ul5i1SECHdEBxd8hLQA==\",\"dtype\":\"float64\",\"order\":\"little\",\"shape\":[8]},\"transportation_min\":{\"__ndarray__\":\"AAAAAAAAQEAAAAAAAIBAQAAAAAAAADlAAAAAAACAQUAAAAAAAABCQAAAAAAAAD1AAAAAAAAANkAAAAAAAAA5QA==\",\"dtype\":\"float64\",\"order\":\"little\",\"shape\":[8]},\"transportation_std\":{\"__ndarray__\":\"tBvv1Iv4JUBOlqabUgEhQDdCAwtBxCBAI5jcMUFtKkBKYfeVo8QmQJIsaxK7NyVAwx2545NUIEAJkPWjgisnQA==\",\"dtype\":\"float64\",\"order\":\"little\",\"shape\":[8]}},\"selected\":{\"id\":\"27445\"},\"selection_policy\":{\"id\":\"27444\"}},\"id\":\"27396\",\"type\":\"ColumnDataSource\"},{\"attributes\":{\"overlay\":{\"id\":\"27421\"}},\"id\":\"27417\",\"type\":\"BoxZoomTool\"},{\"attributes\":{\"fill_alpha\":{\"value\":0.1},\"fill_color\":{\"value\":\"#ffffbf\"},\"line_alpha\":{\"value\":0.1},\"line_color\":{\"value\":\"#ffffbf\"},\"top\":{\"field\":\"housing_mean\"},\"width\":{\"value\":0.1},\"x\":{\"field\":\"county_name\",\"transform\":{\"id\":\"27478\"}}},\"id\":\"27481\",\"type\":\"VBar\"},{\"attributes\":{\"below\":[{\"id\":\"27408\"}],\"center\":[{\"id\":\"27410\"},{\"id\":\"27414\"},{\"id\":\"27446\"}],\"extra_y_ranges\":{\"rent\":{\"id\":\"27538\"}},\"left\":[{\"id\":\"27411\"}],\"plot_height\":350,\"plot_width\":900,\"renderers\":[{\"id\":\"27436\"},{\"id\":\"27452\"},{\"id\":\"27467\"},{\"id\":\"27482\"},{\"id\":\"27497\"},{\"id\":\"27512\"},{\"id\":\"27527\"},{\"id\":\"27543\"}],\"right\":[{\"id\":\"27539\"}],\"title\":{\"id\":\"27398\"},\"toolbar\":{\"id\":\"27423\"},\"toolbar_location\":null,\"x_range\":{\"id\":\"27400\"},\"x_scale\":{\"id\":\"27404\"},\"y_range\":{\"id\":\"27431\"},\"y_scale\":{\"id\":\"27406\"}},\"id\":\"27397\",\"subtype\":\"Figure\",\"type\":\"Plot\"},{\"attributes\":{\"range\":{\"id\":\"27400\"},\"value\":0.24},\"id\":\"27508\",\"type\":\"Dodge\"},{\"attributes\":{\"fill_color\":{\"value\":\"#e0f3f8\"},\"line_color\":{\"value\":\"#e0f3f8\"},\"top\":{\"field\":\"opportunity_mean\"},\"width\":{\"value\":0.1},\"x\":{\"field\":\"county_name\",\"transform\":{\"id\":\"27493\"}}},\"id\":\"27495\",\"type\":\"VBar\"},{\"attributes\":{},\"id\":\"27419\",\"type\":\"ResetTool\"},{\"attributes\":{\"axis\":{\"id\":\"27408\"},\"ticker\":null},\"id\":\"27410\",\"type\":\"Grid\"},{\"attributes\":{\"axis_label\":\"Livability Score\",\"formatter\":{\"id\":\"27440\"},\"ticker\":{\"id\":\"27412\"}},\"id\":\"27411\",\"type\":\"LinearAxis\"},{\"attributes\":{\"data_source\":{\"id\":\"27396\"},\"glyph\":{\"id\":\"27480\"},\"hover_glyph\":null,\"muted_glyph\":null,\"nonselection_glyph\":{\"id\":\"27481\"},\"selection_glyph\":null,\"view\":{\"id\":\"27483\"}},\"id\":\"27482\",\"type\":\"GlyphRenderer\"},{\"attributes\":{},\"id\":\"27409\",\"type\":\"CategoricalTicker\"},{\"attributes\":{},\"id\":\"27440\",\"type\":\"BasicTickFormatter\"}],\"root_ids\":[\"27549\"]},\"title\":\"Bokeh Application\",\"version\":\"2.2.2\"}};\n",
       "  var render_items = [{\"docid\":\"d1adce34-078c-4be2-8350-359c97fbebca\",\"root_ids\":[\"27549\"],\"roots\":{\"27549\":\"0064c267-639b-43c8-860a-96774e5ec69f\"}}];\n",
       "  root.Bokeh.embed.embed_items_notebook(docs_json, render_items);\n",
       "\n",
       "  }\n",
       "  if (root.Bokeh !== undefined) {\n",
       "    embed_document(root);\n",
       "  } else {\n",
       "    var attempts = 0;\n",
       "    var timer = setInterval(function(root) {\n",
       "      if (root.Bokeh !== undefined) {\n",
       "        clearInterval(timer);\n",
       "        embed_document(root);\n",
       "      } else {\n",
       "        attempts++;\n",
       "        if (attempts > 100) {\n",
       "          clearInterval(timer);\n",
       "          console.log(\"Bokeh: ERROR: Unable to run BokehJS code because BokehJS library is missing\");\n",
       "        }\n",
       "      }\n",
       "    }, 10, root)\n",
       "  }\n",
       "})(window);"
      ],
      "application/vnd.bokehjs_exec.v0+json": ""
     },
     "metadata": {
      "application/vnd.bokehjs_exec.v0+json": {
       "id": "27549"
      }
     },
     "output_type": "display_data"
    }
   ],
   "source": [
    "# output_file(\"bar_mixed.html\")\n",
    "# tot_ny['rent_tenth'] = tot_ny['med_rent'] / 10\n",
    "main_by_county = ny_metro[['county_name', 'med_rent'] + tot_lst].groupby('county_name')\n",
    "source = ColumnDataSource(main_by_county)\n",
    "\n",
    "colors = ('#440154', '#d73027', '#fc8d59', '#fee090', '#ffffbf', '#e0f3f8', '#91bfdb', '#4575b4')\n",
    "\n",
    "p = figure(x_range=main_by_county, plot_width=900, plot_height=350, title='Metro New York Area', \n",
    "           x_axis_label='County', \n",
    "           y_axis_label='Livability Score', \n",
    "           toolbar_location=None, tooltips=[('median rent', '$''@med_rent_mean')])\n",
    "\n",
    "p.y_range = Range1d(0, 120)\n",
    "# p.vbar(x=dodge('county_name', -1, range=p.x_range), top='total_score_mean', width=0.2, source=source, color=colors[0])\n",
    "p.vbar(x=dodge('county_name', -0.36, range=p.x_range), top='engagement_mean', width=0.1, source=source, color=colors[1], legend_label='engagement')\n",
    "p.vbar(x=dodge('county_name', -0.24, range=p.x_range), top='environment_mean', width=0.1, source=source, color=colors[2], legend_label='environment')\n",
    "p.vbar(x=dodge('county_name', -0.12, range=p.x_range), top='health_mean', width=0.1, source=source, color=colors[3], legend_label='health')\n",
    "p.vbar(x=dodge('county_name', 0.0, range=p.x_range), top='housing_mean', width=0.1, source=source, color=colors[4], legend_label='housing')\n",
    "p.vbar(x=dodge('county_name', 0.12, range=p.x_range), top='opportunity_mean', width=0.1, source=source, color=colors[5], legend_label='opportunity')\n",
    "p.vbar(x=dodge('county_name', 0.24, range=p.x_range), top='neighborhood_mean', width=0.1, source=source, color=colors[6], legend_label='neighborhood')\n",
    "p.vbar(x=dodge('county_name', 0.36, range=p.x_range), top='transportation_mean', width=0.1, source=source, color=colors[7], legend_label='transportation')\n",
    "\n",
    "p.x_range.range_padding = 0.01\n",
    "p.legend.location = 'top_left'\n",
    "p.legend.orientation = 'horizontal'\n",
    "\n",
    "# Add the median rent line\n",
    "p.extra_y_ranges = {'rent': Range1d(start=100, end=2000)}\n",
    "p.add_layout(LinearAxis(y_range_name='rent', axis_label='Median Rent'), 'right')\n",
    "\n",
    "rent_line = p.line(x='county_name', y='med_rent_mean', color='darkolivegreen', line_width=1, line_dash='solid', source=source, y_range_name= 'rent')\n",
    "toggle = Toggle(label='median rent by county', button_type=\"success\", active=True)\n",
    "toggle.js_link('active', rent_line, 'visible')\n",
    "\n",
    "show(layout([p], [toggle]))"
   ]
  },
  {
   "cell_type": "code",
   "execution_count": null,
   "metadata": {},
   "outputs": [],
   "source": []
  },
  {
   "cell_type": "code",
   "execution_count": null,
   "metadata": {},
   "outputs": [],
   "source": []
  },
  {
   "cell_type": "code",
   "execution_count": null,
   "metadata": {},
   "outputs": [],
   "source": []
  },
  {
   "cell_type": "code",
   "execution_count": null,
   "metadata": {},
   "outputs": [],
   "source": []
  },
  {
   "cell_type": "code",
   "execution_count": null,
   "metadata": {},
   "outputs": [],
   "source": []
  },
  {
   "cell_type": "code",
   "execution_count": null,
   "metadata": {},
   "outputs": [],
   "source": []
  },
  {
   "cell_type": "markdown",
   "metadata": {},
   "source": [
    "- **Map plot**"
   ]
  },
  {
   "cell_type": "code",
   "execution_count": 422,
   "metadata": {},
   "outputs": [],
   "source": [
    "tot_nyc = tot_ny[tot_ny['county_name'].isin(['Kings County', 'Queens County', 'Bronx County', 'New York County', 'Richmond County'])]"
   ]
  },
  {
   "cell_type": "code",
   "execution_count": 408,
   "metadata": {},
   "outputs": [],
   "source": [
    "# Input GeoJSON source that contains features for plotting\n",
    "geosource = GeoJSONDataSource(geojson = tot_nyc.to_json())\n",
    "\n",
    "# Define color palettes\n",
    "palette = brewer['Blues'][8]\n",
    "palette = palette[::-1] # reverse order of colors so higher values have darker colors\n",
    "# Instantiate LinearColorMapper that linearly maps numbers in a range, into a sequence of colors.\n",
    "color_mapper = LinearColorMapper(palette = palette, low = 0, high = 4000)\n",
    "# Define custom tick labels for color bar.\n",
    "tick_labels = {'0': '0',\n",
    " '500':'750', '1000':'1,000', \n",
    " '1250':'1,250', '1500':'1,500',\n",
    " '1750':'1,750', '2000':'2,000', \n",
    " '2250':'2,250', '2500':'2,500',\n",
    " '2750':'2,750', '3000':'3,000', \n",
    " '3250':'3,250', '3500':'3,500',\n",
    " '3750':'3,750+'}\n",
    "# Create color bar.\n",
    "color_bar = ColorBar(color_mapper = color_mapper, \n",
    "                     label_standoff = 8,\n",
    "                     width = 500, height = 20,\n",
    "                     border_line_color = None,\n",
    "                     location = (0,0), \n",
    "                     orientation = 'horizontal',\n",
    "                     major_label_overrides = tick_labels)\n",
    "# Create figure object.\n",
    "p = figure(title = 'Median Rent in New York City, 2013-2018', \n",
    "           plot_height = 1500, plot_width = 1500, \n",
    "           toolbar_location = 'below',\n",
    "           tools = 'pan, wheel_zoom, box_zoom, reset')\n",
    "p.xgrid.grid_line_color = None\n",
    "p.ygrid.grid_line_color = None\n",
    "# Add patch renderer to figure.\n",
    "blockgroups = p.patches('xs','ys', source = geosource,\n",
    "                   fill_color = {'field' :'med_rent',\n",
    "                                 'transform' : color_mapper},\n",
    "                   line_color = 'gray', \n",
    "                   line_width = 0.25, \n",
    "                   fill_alpha = 1)\n",
    "# Create hover tool\n",
    "p.add_tools(HoverTool(renderers = [blockgroups],\n",
    "                      tooltips = [('NeighborID','@GEOID'),\n",
    "                               ('Median Rent', '@med_rent')]))\n",
    "# Specify layout\n",
    "p.add_layout(color_bar, 'below')\n",
    "show(p)"
   ]
  },
  {
   "cell_type": "code",
   "execution_count": 424,
   "metadata": {},
   "outputs": [],
   "source": [
    "# Input GeoJSON source that contains features for plotting\n",
    "geosource = GeoJSONDataSource(geojson = tot_nyc.to_json())\n",
    "\n",
    "# Define color palettes\n",
    "palette = brewer['Purples'][8]\n",
    "palette = palette[::-1] # reverse order of colors so higher values have darker colors\n",
    "# Instantiate LinearColorMapper that linearly maps numbers in a range, into a sequence of colors.\n",
    "color_mapper = LinearColorMapper(palette = palette, low = 0, high = 100)\n",
    "# Define custom tick labels for color bar.\n",
    "tick_labels = {'0': '0',\n",
    " '10':'10', '20':'20', \n",
    " '30':'30', '40':'40',\n",
    " '50':'50', '60':'60', \n",
    " '70':'70', '80':'80',\n",
    " '90':'90', '100':'100'}\n",
    "# Create color bar.\n",
    "color_bar = ColorBar(color_mapper = color_mapper, \n",
    "                     label_standoff = 8,\n",
    "                     width = 500, height = 20,\n",
    "                     border_line_color = None,\n",
    "                     location = (0,0), \n",
    "                     orientation = 'horizontal',\n",
    "                     major_label_overrides = tick_labels)\n",
    "# Create figure object.\n",
    "p = figure(title = 'Neighborhood Ratings in New York City', \n",
    "           plot_height = 1500, plot_width = 1500, \n",
    "           toolbar_location = 'below',\n",
    "           tools = 'pan, wheel_zoom, box_zoom, reset')\n",
    "p.xgrid.grid_line_color = None\n",
    "p.ygrid.grid_line_color = None\n",
    "# Add patch renderer to figure.\n",
    "blockgroups = p.patches('xs','ys', source = geosource,\n",
    "                   fill_color = {'field' :'neighborhood',\n",
    "                                 'transform' : color_mapper},\n",
    "                   line_color = 'gray', \n",
    "                   line_width = 0.25, \n",
    "                   fill_alpha = 1)\n",
    "\n",
    "# Create hover tool\n",
    "p.add_tools(HoverTool(renderers = [blockgroups],\n",
    "                      tooltips = [('NeighborID','@GEOID'),\n",
    "                               ('Neighborhood Rating', '@neighborhood')]))\n",
    "# Specify layout\n",
    "p.add_layout(color_bar, 'below')\n",
    "show(p)"
   ]
  },
  {
   "cell_type": "code",
   "execution_count": 392,
   "metadata": {},
   "outputs": [
    {
     "data": {
      "text/html": [
       "<div>\n",
       "<style scoped>\n",
       "    .dataframe tbody tr th:only-of-type {\n",
       "        vertical-align: middle;\n",
       "    }\n",
       "\n",
       "    .dataframe tbody tr th {\n",
       "        vertical-align: top;\n",
       "    }\n",
       "\n",
       "    .dataframe thead th {\n",
       "        text-align: right;\n",
       "    }\n",
       "</style>\n",
       "<table border=\"1\" class=\"dataframe\">\n",
       "  <thead>\n",
       "    <tr style=\"text-align: right;\">\n",
       "      <th></th>\n",
       "      <th>med_rent</th>\n",
       "      <th>engagement</th>\n",
       "      <th>environment</th>\n",
       "      <th>health</th>\n",
       "      <th>housing</th>\n",
       "      <th>neighborhood</th>\n",
       "      <th>opportunity</th>\n",
       "      <th>transportation</th>\n",
       "    </tr>\n",
       "  </thead>\n",
       "  <tbody>\n",
       "    <tr>\n",
       "      <th>count</th>\n",
       "      <td>11942.000000</td>\n",
       "      <td>11942.000000</td>\n",
       "      <td>11942.000000</td>\n",
       "      <td>11942.000000</td>\n",
       "      <td>11942.000000</td>\n",
       "      <td>11942.000000</td>\n",
       "      <td>11942.000000</td>\n",
       "      <td>11942.000000</td>\n",
       "    </tr>\n",
       "    <tr>\n",
       "      <th>mean</th>\n",
       "      <td>1176.590437</td>\n",
       "      <td>48.436861</td>\n",
       "      <td>54.867275</td>\n",
       "      <td>50.028638</td>\n",
       "      <td>48.609111</td>\n",
       "      <td>66.653408</td>\n",
       "      <td>46.050410</td>\n",
       "      <td>71.961480</td>\n",
       "    </tr>\n",
       "    <tr>\n",
       "      <th>std</th>\n",
       "      <td>563.295446</td>\n",
       "      <td>11.019149</td>\n",
       "      <td>13.535150</td>\n",
       "      <td>13.617012</td>\n",
       "      <td>16.302530</td>\n",
       "      <td>18.569449</td>\n",
       "      <td>15.441686</td>\n",
       "      <td>21.239724</td>\n",
       "    </tr>\n",
       "    <tr>\n",
       "      <th>min</th>\n",
       "      <td>99.000000</td>\n",
       "      <td>19.000000</td>\n",
       "      <td>5.000000</td>\n",
       "      <td>18.000000</td>\n",
       "      <td>0.000000</td>\n",
       "      <td>17.000000</td>\n",
       "      <td>0.000000</td>\n",
       "      <td>20.000000</td>\n",
       "    </tr>\n",
       "    <tr>\n",
       "      <th>25%</th>\n",
       "      <td>717.000000</td>\n",
       "      <td>41.000000</td>\n",
       "      <td>47.000000</td>\n",
       "      <td>39.000000</td>\n",
       "      <td>38.000000</td>\n",
       "      <td>54.000000</td>\n",
       "      <td>36.000000</td>\n",
       "      <td>53.000000</td>\n",
       "    </tr>\n",
       "    <tr>\n",
       "      <th>50%</th>\n",
       "      <td>1140.000000</td>\n",
       "      <td>47.000000</td>\n",
       "      <td>58.000000</td>\n",
       "      <td>51.000000</td>\n",
       "      <td>48.000000</td>\n",
       "      <td>70.000000</td>\n",
       "      <td>45.000000</td>\n",
       "      <td>75.000000</td>\n",
       "    </tr>\n",
       "    <tr>\n",
       "      <th>75%</th>\n",
       "      <td>1458.000000</td>\n",
       "      <td>56.000000</td>\n",
       "      <td>66.000000</td>\n",
       "      <td>58.000000</td>\n",
       "      <td>57.000000</td>\n",
       "      <td>82.000000</td>\n",
       "      <td>57.000000</td>\n",
       "      <td>91.000000</td>\n",
       "    </tr>\n",
       "    <tr>\n",
       "      <th>max</th>\n",
       "      <td>3501.000000</td>\n",
       "      <td>85.000000</td>\n",
       "      <td>81.000000</td>\n",
       "      <td>83.000000</td>\n",
       "      <td>100.000000</td>\n",
       "      <td>100.000000</td>\n",
       "      <td>89.000000</td>\n",
       "      <td>100.000000</td>\n",
       "    </tr>\n",
       "  </tbody>\n",
       "</table>\n",
       "</div>"
      ],
      "text/plain": [
       "           med_rent    engagement   environment        health       housing  \\\n",
       "count  11942.000000  11942.000000  11942.000000  11942.000000  11942.000000   \n",
       "mean    1176.590437     48.436861     54.867275     50.028638     48.609111   \n",
       "std      563.295446     11.019149     13.535150     13.617012     16.302530   \n",
       "min       99.000000     19.000000      5.000000     18.000000      0.000000   \n",
       "25%      717.000000     41.000000     47.000000     39.000000     38.000000   \n",
       "50%     1140.000000     47.000000     58.000000     51.000000     48.000000   \n",
       "75%     1458.000000     56.000000     66.000000     58.000000     57.000000   \n",
       "max     3501.000000     85.000000     81.000000     83.000000    100.000000   \n",
       "\n",
       "       neighborhood   opportunity  transportation  \n",
       "count  11942.000000  11942.000000    11942.000000  \n",
       "mean      66.653408     46.050410       71.961480  \n",
       "std       18.569449     15.441686       21.239724  \n",
       "min       17.000000      0.000000       20.000000  \n",
       "25%       54.000000     36.000000       53.000000  \n",
       "50%       70.000000     45.000000       75.000000  \n",
       "75%       82.000000     57.000000       91.000000  \n",
       "max      100.000000     89.000000      100.000000  "
      ]
     },
     "execution_count": 392,
     "metadata": {},
     "output_type": "execute_result"
    }
   ],
   "source": [
    "tot_ny.describe()"
   ]
  },
  {
   "cell_type": "code",
   "execution_count": null,
   "metadata": {},
   "outputs": [],
   "source": [
    "x, y\n",
    "p_df = lead_sites_geo.drop(‘geometry’, axis = 1).copy()\n",
    "sitesource = ColumnDataSource(p_df)"
   ]
  },
  {
   "cell_type": "code",
   "execution_count": null,
   "metadata": {},
   "outputs": [],
   "source": [
    "# Make a slider object to toggle the month shown\n",
    "slider = Slider(title = 'Neighborhood', \n",
    "                start = 10, end = 100, \n",
    "                step = 1, value = 10)"
   ]
  },
  {
   "cell_type": "code",
   "execution_count": null,
   "metadata": {},
   "outputs": [],
   "source": [
    "# This callback triggers the filter when the slider changes\n",
    "callback = CustomJS(args = dict(source=sitesource), \n",
    "                    code = \"\"\"source.change.emit();\"\"\")\n",
    "slider.js_on_change('value', callback)\n",
    "# Creates custom filter that selects the rows of the month based on the value in the slider\n",
    "custom_filter = CustomJSFilter(args = dict(slider = slider, \n",
    "                                           source = sitesource), \n",
    "                               code = \"\"\"\n",
    "var indices = [];\n",
    "// iterate through rows of data source and see if each satisfies some constraint\n",
    "for (var i = 0; i < source.get_length(); i++){\n",
    " if (source.data[‘Month’][i] == slider.value){\n",
    " indices.push(true);\n",
    " } else {\n",
    " indices.push(false);\n",
    " }\n",
    "}\n",
    "return indices;\n",
    "\"\"\")\n",
    "# Uses custom_filter to determine which set of sites are visible\n",
    "view = CDSView(source = sitesource, filters = [custom_filter])"
   ]
  },
  {
   "cell_type": "code",
   "execution_count": null,
   "metadata": {},
   "outputs": [],
   "source": [
    "# Plots the water sampling sites based on month in slider\n",
    "sites = p.circle('x', 'y', source = sitesource, color = 'red', \n",
    "                 size = 5, alpha = 0.3, view = view)\n",
    "# Add hover tool\n",
    "p.add_tools(HoverTool(renderers = [sites],\n",
    "                      tooltips = [('Organization', '@OrganizationFormalName'),\n",
    "                                  ('Location Type', '@MonitoringLocationTypeName'),\n",
    "                                  ('Date', '@ActivityStartDate'),\n",
    "                                  ('Lead (ug/l)', '@LeadValue_ug_l')]))\n",
    "# Make a column layout of widgetbox(slider) and plot, and add it to the current document\n",
    "layout = column(p, widgetbox(slider))\n",
    "show(layout)"
   ]
  }
 ],
 "metadata": {
  "kernelspec": {
   "display_name": "Python 3",
   "language": "python",
   "name": "python3"
  },
  "language_info": {
   "codemirror_mode": {
    "name": "ipython",
    "version": 3
   },
   "file_extension": ".py",
   "mimetype": "text/x-python",
   "name": "python",
   "nbconvert_exporter": "python",
   "pygments_lexer": "ipython3",
   "version": "3.8.3"
  }
 },
 "nbformat": 4,
 "nbformat_minor": 4
}
