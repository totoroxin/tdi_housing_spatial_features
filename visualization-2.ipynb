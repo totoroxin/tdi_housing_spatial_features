{
 "cells": [
  {
   "cell_type": "markdown",
   "metadata": {},
   "source": [
    "### read pickled data"
   ]
  },
  {
   "cell_type": "code",
   "execution_count": 1,
   "metadata": {},
   "outputs": [],
   "source": [
    "import pandas as pd\n",
    "import geopandas as gpd\n",
    "\n",
    "tot_gdf = pd.read_pickle('all_data.pkl')\n",
    "# tot_gdf"
   ]
  },
  {
   "cell_type": "code",
   "execution_count": 2,
   "metadata": {},
   "outputs": [],
   "source": [
    "tot_gdf = tot_gdf.fillna(0)"
   ]
  },
  {
   "cell_type": "code",
   "execution_count": 3,
   "metadata": {},
   "outputs": [],
   "source": [
    "tot_ny = tot_gdf[tot_gdf['state'] == '36']\n",
    "tot_nyc = tot_ny[tot_ny['county_name'].isin(['Kings County', 'Queens County', 'Bronx County', 'New York County', 'Richmond County'])]\n",
    "# tot_nyc"
   ]
  },
  {
   "cell_type": "code",
   "execution_count": 4,
   "metadata": {},
   "outputs": [],
   "source": [
    "tot_bx = tot_ny[tot_ny['county_name'] == 'Bronx County']"
   ]
  },
  {
   "cell_type": "raw",
   "metadata": {},
   "source": [
    "tot_bx[['med_rent', 'prox_markets']].describe()"
   ]
  },
  {
   "cell_type": "markdown",
   "metadata": {},
   "source": [
    "### load bokeh packages"
   ]
  },
  {
   "cell_type": "code",
   "execution_count": 5,
   "metadata": {},
   "outputs": [],
   "source": [
    "from bokeh.models import (\n",
    "    CDSView,\n",
    "    ColorBar,\n",
    "    CustomJS,\n",
    "    GeoJSONDataSource,\n",
    "    HoverTool,\n",
    "    LinearColorMapper,\n",
    ")\n",
    "from bokeh.models.widgets import Slider, Dropdown\n",
    "from bokeh.palettes import brewer\n",
    "from bokeh.plotting import figure\n",
    "from bokeh.layouts import row, column\n",
    "from bokeh.io import show, output_notebook, output_file\n",
    "from bokeh.resources import CDN\n",
    "\n",
    "# output_notebook()"
   ]
  },
  {
   "cell_type": "code",
   "execution_count": 6,
   "metadata": {},
   "outputs": [],
   "source": [
    "PLOT_WIDTH = 1200\n",
    "PLOT_HEIGHT = 1200\n",
    "\n",
    "# Define color palettes\n",
    "palette = brewer['BuGn'][8][::-1] # reverse order of colors so higher values have darker colors\n",
    "# Instantiate LinearColorMapper that linearly maps numbers in a range, into a sequence of colors.\n",
    "color_mapper = LinearColorMapper(palette = palette, low = 300, high = 3000)"
   ]
  },
  {
   "cell_type": "markdown",
   "metadata": {},
   "source": [
    "### visualize the prediction results with changing factors in Bronx"
   ]
  },
  {
   "cell_type": "code",
   "execution_count": 7,
   "metadata": {},
   "outputs": [],
   "source": [
    "feature_name = 'prox_markets'\n",
    "source = GeoJSONDataSource(geojson = tot_bx.to_json())\n",
    "\n",
    "# Define custom tick labels for color bar.\n",
    "tick_labels = {\n",
    "    '0': '0',\n",
    "    '1000':'1,000',\n",
    "    '1250':'1,250',\n",
    "    '1500':'1,500',\n",
    "    '1750':'1,750',\n",
    "    '2000':'2,000', \n",
    "    '2250':'2,250',\n",
    "    '2500':'2,500',\n",
    "    '2750':'2,750',\n",
    "    '3000':'3,000', \n",
    "    '3250':'3,250+'\n",
    "}\n",
    "# Create color bar.\n",
    "color_bar = ColorBar(\n",
    "    color_mapper = color_mapper, \n",
    "    label_standoff = 8,\n",
    "    width = PLOT_WIDTH,\n",
    "    height = 20,\n",
    "    border_line_color = None,\n",
    "    location = (0,0), \n",
    "    orientation = 'horizontal',\n",
    "    major_label_overrides = tick_labels\n",
    ")\n",
    "\n",
    "# Create figure object.\n",
    "p = figure(\n",
    "    title = 'Predicted Median Rent in Bronx County by Number of Markets within a Half-Mile', \n",
    "    plot_height = PLOT_HEIGHT,\n",
    "    plot_width = PLOT_WIDTH, \n",
    "    toolbar_location = 'below',\n",
    "    tools = 'pan, wheel_zoom, box_zoom, reset'\n",
    ")\n",
    "p.xgrid.grid_line_color = None\n",
    "p.ygrid.grid_line_color = None\n",
    "# Add patch renderer to figure.\n",
    "blockgroups = p.patches(\n",
    "    'xs',\n",
    "    'ys',\n",
    "    source=source,\n",
    "    fill_color={'field' :'med_rent', 'transform' : color_mapper},\n",
    "    line_color='gray', \n",
    "    line_width=0.25, \n",
    "    fill_alpha=1\n",
    ")\n",
    "# Create hover tool\n",
    "p.add_tools(\n",
    "    HoverTool(\n",
    "        renderers = [blockgroups],\n",
    "        tooltips = [('NeighborID','@GEOID'), ('Median Rent', '@med_rent'), \n",
    "                    ('Predicted Rent', '@prox_markets_2'), \n",
    "                    ('Number of Markets', '@prox_markets')]\n",
    "    )\n",
    ")\n",
    "p.add_layout(color_bar, 'below')\n",
    "\n",
    "# slider\n",
    "slider = Slider(title='Select a degree of changes for number of markets: ', start=0, end=10, value=0, step=2)\n",
    "\n",
    "# callback\n",
    "callback_code = \"\"\"\n",
    "    const degree = this.value\n",
    "    var feature_name_with_degree\n",
    "    if (degree == 0) {\n",
    "        feature_name_with_degree = 'y_pred'\n",
    "    } else {\n",
    "        feature_name_with_degree = feature_name + '_' + degree\n",
    "    }\n",
    "    blockgroups.glyph.fill_color['field'] = feature_name_with_degree;\n",
    "    console.log(feature_name_with_degree)\n",
    "    source.change.emit();\n",
    "\"\"\"\n",
    "callback = CustomJS(\n",
    "    args=dict(source=source, blockgroups=blockgroups, feature_name=feature_name),\n",
    "    code=callback_code\n",
    ")\n",
    "slider.js_on_change('value', callback)\n",
    "\n",
    "layout = column(p, slider)\n",
    "\n",
    "show(layout)\n",
    "# output_file(\"rent-vis-2.html\", title=\"Vis 2\")"
   ]
  },
  {
   "cell_type": "code",
   "execution_count": null,
   "metadata": {},
   "outputs": [],
   "source": []
  }
 ],
 "metadata": {
  "kernelspec": {
   "display_name": "Python 3",
   "language": "python",
   "name": "python3"
  },
  "language_info": {
   "codemirror_mode": {
    "name": "ipython",
    "version": 3
   },
   "file_extension": ".py",
   "mimetype": "text/x-python",
   "name": "python",
   "nbconvert_exporter": "python",
   "pygments_lexer": "ipython3",
   "version": "3.8.3"
  }
 },
 "nbformat": 4,
 "nbformat_minor": 4
}
